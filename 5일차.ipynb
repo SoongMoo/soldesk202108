{
 "cells": [
  {
   "cell_type": "code",
   "execution_count": 1,
   "id": "2db9a442",
   "metadata": {},
   "outputs": [],
   "source": [
    "import pandas as pd\n",
    "df = pd.read_csv('https://raw.githubusercontent.com/SoongMoo/soldesk202108/main/%EC%B0%B8%EA%B3%A0%EC%9E%90%EB%A3%8C/Pandas_pdf/data/scientists.csv')"
   ]
  },
  {
   "cell_type": "code",
   "execution_count": 2,
   "id": "0b039a9b",
   "metadata": {},
   "outputs": [
    {
     "name": "stdout",
     "output_type": "stream",
     "text": [
      "                   Name        Born        Died  Age          Occupation\n",
      "0     Rosaline Franklin  1920-07-25  1958-04-16   37             Chemist\n",
      "1        William Gosset  1876-06-13  1937-10-16   61        Statistician\n",
      "2  Florence Nightingale  1820-05-12  1910-08-13   90               Nurse\n",
      "3           Marie Curie  1867-11-07  1934-07-04   66             Chemist\n",
      "4         Rachel Carson  1907-05-27  1964-04-14   56           Biologist\n",
      "5             John Snow  1813-03-15  1858-06-16   45           Physician\n",
      "6           Alan Turing  1912-06-23  1954-06-07   41  Computer Scientist\n",
      "7          Johann Gauss  1777-04-30  1855-02-23   77       Mathematician\n"
     ]
    }
   ],
   "source": [
    "print(df)"
   ]
  },
  {
   "cell_type": "code",
   "execution_count": 3,
   "id": "0173411a",
   "metadata": {},
   "outputs": [
    {
     "data": {
      "text/html": [
       "<div>\n",
       "<style scoped>\n",
       "    .dataframe tbody tr th:only-of-type {\n",
       "        vertical-align: middle;\n",
       "    }\n",
       "\n",
       "    .dataframe tbody tr th {\n",
       "        vertical-align: top;\n",
       "    }\n",
       "\n",
       "    .dataframe thead th {\n",
       "        text-align: right;\n",
       "    }\n",
       "</style>\n",
       "<table border=\"1\" class=\"dataframe\">\n",
       "  <thead>\n",
       "    <tr style=\"text-align: right;\">\n",
       "      <th></th>\n",
       "      <th>Name</th>\n",
       "      <th>Born</th>\n",
       "      <th>Died</th>\n",
       "      <th>Age</th>\n",
       "      <th>Occupation</th>\n",
       "    </tr>\n",
       "  </thead>\n",
       "  <tbody>\n",
       "    <tr>\n",
       "      <th>0</th>\n",
       "      <td>Rosaline Franklin</td>\n",
       "      <td>1920-07-25</td>\n",
       "      <td>1958-04-16</td>\n",
       "      <td>37</td>\n",
       "      <td>Chemist</td>\n",
       "    </tr>\n",
       "    <tr>\n",
       "      <th>1</th>\n",
       "      <td>William Gosset</td>\n",
       "      <td>1876-06-13</td>\n",
       "      <td>1937-10-16</td>\n",
       "      <td>61</td>\n",
       "      <td>Statistician</td>\n",
       "    </tr>\n",
       "    <tr>\n",
       "      <th>2</th>\n",
       "      <td>Florence Nightingale</td>\n",
       "      <td>1820-05-12</td>\n",
       "      <td>1910-08-13</td>\n",
       "      <td>90</td>\n",
       "      <td>Nurse</td>\n",
       "    </tr>\n",
       "    <tr>\n",
       "      <th>3</th>\n",
       "      <td>Marie Curie</td>\n",
       "      <td>1867-11-07</td>\n",
       "      <td>1934-07-04</td>\n",
       "      <td>66</td>\n",
       "      <td>Chemist</td>\n",
       "    </tr>\n",
       "    <tr>\n",
       "      <th>4</th>\n",
       "      <td>Rachel Carson</td>\n",
       "      <td>1907-05-27</td>\n",
       "      <td>1964-04-14</td>\n",
       "      <td>56</td>\n",
       "      <td>Biologist</td>\n",
       "    </tr>\n",
       "  </tbody>\n",
       "</table>\n",
       "</div>"
      ],
      "text/plain": [
       "                   Name        Born        Died  Age    Occupation\n",
       "0     Rosaline Franklin  1920-07-25  1958-04-16   37       Chemist\n",
       "1        William Gosset  1876-06-13  1937-10-16   61  Statistician\n",
       "2  Florence Nightingale  1820-05-12  1910-08-13   90         Nurse\n",
       "3           Marie Curie  1867-11-07  1934-07-04   66       Chemist\n",
       "4         Rachel Carson  1907-05-27  1964-04-14   56     Biologist"
      ]
     },
     "execution_count": 3,
     "metadata": {},
     "output_type": "execute_result"
    }
   ],
   "source": [
    "df.head()"
   ]
  },
  {
   "cell_type": "code",
   "execution_count": 5,
   "id": "fb1e3ed9",
   "metadata": {},
   "outputs": [
    {
     "name": "stdout",
     "output_type": "stream",
     "text": [
      "<class 'pandas.core.frame.DataFrame'>\n"
     ]
    }
   ],
   "source": [
    "print(type(df))"
   ]
  },
  {
   "cell_type": "code",
   "execution_count": 7,
   "id": "0ba285bb",
   "metadata": {},
   "outputs": [
    {
     "name": "stdout",
     "output_type": "stream",
     "text": [
      "(8, 5)\n"
     ]
    }
   ],
   "source": [
    "print(df.shape)"
   ]
  },
  {
   "cell_type": "code",
   "execution_count": 9,
   "id": "57fd7ec5",
   "metadata": {},
   "outputs": [],
   "source": [
    "df = pd.read_csv('https://raw.githubusercontent.com/SoongMoo/soldesk202108/main/%EC%B0%B8%EA%B3%A0%EC%9E%90%EB%A3%8C/Pandas_pdf/data/gapminder.tsv',sep='\\t')"
   ]
  },
  {
   "cell_type": "code",
   "execution_count": 10,
   "id": "02878e8f",
   "metadata": {},
   "outputs": [
    {
     "name": "stdout",
     "output_type": "stream",
     "text": [
      "          country continent  year  lifeExp       pop   gdpPercap\n",
      "0     Afghanistan      Asia  1952   28.801   8425333  779.445314\n",
      "1     Afghanistan      Asia  1957   30.332   9240934  820.853030\n",
      "2     Afghanistan      Asia  1962   31.997  10267083  853.100710\n",
      "3     Afghanistan      Asia  1967   34.020  11537966  836.197138\n",
      "4     Afghanistan      Asia  1972   36.088  13079460  739.981106\n",
      "...           ...       ...   ...      ...       ...         ...\n",
      "1699     Zimbabwe    Africa  1987   62.351   9216418  706.157306\n",
      "1700     Zimbabwe    Africa  1992   60.377  10704340  693.420786\n",
      "1701     Zimbabwe    Africa  1997   46.809  11404948  792.449960\n",
      "1702     Zimbabwe    Africa  2002   39.989  11926563  672.038623\n",
      "1703     Zimbabwe    Africa  2007   43.487  12311143  469.709298\n",
      "\n",
      "[1704 rows x 6 columns]\n"
     ]
    }
   ],
   "source": [
    "print(df)"
   ]
  },
  {
   "cell_type": "code",
   "execution_count": 11,
   "id": "c8ef00e4",
   "metadata": {},
   "outputs": [
    {
     "data": {
      "text/html": [
       "<div>\n",
       "<style scoped>\n",
       "    .dataframe tbody tr th:only-of-type {\n",
       "        vertical-align: middle;\n",
       "    }\n",
       "\n",
       "    .dataframe tbody tr th {\n",
       "        vertical-align: top;\n",
       "    }\n",
       "\n",
       "    .dataframe thead th {\n",
       "        text-align: right;\n",
       "    }\n",
       "</style>\n",
       "<table border=\"1\" class=\"dataframe\">\n",
       "  <thead>\n",
       "    <tr style=\"text-align: right;\">\n",
       "      <th></th>\n",
       "      <th>country</th>\n",
       "      <th>continent</th>\n",
       "      <th>year</th>\n",
       "      <th>lifeExp</th>\n",
       "      <th>pop</th>\n",
       "      <th>gdpPercap</th>\n",
       "    </tr>\n",
       "  </thead>\n",
       "  <tbody>\n",
       "    <tr>\n",
       "      <th>0</th>\n",
       "      <td>Afghanistan</td>\n",
       "      <td>Asia</td>\n",
       "      <td>1952</td>\n",
       "      <td>28.801</td>\n",
       "      <td>8425333</td>\n",
       "      <td>779.445314</td>\n",
       "    </tr>\n",
       "    <tr>\n",
       "      <th>1</th>\n",
       "      <td>Afghanistan</td>\n",
       "      <td>Asia</td>\n",
       "      <td>1957</td>\n",
       "      <td>30.332</td>\n",
       "      <td>9240934</td>\n",
       "      <td>820.853030</td>\n",
       "    </tr>\n",
       "    <tr>\n",
       "      <th>2</th>\n",
       "      <td>Afghanistan</td>\n",
       "      <td>Asia</td>\n",
       "      <td>1962</td>\n",
       "      <td>31.997</td>\n",
       "      <td>10267083</td>\n",
       "      <td>853.100710</td>\n",
       "    </tr>\n",
       "    <tr>\n",
       "      <th>3</th>\n",
       "      <td>Afghanistan</td>\n",
       "      <td>Asia</td>\n",
       "      <td>1967</td>\n",
       "      <td>34.020</td>\n",
       "      <td>11537966</td>\n",
       "      <td>836.197138</td>\n",
       "    </tr>\n",
       "    <tr>\n",
       "      <th>4</th>\n",
       "      <td>Afghanistan</td>\n",
       "      <td>Asia</td>\n",
       "      <td>1972</td>\n",
       "      <td>36.088</td>\n",
       "      <td>13079460</td>\n",
       "      <td>739.981106</td>\n",
       "    </tr>\n",
       "  </tbody>\n",
       "</table>\n",
       "</div>"
      ],
      "text/plain": [
       "       country continent  year  lifeExp       pop   gdpPercap\n",
       "0  Afghanistan      Asia  1952   28.801   8425333  779.445314\n",
       "1  Afghanistan      Asia  1957   30.332   9240934  820.853030\n",
       "2  Afghanistan      Asia  1962   31.997  10267083  853.100710\n",
       "3  Afghanistan      Asia  1967   34.020  11537966  836.197138\n",
       "4  Afghanistan      Asia  1972   36.088  13079460  739.981106"
      ]
     },
     "execution_count": 11,
     "metadata": {},
     "output_type": "execute_result"
    }
   ],
   "source": [
    "df.head()"
   ]
  },
  {
   "cell_type": "code",
   "execution_count": 12,
   "id": "db588897",
   "metadata": {},
   "outputs": [
    {
     "data": {
      "text/html": [
       "<div>\n",
       "<style scoped>\n",
       "    .dataframe tbody tr th:only-of-type {\n",
       "        vertical-align: middle;\n",
       "    }\n",
       "\n",
       "    .dataframe tbody tr th {\n",
       "        vertical-align: top;\n",
       "    }\n",
       "\n",
       "    .dataframe thead th {\n",
       "        text-align: right;\n",
       "    }\n",
       "</style>\n",
       "<table border=\"1\" class=\"dataframe\">\n",
       "  <thead>\n",
       "    <tr style=\"text-align: right;\">\n",
       "      <th></th>\n",
       "      <th>country</th>\n",
       "      <th>continent</th>\n",
       "      <th>year</th>\n",
       "      <th>lifeExp</th>\n",
       "      <th>pop</th>\n",
       "      <th>gdpPercap</th>\n",
       "    </tr>\n",
       "  </thead>\n",
       "  <tbody>\n",
       "    <tr>\n",
       "      <th>1699</th>\n",
       "      <td>Zimbabwe</td>\n",
       "      <td>Africa</td>\n",
       "      <td>1987</td>\n",
       "      <td>62.351</td>\n",
       "      <td>9216418</td>\n",
       "      <td>706.157306</td>\n",
       "    </tr>\n",
       "    <tr>\n",
       "      <th>1700</th>\n",
       "      <td>Zimbabwe</td>\n",
       "      <td>Africa</td>\n",
       "      <td>1992</td>\n",
       "      <td>60.377</td>\n",
       "      <td>10704340</td>\n",
       "      <td>693.420786</td>\n",
       "    </tr>\n",
       "    <tr>\n",
       "      <th>1701</th>\n",
       "      <td>Zimbabwe</td>\n",
       "      <td>Africa</td>\n",
       "      <td>1997</td>\n",
       "      <td>46.809</td>\n",
       "      <td>11404948</td>\n",
       "      <td>792.449960</td>\n",
       "    </tr>\n",
       "    <tr>\n",
       "      <th>1702</th>\n",
       "      <td>Zimbabwe</td>\n",
       "      <td>Africa</td>\n",
       "      <td>2002</td>\n",
       "      <td>39.989</td>\n",
       "      <td>11926563</td>\n",
       "      <td>672.038623</td>\n",
       "    </tr>\n",
       "    <tr>\n",
       "      <th>1703</th>\n",
       "      <td>Zimbabwe</td>\n",
       "      <td>Africa</td>\n",
       "      <td>2007</td>\n",
       "      <td>43.487</td>\n",
       "      <td>12311143</td>\n",
       "      <td>469.709298</td>\n",
       "    </tr>\n",
       "  </tbody>\n",
       "</table>\n",
       "</div>"
      ],
      "text/plain": [
       "       country continent  year  lifeExp       pop   gdpPercap\n",
       "1699  Zimbabwe    Africa  1987   62.351   9216418  706.157306\n",
       "1700  Zimbabwe    Africa  1992   60.377  10704340  693.420786\n",
       "1701  Zimbabwe    Africa  1997   46.809  11404948  792.449960\n",
       "1702  Zimbabwe    Africa  2002   39.989  11926563  672.038623\n",
       "1703  Zimbabwe    Africa  2007   43.487  12311143  469.709298"
      ]
     },
     "execution_count": 12,
     "metadata": {},
     "output_type": "execute_result"
    }
   ],
   "source": [
    "df.tail()"
   ]
  },
  {
   "cell_type": "code",
   "execution_count": 13,
   "id": "68500341",
   "metadata": {},
   "outputs": [
    {
     "name": "stdout",
     "output_type": "stream",
     "text": [
      "<class 'pandas.core.frame.DataFrame'>\n"
     ]
    }
   ],
   "source": [
    "print(type(df))"
   ]
  },
  {
   "cell_type": "code",
   "execution_count": 17,
   "id": "dc71aa16",
   "metadata": {},
   "outputs": [
    {
     "name": "stdout",
     "output_type": "stream",
     "text": [
      "(1704, 6)\n",
      "1704\n",
      "6\n",
      "Index(['country', 'continent', 'year', 'lifeExp', 'pop', 'gdpPercap'], dtype='object')\n",
      "country       object\n",
      "continent     object\n",
      "year           int64\n",
      "lifeExp      float64\n",
      "pop            int64\n",
      "gdpPercap    float64\n",
      "dtype: object\n",
      "<class 'pandas.core.frame.DataFrame'>\n",
      "RangeIndex: 1704 entries, 0 to 1703\n",
      "Data columns (total 6 columns):\n",
      " #   Column     Non-Null Count  Dtype  \n",
      "---  ------     --------------  -----  \n",
      " 0   country    1704 non-null   object \n",
      " 1   continent  1704 non-null   object \n",
      " 2   year       1704 non-null   int64  \n",
      " 3   lifeExp    1704 non-null   float64\n",
      " 4   pop        1704 non-null   int64  \n",
      " 5   gdpPercap  1704 non-null   float64\n",
      "dtypes: float64(2), int64(2), object(2)\n",
      "memory usage: 80.0+ KB\n",
      "None\n"
     ]
    }
   ],
   "source": [
    "print(df.shape) # 튜플\n",
    "#행의 크기\n",
    "print(df.shape[0])\n",
    "#열의 크기\n",
    "print(df.shape[1])\n",
    "## 컬럼의 정보 확인\n",
    "print(df.columns)\n",
    "#### 컬럼의 타입 확인\n",
    "print(df.dtypes)\n",
    "#### 컬럼의 모든 정보 , \n",
    "### null이 있는지, 데이터의 갯수는 몇개인지, 자료형은 무엇인지\n",
    "print(df.info())"
   ]
  },
  {
   "cell_type": "code",
   "execution_count": 19,
   "id": "e23232bd",
   "metadata": {},
   "outputs": [
    {
     "name": "stdout",
     "output_type": "stream",
     "text": [
      "0       Afghanistan\n",
      "1       Afghanistan\n",
      "2       Afghanistan\n",
      "3       Afghanistan\n",
      "4       Afghanistan\n",
      "           ...     \n",
      "1699       Zimbabwe\n",
      "1700       Zimbabwe\n",
      "1701       Zimbabwe\n",
      "1702       Zimbabwe\n",
      "1703       Zimbabwe\n",
      "Name: country, Length: 1704, dtype: object\n",
      "<class 'pandas.core.series.Series'>\n"
     ]
    }
   ],
   "source": [
    "### 컬럼의 정보를 확인\n",
    "print(df['country'])\n",
    "\n",
    "print(type(df['country']))"
   ]
  },
  {
   "cell_type": "code",
   "execution_count": 20,
   "id": "0431d77e",
   "metadata": {},
   "outputs": [
    {
     "name": "stdout",
     "output_type": "stream",
     "text": [
      "1699    Zimbabwe\n",
      "1700    Zimbabwe\n",
      "1701    Zimbabwe\n",
      "1702    Zimbabwe\n",
      "1703    Zimbabwe\n",
      "Name: country, dtype: object\n"
     ]
    }
   ],
   "source": [
    "print(df['country'].tail())"
   ]
  },
  {
   "cell_type": "code",
   "execution_count": 21,
   "id": "9f37794d",
   "metadata": {},
   "outputs": [
    {
     "name": "stdout",
     "output_type": "stream",
     "text": [
      "0    Afghanistan\n",
      "1    Afghanistan\n",
      "2    Afghanistan\n",
      "3    Afghanistan\n",
      "4    Afghanistan\n",
      "Name: country, dtype: object\n"
     ]
    }
   ],
   "source": [
    "print(df['country'].head())"
   ]
  },
  {
   "cell_type": "code",
   "execution_count": 28,
   "id": "62db3756",
   "metadata": {},
   "outputs": [
    {
     "name": "stdout",
     "output_type": "stream",
     "text": [
      "          country continent  year\n",
      "0     Afghanistan      Asia  1952\n",
      "1     Afghanistan      Asia  1957\n",
      "2     Afghanistan      Asia  1962\n",
      "3     Afghanistan      Asia  1967\n",
      "4     Afghanistan      Asia  1972\n",
      "...           ...       ...   ...\n",
      "1699     Zimbabwe    Africa  1987\n",
      "1700     Zimbabwe    Africa  1992\n",
      "1701     Zimbabwe    Africa  1997\n",
      "1702     Zimbabwe    Africa  2002\n",
      "1703     Zimbabwe    Africa  2007\n",
      "\n",
      "[1704 rows x 3 columns]\n"
     ]
    }
   ],
   "source": [
    "print(df[['country', 'continent',  'year']])"
   ]
  },
  {
   "cell_type": "code",
   "execution_count": 27,
   "id": "cce1c2ae",
   "metadata": {},
   "outputs": [
    {
     "data": {
      "text/html": [
       "<div>\n",
       "<style scoped>\n",
       "    .dataframe tbody tr th:only-of-type {\n",
       "        vertical-align: middle;\n",
       "    }\n",
       "\n",
       "    .dataframe tbody tr th {\n",
       "        vertical-align: top;\n",
       "    }\n",
       "\n",
       "    .dataframe thead th {\n",
       "        text-align: right;\n",
       "    }\n",
       "</style>\n",
       "<table border=\"1\" class=\"dataframe\">\n",
       "  <thead>\n",
       "    <tr style=\"text-align: right;\">\n",
       "      <th></th>\n",
       "      <th>country</th>\n",
       "      <th>continent</th>\n",
       "      <th>year</th>\n",
       "      <th>lifeExp</th>\n",
       "      <th>pop</th>\n",
       "      <th>gdpPercap</th>\n",
       "    </tr>\n",
       "  </thead>\n",
       "  <tbody>\n",
       "    <tr>\n",
       "      <th>0</th>\n",
       "      <td>Afghanistan</td>\n",
       "      <td>Asia</td>\n",
       "      <td>1952</td>\n",
       "      <td>28.801</td>\n",
       "      <td>8425333</td>\n",
       "      <td>779.445314</td>\n",
       "    </tr>\n",
       "    <tr>\n",
       "      <th>1</th>\n",
       "      <td>Afghanistan</td>\n",
       "      <td>Asia</td>\n",
       "      <td>1957</td>\n",
       "      <td>30.332</td>\n",
       "      <td>9240934</td>\n",
       "      <td>820.853030</td>\n",
       "    </tr>\n",
       "    <tr>\n",
       "      <th>2</th>\n",
       "      <td>Afghanistan</td>\n",
       "      <td>Asia</td>\n",
       "      <td>1962</td>\n",
       "      <td>31.997</td>\n",
       "      <td>10267083</td>\n",
       "      <td>853.100710</td>\n",
       "    </tr>\n",
       "    <tr>\n",
       "      <th>3</th>\n",
       "      <td>Afghanistan</td>\n",
       "      <td>Asia</td>\n",
       "      <td>1967</td>\n",
       "      <td>34.020</td>\n",
       "      <td>11537966</td>\n",
       "      <td>836.197138</td>\n",
       "    </tr>\n",
       "    <tr>\n",
       "      <th>4</th>\n",
       "      <td>Afghanistan</td>\n",
       "      <td>Asia</td>\n",
       "      <td>1972</td>\n",
       "      <td>36.088</td>\n",
       "      <td>13079460</td>\n",
       "      <td>739.981106</td>\n",
       "    </tr>\n",
       "    <tr>\n",
       "      <th>...</th>\n",
       "      <td>...</td>\n",
       "      <td>...</td>\n",
       "      <td>...</td>\n",
       "      <td>...</td>\n",
       "      <td>...</td>\n",
       "      <td>...</td>\n",
       "    </tr>\n",
       "    <tr>\n",
       "      <th>1699</th>\n",
       "      <td>Zimbabwe</td>\n",
       "      <td>Africa</td>\n",
       "      <td>1987</td>\n",
       "      <td>62.351</td>\n",
       "      <td>9216418</td>\n",
       "      <td>706.157306</td>\n",
       "    </tr>\n",
       "    <tr>\n",
       "      <th>1700</th>\n",
       "      <td>Zimbabwe</td>\n",
       "      <td>Africa</td>\n",
       "      <td>1992</td>\n",
       "      <td>60.377</td>\n",
       "      <td>10704340</td>\n",
       "      <td>693.420786</td>\n",
       "    </tr>\n",
       "    <tr>\n",
       "      <th>1701</th>\n",
       "      <td>Zimbabwe</td>\n",
       "      <td>Africa</td>\n",
       "      <td>1997</td>\n",
       "      <td>46.809</td>\n",
       "      <td>11404948</td>\n",
       "      <td>792.449960</td>\n",
       "    </tr>\n",
       "    <tr>\n",
       "      <th>1702</th>\n",
       "      <td>Zimbabwe</td>\n",
       "      <td>Africa</td>\n",
       "      <td>2002</td>\n",
       "      <td>39.989</td>\n",
       "      <td>11926563</td>\n",
       "      <td>672.038623</td>\n",
       "    </tr>\n",
       "    <tr>\n",
       "      <th>1703</th>\n",
       "      <td>Zimbabwe</td>\n",
       "      <td>Africa</td>\n",
       "      <td>2007</td>\n",
       "      <td>43.487</td>\n",
       "      <td>12311143</td>\n",
       "      <td>469.709298</td>\n",
       "    </tr>\n",
       "  </tbody>\n",
       "</table>\n",
       "<p>1704 rows × 6 columns</p>\n",
       "</div>"
      ],
      "text/plain": [
       "          country continent  year  lifeExp       pop   gdpPercap\n",
       "0     Afghanistan      Asia  1952   28.801   8425333  779.445314\n",
       "1     Afghanistan      Asia  1957   30.332   9240934  820.853030\n",
       "2     Afghanistan      Asia  1962   31.997  10267083  853.100710\n",
       "3     Afghanistan      Asia  1967   34.020  11537966  836.197138\n",
       "4     Afghanistan      Asia  1972   36.088  13079460  739.981106\n",
       "...           ...       ...   ...      ...       ...         ...\n",
       "1699     Zimbabwe    Africa  1987   62.351   9216418  706.157306\n",
       "1700     Zimbabwe    Africa  1992   60.377  10704340  693.420786\n",
       "1701     Zimbabwe    Africa  1997   46.809  11404948  792.449960\n",
       "1702     Zimbabwe    Africa  2002   39.989  11926563  672.038623\n",
       "1703     Zimbabwe    Africa  2007   43.487  12311143  469.709298\n",
       "\n",
       "[1704 rows x 6 columns]"
      ]
     },
     "execution_count": 27,
     "metadata": {},
     "output_type": "execute_result"
    }
   ],
   "source": [
    "df"
   ]
  },
  {
   "cell_type": "code",
   "execution_count": 30,
   "id": "5fff1d9e",
   "metadata": {},
   "outputs": [
    {
     "name": "stdout",
     "output_type": "stream",
     "text": [
      "country      Afghanistan\n",
      "continent           Asia\n",
      "year                1952\n",
      "lifeExp           28.801\n",
      "pop              8425333\n",
      "gdpPercap     779.445314\n",
      "Name: 0, dtype: object\n"
     ]
    }
   ],
   "source": [
    "print(df.loc[0])"
   ]
  },
  {
   "cell_type": "code",
   "execution_count": 32,
   "id": "964968bc",
   "metadata": {},
   "outputs": [
    {
     "name": "stdout",
     "output_type": "stream",
     "text": [
      "country      Bangladesh\n",
      "continent          Asia\n",
      "year               1972\n",
      "lifeExp          45.252\n",
      "pop            70759295\n",
      "gdpPercap    630.233627\n",
      "Name: 100, dtype: object\n"
     ]
    }
   ],
   "source": [
    "print(df.loc[100])"
   ]
  },
  {
   "cell_type": "code",
   "execution_count": 33,
   "id": "a2997ec7",
   "metadata": {},
   "outputs": [
    {
     "name": "stdout",
     "output_type": "stream",
     "text": [
      "<class 'pandas.core.series.Series'>\n"
     ]
    }
   ],
   "source": [
    "print(type(df.loc[100]))"
   ]
  },
  {
   "cell_type": "code",
   "execution_count": 37,
   "id": "b2f5915c",
   "metadata": {},
   "outputs": [
    {
     "name": "stdout",
     "output_type": "stream",
     "text": [
      "country        Zimbabwe\n",
      "continent        Africa\n",
      "year               2007\n",
      "lifeExp          43.487\n",
      "pop            12311143\n",
      "gdpPercap    469.709298\n",
      "Name: 1703, dtype: object\n",
      "country        Zimbabwe\n",
      "continent        Africa\n",
      "year               2007\n",
      "lifeExp          43.487\n",
      "pop            12311143\n",
      "gdpPercap    469.709298\n",
      "Name: 1703, dtype: object\n"
     ]
    }
   ],
   "source": [
    "print(df.loc[1703]) # 명시적 index\n",
    "print(df.iloc[-1]) # 암시적 index"
   ]
  },
  {
   "cell_type": "code",
   "execution_count": 39,
   "id": "4b12231f",
   "metadata": {},
   "outputs": [
    {
     "name": "stdout",
     "output_type": "stream",
     "text": [
      "(1704, 6)\n",
      "country        Zimbabwe\n",
      "continent        Africa\n",
      "year               2007\n",
      "lifeExp          43.487\n",
      "pop            12311143\n",
      "gdpPercap    469.709298\n",
      "Name: 1703, dtype: object\n"
     ]
    }
   ],
   "source": [
    "print(df.shape)\n",
    "number_of_rows = df.shape[0]\n",
    "last_row_index = number_of_rows - 1\n",
    "print(df.loc[last_row_index])"
   ]
  },
  {
   "cell_type": "code",
   "execution_count": 40,
   "id": "1bac7893",
   "metadata": {},
   "outputs": [
    {
     "name": "stdout",
     "output_type": "stream",
     "text": [
      "       country continent  year  lifeExp       pop   gdpPercap\n",
      "1699  Zimbabwe    Africa  1987   62.351   9216418  706.157306\n",
      "1700  Zimbabwe    Africa  1992   60.377  10704340  693.420786\n",
      "1701  Zimbabwe    Africa  1997   46.809  11404948  792.449960\n",
      "1702  Zimbabwe    Africa  2002   39.989  11926563  672.038623\n",
      "1703  Zimbabwe    Africa  2007   43.487  12311143  469.709298\n"
     ]
    }
   ],
   "source": [
    "print(df.tail())"
   ]
  },
  {
   "cell_type": "code",
   "execution_count": 41,
   "id": "bd2ddaeb",
   "metadata": {},
   "outputs": [
    {
     "name": "stdout",
     "output_type": "stream",
     "text": [
      "       country continent  year  lifeExp       pop   gdpPercap\n",
      "1703  Zimbabwe    Africa  2007   43.487  12311143  469.709298\n"
     ]
    }
   ],
   "source": [
    "print(df.tail(n=1))"
   ]
  },
  {
   "cell_type": "code",
   "execution_count": 42,
   "id": "5c1f9bf1",
   "metadata": {},
   "outputs": [
    {
     "name": "stdout",
     "output_type": "stream",
     "text": [
      "       country continent  year  lifeExp       pop   gdpPercap\n",
      "1701  Zimbabwe    Africa  1997   46.809  11404948  792.449960\n",
      "1702  Zimbabwe    Africa  2002   39.989  11926563  672.038623\n",
      "1703  Zimbabwe    Africa  2007   43.487  12311143  469.709298\n"
     ]
    }
   ],
   "source": [
    "print(df.tail(n=3))"
   ]
  },
  {
   "cell_type": "code",
   "execution_count": 43,
   "id": "5ac94299",
   "metadata": {},
   "outputs": [
    {
     "name": "stdout",
     "output_type": "stream",
     "text": [
      "       country continent  year  lifeExp       pop   gdpPercap\n",
      "1694  Zimbabwe    Africa  1962   52.358   4277736  527.272182\n",
      "1695  Zimbabwe    Africa  1967   53.995   4995432  569.795071\n",
      "1696  Zimbabwe    Africa  1972   55.635   5861135  799.362176\n",
      "1697  Zimbabwe    Africa  1977   57.674   6642107  685.587682\n",
      "1698  Zimbabwe    Africa  1982   60.363   7636524  788.855041\n",
      "1699  Zimbabwe    Africa  1987   62.351   9216418  706.157306\n",
      "1700  Zimbabwe    Africa  1992   60.377  10704340  693.420786\n",
      "1701  Zimbabwe    Africa  1997   46.809  11404948  792.449960\n",
      "1702  Zimbabwe    Africa  2002   39.989  11926563  672.038623\n",
      "1703  Zimbabwe    Africa  2007   43.487  12311143  469.709298\n"
     ]
    }
   ],
   "source": [
    "print(df.tail(n=10))"
   ]
  },
  {
   "cell_type": "code",
   "execution_count": 44,
   "id": "071f7b5d",
   "metadata": {},
   "outputs": [
    {
     "name": "stdout",
     "output_type": "stream",
     "text": [
      "       country continent  year  lifeExp       pop   gdpPercap\n",
      "0  Afghanistan      Asia  1952   28.801   8425333  779.445314\n",
      "1  Afghanistan      Asia  1957   30.332   9240934  820.853030\n",
      "2  Afghanistan      Asia  1962   31.997  10267083  853.100710\n",
      "3  Afghanistan      Asia  1967   34.020  11537966  836.197138\n",
      "4  Afghanistan      Asia  1972   36.088  13079460  739.981106\n",
      "5  Afghanistan      Asia  1977   38.438  14880372  786.113360\n",
      "6  Afghanistan      Asia  1982   39.854  12881816  978.011439\n",
      "7  Afghanistan      Asia  1987   40.822  13867957  852.395945\n",
      "8  Afghanistan      Asia  1992   41.674  16317921  649.341395\n",
      "9  Afghanistan      Asia  1997   41.763  22227415  635.341351\n"
     ]
    }
   ],
   "source": [
    "print(df.head(n=10))"
   ]
  },
  {
   "cell_type": "code",
   "execution_count": null,
   "id": "07215d35",
   "metadata": {},
   "outputs": [],
   "source": [
    "print(df[['country', 'continent',  'year']])"
   ]
  },
  {
   "cell_type": "code",
   "execution_count": 46,
   "id": "4c3863c2",
   "metadata": {},
   "outputs": [
    {
     "name": "stdout",
     "output_type": "stream",
     "text": [
      "          country continent  year  lifeExp       pop    gdpPercap\n",
      "0     Afghanistan      Asia  1952   28.801   8425333   779.445314\n",
      "100    Bangladesh      Asia  1972   45.252  70759295   630.233627\n",
      "1000     Mongolia      Asia  1972   53.754   1320500  1421.741975\n"
     ]
    }
   ],
   "source": [
    "print(df.loc[[0,100, 1000]])"
   ]
  },
  {
   "cell_type": "code",
   "execution_count": 51,
   "id": "ac4e374d",
   "metadata": {},
   "outputs": [
    {
     "name": "stdout",
     "output_type": "stream",
     "text": [
      "country        Zimbabwe\n",
      "continent        Africa\n",
      "year               2007\n",
      "lifeExp          43.487\n",
      "pop            12311143\n",
      "gdpPercap    469.709298\n",
      "Name: 1703, dtype: object\n",
      "country      Bangladesh\n",
      "continent          Asia\n",
      "year               1967\n",
      "lifeExp          43.453\n",
      "pop            62821884\n",
      "gdpPercap    721.186086\n",
      "Name: 99, dtype: object\n",
      "country      Afghanistan\n",
      "continent           Asia\n",
      "year                1957\n",
      "lifeExp           30.332\n",
      "pop              9240934\n",
      "gdpPercap      820.85303\n",
      "Name: 1, dtype: object\n",
      "인덱스가 존재하지 않아요\n"
     ]
    }
   ],
   "source": [
    "print(df.iloc[-1])\n",
    "print(df.iloc[99])\n",
    "print(df.iloc[1])\n",
    "\n",
    "try:\n",
    "    print(df.iloc[17003])\n",
    "except:\n",
    "    print(\"인덱스가 존재하지 않아요\")\n"
   ]
  },
  {
   "cell_type": "code",
   "execution_count": 52,
   "id": "2cb07f94",
   "metadata": {},
   "outputs": [
    {
     "name": "stdout",
     "output_type": "stream",
     "text": [
      "          country continent  year  lifeExp       pop    gdpPercap\n",
      "0     Afghanistan      Asia  1952   28.801   8425333   779.445314\n",
      "100    Bangladesh      Asia  1972   45.252  70759295   630.233627\n",
      "1000     Mongolia      Asia  1972   53.754   1320500  1421.741975\n"
     ]
    }
   ],
   "source": [
    "#print(df.loc[[0,100, 1000]]) #명시적 index\n",
    "print(df.iloc[[0,100, 1000]]) # 암시적 index"
   ]
  },
  {
   "cell_type": "code",
   "execution_count": 54,
   "id": "c2779c06",
   "metadata": {},
   "outputs": [
    {
     "name": "stdout",
     "output_type": "stream",
     "text": [
      "        country continent  year  lifeExp       pop   gdpPercap\n",
      "0   Afghanistan      Asia  1952   28.801   8425333  779.445314\n",
      "1   Afghanistan      Asia  1957   30.332   9240934  820.853030\n",
      "2   Afghanistan      Asia  1962   31.997  10267083  853.100710\n",
      "3   Afghanistan      Asia  1967   34.020  11537966  836.197138\n",
      "4   Afghanistan      Asia  1972   36.088  13079460  739.981106\n",
      "5   Afghanistan      Asia  1977   38.438  14880372  786.113360\n",
      "6   Afghanistan      Asia  1982   39.854  12881816  978.011439\n",
      "7   Afghanistan      Asia  1987   40.822  13867957  852.395945\n",
      "8   Afghanistan      Asia  1992   41.674  16317921  649.341395\n",
      "9   Afghanistan      Asia  1997   41.763  22227415  635.341351\n",
      "10  Afghanistan      Asia  2002   42.129  25268405  726.734055\n"
     ]
    }
   ],
   "source": [
    "## 0행에서 10행을 출력하시오\n",
    "print(df.iloc[0:11 : ])"
   ]
  },
  {
   "cell_type": "code",
   "execution_count": 57,
   "id": "fc1717f4",
   "metadata": {},
   "outputs": [
    {
     "name": "stdout",
     "output_type": "stream",
     "text": [
      "          country  year       pop\n",
      "0     Afghanistan  1952   8425333\n",
      "1     Afghanistan  1957   9240934\n",
      "2     Afghanistan  1962  10267083\n",
      "3     Afghanistan  1967  11537966\n",
      "4     Afghanistan  1972  13079460\n",
      "...           ...   ...       ...\n",
      "1699     Zimbabwe  1987   9216418\n",
      "1700     Zimbabwe  1992  10704340\n",
      "1701     Zimbabwe  1997  11404948\n",
      "1702     Zimbabwe  2002  11926563\n",
      "1703     Zimbabwe  2007  12311143\n",
      "\n",
      "[1704 rows x 3 columns]\n",
      "          country  year       pop\n",
      "0     Afghanistan  1952   8425333\n",
      "1     Afghanistan  1957   9240934\n",
      "2     Afghanistan  1962  10267083\n",
      "3     Afghanistan  1967  11537966\n",
      "4     Afghanistan  1972  13079460\n",
      "...           ...   ...       ...\n",
      "1699     Zimbabwe  1987   9216418\n",
      "1700     Zimbabwe  1992  10704340\n",
      "1701     Zimbabwe  1997  11404948\n",
      "1702     Zimbabwe  2002  11926563\n",
      "1703     Zimbabwe  2007  12311143\n",
      "\n",
      "[1704 rows x 3 columns]\n"
     ]
    }
   ],
   "source": [
    "### 전체 행에서 country 와 year 와 pop  \n",
    "print(df[['country','year','pop']])\n",
    "print(df.loc[:,['country','year','pop']])"
   ]
  },
  {
   "cell_type": "code",
   "execution_count": 59,
   "id": "5aa2773a",
   "metadata": {},
   "outputs": [
    {
     "name": "stdout",
     "output_type": "stream",
     "text": [
      "       country  year       pop\n",
      "0  Afghanistan  1952   8425333\n",
      "1  Afghanistan  1957   9240934\n",
      "2  Afghanistan  1962  10267083\n",
      "3  Afghanistan  1967  11537966\n",
      "4  Afghanistan  1972  13079460\n"
     ]
    }
   ],
   "source": [
    "# print(df.loc[:,['country','year','pop']].head())\n",
    "subset = df.loc[:,['country','year','pop']]\n",
    "print(subset.head())"
   ]
  },
  {
   "cell_type": "code",
   "execution_count": 62,
   "id": "db08309e",
   "metadata": {},
   "outputs": [
    {
     "name": "stdout",
     "output_type": "stream",
     "text": [
      "          country  year       pop\n",
      "0     Afghanistan  1952   8425333\n",
      "1     Afghanistan  1957   9240934\n",
      "2     Afghanistan  1962  10267083\n",
      "3     Afghanistan  1967  11537966\n",
      "4     Afghanistan  1972  13079460\n",
      "...           ...   ...       ...\n",
      "1699     Zimbabwe  1987   9216418\n",
      "1700     Zimbabwe  1992  10704340\n",
      "1701     Zimbabwe  1997  11404948\n",
      "1702     Zimbabwe  2002  11926563\n",
      "1703     Zimbabwe  2007  12311143\n",
      "\n",
      "[1704 rows x 3 columns]\n"
     ]
    }
   ],
   "source": [
    "print(df.iloc[:,[0,2,4]])\n",
    "print(df.iloc[:,[0,2,4]].tail())\n",
    "print(df.iloc[:,[0,2,4]].head())"
   ]
  },
  {
   "cell_type": "code",
   "execution_count": 71,
   "id": "3934c074",
   "metadata": {},
   "outputs": [
    {
     "name": "stdout",
     "output_type": "stream",
     "text": [
      "          country continent  year  lifeExp       pop\n",
      "0     Afghanistan      Asia  1952   28.801   8425333\n",
      "1     Afghanistan      Asia  1957   30.332   9240934\n",
      "2     Afghanistan      Asia  1962   31.997  10267083\n",
      "3     Afghanistan      Asia  1967   34.020  11537966\n",
      "4     Afghanistan      Asia  1972   36.088  13079460\n",
      "...           ...       ...   ...      ...       ...\n",
      "1699     Zimbabwe    Africa  1987   62.351   9216418\n",
      "1700     Zimbabwe    Africa  1992   60.377  10704340\n",
      "1701     Zimbabwe    Africa  1997   46.809  11404948\n",
      "1702     Zimbabwe    Africa  2002   39.989  11926563\n",
      "1703     Zimbabwe    Africa  2007   43.487  12311143\n",
      "\n",
      "[1704 rows x 5 columns]\n",
      "          country continent  year  lifeExp       pop\n",
      "0     Afghanistan      Asia  1952   28.801   8425333\n",
      "1     Afghanistan      Asia  1957   30.332   9240934\n",
      "2     Afghanistan      Asia  1962   31.997  10267083\n",
      "3     Afghanistan      Asia  1967   34.020  11537966\n",
      "4     Afghanistan      Asia  1972   36.088  13079460\n",
      "...           ...       ...   ...      ...       ...\n",
      "1699     Zimbabwe    Africa  1987   62.351   9216418\n",
      "1700     Zimbabwe    Africa  1992   60.377  10704340\n",
      "1701     Zimbabwe    Africa  1997   46.809  11404948\n",
      "1702     Zimbabwe    Africa  2002   39.989  11926563\n",
      "1703     Zimbabwe    Africa  2007   43.487  12311143\n",
      "\n",
      "[1704 rows x 5 columns]\n",
      "       country continent  year  lifeExp       pop   gdpPercap\n",
      "0  Afghanistan      Asia  1952   28.801   8425333  779.445314\n",
      "1  Afghanistan      Asia  1957   30.332   9240934  820.853030\n",
      "2  Afghanistan      Asia  1962   31.997  10267083  853.100710\n",
      "3  Afghanistan      Asia  1967   34.020  11537966  836.197138\n",
      "4  Afghanistan      Asia  1972   36.088  13079460  739.981106\n",
      "       country continent  year  lifeExp       pop   gdpPercap\n",
      "0  Afghanistan      Asia  1952   28.801   8425333  779.445314\n",
      "1  Afghanistan      Asia  1957   30.332   9240934  820.853030\n",
      "2  Afghanistan      Asia  1962   31.997  10267083  853.100710\n",
      "3  Afghanistan      Asia  1967   34.020  11537966  836.197138\n",
      "4  Afghanistan      Asia  1972   36.088  13079460  739.981106\n",
      "        country continent  year  lifeExp       pop    gdpPercap\n",
      "10  Afghanistan      Asia  2002   42.129  25268405   726.734055\n",
      "11  Afghanistan      Asia  2007   43.828  31889923   974.580338\n",
      "12      Albania    Europe  1952   55.230   1282697  1601.056136\n",
      "13      Albania    Europe  1957   59.280   1476505  1942.284244\n",
      "14      Albania    Europe  1962   64.820   1728137  2312.888958\n",
      "      lifeExp       pop   gdpPercap\n",
      "0      28.801   8425333  779.445314\n",
      "1      30.332   9240934  820.853030\n",
      "2      31.997  10267083  853.100710\n",
      "3      34.020  11537966  836.197138\n",
      "4      36.088  13079460  739.981106\n",
      "...       ...       ...         ...\n",
      "1699   62.351   9216418  706.157306\n",
      "1700   60.377  10704340  693.420786\n",
      "1701   46.809  11404948  792.449960\n",
      "1702   39.989  11926563  672.038623\n",
      "1703   43.487  12311143  469.709298\n",
      "\n",
      "[1704 rows x 3 columns]\n"
     ]
    }
   ],
   "source": [
    "## 모든 행에 대해서 0열 부터 5개의 열을 가져오시오\n",
    "print(df.iloc[:,0:5])\n",
    "print(df.iloc[:, range(5)])\n",
    "## 5개의 행을 가져올 때 모든 열을 출력하시오.\n",
    "print(df.iloc[0:5,:])\n",
    "print(df.iloc[range(5), : ]) \n",
    "\n",
    "### 10번부터 5개의 행을 가져오시오.\n",
    "print(df.iloc[range(10,15), :])\n",
    "### 모든 행에 대해 3번 열부터 3개의 열을 가져오시오\n",
    "print(df.iloc[:, range(3, 6)])"
   ]
  },
  {
   "cell_type": "code",
   "execution_count": 75,
   "id": "6d6a4608",
   "metadata": {},
   "outputs": [
    {
     "name": "stdout",
     "output_type": "stream",
     "text": [
      "          country  year       pop\n",
      "0     Afghanistan  1952   8425333\n",
      "1     Afghanistan  1957   9240934\n",
      "2     Afghanistan  1962  10267083\n",
      "3     Afghanistan  1967  11537966\n",
      "4     Afghanistan  1972  13079460\n",
      "...           ...   ...       ...\n",
      "1699     Zimbabwe  1987   9216418\n",
      "1700     Zimbabwe  1992  10704340\n",
      "1701     Zimbabwe  1997  11404948\n",
      "1702     Zimbabwe  2002  11926563\n",
      "1703     Zimbabwe  2007  12311143\n",
      "\n",
      "[1704 rows x 3 columns]\n",
      "        country  year       pop\n",
      "0   Afghanistan  1952   8425333\n",
      "2   Afghanistan  1962  10267083\n",
      "4   Afghanistan  1972  13079460\n",
      "6   Afghanistan  1982  12881816\n",
      "8   Afghanistan  1992  16317921\n",
      "10  Afghanistan  2002  25268405\n",
      "12      Albania  1952   1282697\n",
      "14      Albania  1962   1728137\n",
      "16      Albania  1972   2263554\n",
      "18      Albania  1982   2780097\n"
     ]
    }
   ],
   "source": [
    "# 열을 0부터 5까지중 한칸씩 띄어서 가져오시오.\n",
    "print(df.iloc[:, range(0, 6 ,2 )])\n",
    "#행을 0부터 20개를 가져오고 열을 0부터 5까지 가져올 때 행과 열을 한카씩 띄어서\n",
    "# 가져오시오.\n",
    "print(df.iloc[range(0,20,2) ,range(0, 6,2)])"
   ]
  },
  {
   "cell_type": "code",
   "execution_count": 76,
   "id": "484227cc",
   "metadata": {},
   "outputs": [
    {
     "name": "stdout",
     "output_type": "stream",
     "text": [
      "          country continent  year\n",
      "0     Afghanistan      Asia  1952\n",
      "1     Afghanistan      Asia  1957\n",
      "2     Afghanistan      Asia  1962\n",
      "3     Afghanistan      Asia  1967\n",
      "4     Afghanistan      Asia  1972\n",
      "...           ...       ...   ...\n",
      "1699     Zimbabwe    Africa  1987\n",
      "1700     Zimbabwe    Africa  1992\n",
      "1701     Zimbabwe    Africa  1997\n",
      "1702     Zimbabwe    Africa  2002\n",
      "1703     Zimbabwe    Africa  2007\n",
      "\n",
      "[1704 rows x 3 columns]\n",
      "          country  year       pop\n",
      "0     Afghanistan  1952   8425333\n",
      "1     Afghanistan  1957   9240934\n",
      "2     Afghanistan  1962  10267083\n",
      "3     Afghanistan  1967  11537966\n",
      "4     Afghanistan  1972  13079460\n",
      "...           ...   ...       ...\n",
      "1699     Zimbabwe  1987   9216418\n",
      "1700     Zimbabwe  1992  10704340\n",
      "1701     Zimbabwe  1997  11404948\n",
      "1702     Zimbabwe  2002  11926563\n",
      "1703     Zimbabwe  2007  12311143\n",
      "\n",
      "[1704 rows x 3 columns]\n",
      "        country  year       pop\n",
      "10  Afghanistan  2002  25268405\n",
      "13      Albania  1957   1476505\n",
      "16      Albania  1972   2263554\n",
      "19      Albania  1987   3075321\n",
      "22      Albania  2002   3508512\n",
      "25      Algeria  1957  10270856\n",
      "28      Algeria  1972  14760787\n",
      "31      Algeria  1987  23254956\n",
      "34      Algeria  2002  31287142\n",
      "37       Angola  1957   4561361\n",
      "40       Angola  1972   5894858\n",
      "43       Angola  1987   7874230\n",
      "46       Angola  2002  10866106\n",
      "49    Argentina  1957  19610538\n",
      "52    Argentina  1972  24779799\n",
      "55    Argentina  1987  31620918\n",
      "58    Argentina  2002  38331121\n",
      "61    Australia  1957   9712569\n",
      "64    Australia  1972  13177000\n",
      "67    Australia  1987  16257249\n",
      "70    Australia  2002  19546792\n",
      "73      Austria  1957   6965860\n",
      "76      Austria  1972   7544201\n",
      "79      Austria  1987   7578903\n",
      "82      Austria  2002   8148312\n",
      "85      Bahrain  1957    138655\n",
      "88      Bahrain  1972    230800\n",
      "91      Bahrain  1987    454612\n",
      "94      Bahrain  2002    656397\n",
      "97   Bangladesh  1957  51365468\n"
     ]
    }
   ],
   "source": [
    "print(df.iloc[:, :3]) #  모든 행에 0열부터 2열까지\n",
    "print(df.iloc[:,0:6:2]) # 모든 행에 0열부터 5열까지 중 열을 한칸 씩\n",
    "print(df.iloc[10:100:3,::2]) #10행부터 100의 행을 두칸씩 띄우고 \n",
    "                             # 모든 열중에서 한칸씩 띄어서 출력"
   ]
  },
  {
   "cell_type": "code",
   "execution_count": 79,
   "id": "d834c17c",
   "metadata": {},
   "outputs": [
    {
     "name": "stdout",
     "output_type": "stream",
     "text": [
      "         country  lifeExp    gdpPercap\n",
      "0    Afghanistan   28.801   779.445314\n",
      "99    Bangladesh   43.453   721.186086\n",
      "999     Mongolia   51.253  1226.041130\n",
      "         country  lifeExp    gdpPercap\n",
      "0    Afghanistan   28.801   779.445314\n",
      "99    Bangladesh   43.453   721.186086\n",
      "999     Mongolia   51.253  1226.041130\n",
      "        country  lifeExp    gdpPercap\n",
      "10  Afghanistan   42.129   726.734055\n",
      "11  Afghanistan   43.828   974.580338\n",
      "12      Albania   55.230  1601.056136\n",
      "13      Albania   59.280  1942.284244\n"
     ]
    }
   ],
   "source": [
    "### 0,99,999행과 0,3,5 열을 출력하시오.\n",
    "print(df.iloc[[0,99,999],[0,3,5]])\n",
    "# 열을 명시적 인덱스 사용\n",
    "print(df.loc[[0,99,999],['country',  'lifeExp',    'gdpPercap']])\n",
    "\n",
    "print(df.loc[10:13,['country',  'lifeExp',    'gdpPercap']])"
   ]
  },
  {
   "cell_type": "code",
   "execution_count": 85,
   "id": "0e6b2b7b",
   "metadata": {},
   "outputs": [
    {
     "name": "stdout",
     "output_type": "stream",
     "text": [
      "          country continent  year  lifeExp       pop   gdpPercap\n",
      "0     Afghanistan      Asia  1952   28.801   8425333  779.445314\n",
      "1     Afghanistan      Asia  1957   30.332   9240934  820.853030\n",
      "2     Afghanistan      Asia  1962   31.997  10267083  853.100710\n",
      "3     Afghanistan      Asia  1967   34.020  11537966  836.197138\n",
      "4     Afghanistan      Asia  1972   36.088  13079460  739.981106\n",
      "...           ...       ...   ...      ...       ...         ...\n",
      "1699     Zimbabwe    Africa  1987   62.351   9216418  706.157306\n",
      "1700     Zimbabwe    Africa  1992   60.377  10704340  693.420786\n",
      "1701     Zimbabwe    Africa  1997   46.809  11404948  792.449960\n",
      "1702     Zimbabwe    Africa  2002   39.989  11926563  672.038623\n",
      "1703     Zimbabwe    Africa  2007   43.487  12311143  469.709298\n",
      "\n",
      "[1704 rows x 6 columns]\n",
      "year\n",
      "1952    49.057620\n",
      "1957    51.507401\n",
      "1962    53.609249\n",
      "1967    55.678290\n",
      "1972    57.647386\n",
      "1977    59.570157\n",
      "1982    61.533197\n",
      "1987    63.212613\n",
      "1992    64.160338\n",
      "1997    65.014676\n",
      "2002    65.694923\n",
      "2007    67.007423\n",
      "Name: lifeExp, dtype: float64\n",
      "year\n",
      "1952    28.801\n",
      "1957    30.332\n",
      "1962    31.997\n",
      "1967    34.020\n",
      "1972    35.400\n",
      "1977    31.220\n",
      "1982    38.445\n",
      "1987    39.906\n",
      "1992    23.599\n",
      "1997    36.087\n",
      "2002    39.193\n",
      "2007    39.613\n",
      "Name: lifeExp, dtype: float64\n",
      "year\n",
      "1952    72.670\n",
      "1957    73.470\n",
      "1962    73.680\n",
      "1967    74.160\n",
      "1972    74.720\n",
      "1977    76.110\n",
      "1982    77.110\n",
      "1987    78.670\n",
      "1992    79.360\n",
      "1997    80.690\n",
      "2002    82.000\n",
      "2007    82.603\n",
      "Name: lifeExp, dtype: float64\n"
     ]
    }
   ],
   "source": [
    "# 년도별 평균수명\n",
    "print(df)\n",
    "print(df.groupby('year')['lifeExp'].mean())\n",
    "print(df.groupby('year')['lifeExp'].min())\n",
    "print(df.groupby('year')['lifeExp'].max())"
   ]
  },
  {
   "cell_type": "code",
   "execution_count": 86,
   "id": "97aa8944",
   "metadata": {},
   "outputs": [
    {
     "name": "stdout",
     "output_type": "stream",
     "text": [
      "year\n",
      "1952    49.057620\n",
      "1957    51.507401\n",
      "1962    53.609249\n",
      "1967    55.678290\n",
      "1972    57.647386\n",
      "1977    59.570157\n",
      "1982    61.533197\n",
      "1987    63.212613\n",
      "1992    64.160338\n",
      "1997    65.014676\n",
      "2002    65.694923\n",
      "2007    67.007423\n",
      "Name: lifeExp, dtype: float64\n"
     ]
    }
   ],
   "source": [
    "grouped_year_df = df.groupby('year')\n",
    "mean_lifeExp_by_year = grouped_year_df['lifeExp']\n",
    "print(mean_lifeExp_by_year.mean())"
   ]
  },
  {
   "cell_type": "code",
   "execution_count": 87,
   "id": "276b2716",
   "metadata": {},
   "outputs": [
    {
     "name": "stdout",
     "output_type": "stream",
     "text": [
      "year  continent\n",
      "1952  Africa       39.135500\n",
      "      Americas     53.279840\n",
      "      Asia         46.314394\n",
      "      Europe       64.408500\n",
      "      Oceania      69.255000\n",
      "1957  Africa       41.266346\n",
      "      Americas     55.960280\n",
      "      Asia         49.318544\n",
      "      Europe       66.703067\n",
      "      Oceania      70.295000\n",
      "1962  Africa       43.319442\n",
      "      Americas     58.398760\n",
      "      Asia         51.563223\n",
      "      Europe       68.539233\n",
      "      Oceania      71.085000\n",
      "1967  Africa       45.334538\n",
      "      Americas     60.410920\n",
      "      Asia         54.663640\n",
      "      Europe       69.737600\n",
      "      Oceania      71.310000\n",
      "1972  Africa       47.450942\n",
      "      Americas     62.394920\n",
      "      Asia         57.319269\n",
      "      Europe       70.775033\n",
      "      Oceania      71.910000\n",
      "1977  Africa       49.580423\n",
      "      Americas     64.391560\n",
      "      Asia         59.610556\n",
      "      Europe       71.937767\n",
      "      Oceania      72.855000\n",
      "1982  Africa       51.592865\n",
      "      Americas     66.228840\n",
      "      Asia         62.617939\n",
      "      Europe       72.806400\n",
      "      Oceania      74.290000\n",
      "1987  Africa       53.344788\n",
      "      Americas     68.090720\n",
      "      Asia         64.851182\n",
      "      Europe       73.642167\n",
      "      Oceania      75.320000\n",
      "1992  Africa       53.629577\n",
      "      Americas     69.568360\n",
      "      Asia         66.537212\n",
      "      Europe       74.440100\n",
      "      Oceania      76.945000\n",
      "1997  Africa       53.598269\n",
      "      Americas     71.150480\n",
      "      Asia         68.020515\n",
      "      Europe       75.505167\n",
      "      Oceania      78.190000\n",
      "2002  Africa       53.325231\n",
      "      Americas     72.422040\n",
      "      Asia         69.233879\n",
      "      Europe       76.700600\n",
      "      Oceania      79.740000\n",
      "2007  Africa       54.806038\n",
      "      Americas     73.608120\n",
      "      Asia         70.728485\n",
      "      Europe       77.648600\n",
      "      Oceania      80.719500\n",
      "Name: lifeExp, dtype: float64\n"
     ]
    }
   ],
   "source": [
    "print(df.groupby(['year','continent'])['lifeExp'].mean())"
   ]
  },
  {
   "cell_type": "code",
   "execution_count": 88,
   "id": "8417067f",
   "metadata": {},
   "outputs": [
    {
     "name": "stdout",
     "output_type": "stream",
     "text": [
      "year  continent  gdpPercap   \n",
      "1952  Africa     298.846212      42.138\n",
      "                 299.850319      32.500\n",
      "                 328.940557      35.928\n",
      "                 339.296459      39.031\n",
      "                 362.146280      34.078\n",
      "                                  ...  \n",
      "2007  Europe     37506.419070    81.701\n",
      "                 40675.996350    78.885\n",
      "                 49357.190170    80.196\n",
      "      Oceania    25185.009110    80.204\n",
      "                 34435.367440    81.235\n",
      "Name: lifeExp, Length: 1704, dtype: float64\n"
     ]
    }
   ],
   "source": [
    "print(df.groupby(['year','continent','gdpPercap'])['lifeExp'].mean())"
   ]
  },
  {
   "cell_type": "code",
   "execution_count": 89,
   "id": "cfce8a24",
   "metadata": {},
   "outputs": [
    {
     "name": "stdout",
     "output_type": "stream",
     "text": [
      "                  lifeExp     gdpPercap\n",
      "year continent                         \n",
      "1952 Africa     39.135500   1252.572466\n",
      "     Americas   53.279840   4079.062552\n",
      "     Asia       46.314394   5195.484004\n",
      "     Europe     64.408500   5661.057435\n",
      "     Oceania    69.255000  10298.085650\n",
      "1957 Africa     41.266346   1385.236062\n",
      "     Americas   55.960280   4616.043733\n",
      "     Asia       49.318544   5787.732940\n",
      "     Europe     66.703067   6963.012816\n",
      "     Oceania    70.295000  11598.522455\n",
      "1962 Africa     43.319442   1598.078825\n",
      "     Americas   58.398760   4901.541870\n",
      "     Asia       51.563223   5729.369625\n",
      "     Europe     68.539233   8365.486814\n",
      "     Oceania    71.085000  12696.452430\n",
      "1967 Africa     45.334538   2050.363801\n",
      "     Americas   60.410920   5668.253496\n",
      "     Asia       54.663640   5971.173374\n",
      "     Europe     69.737600  10143.823757\n",
      "     Oceania    71.310000  14495.021790\n",
      "1972 Africa     47.450942   2339.615674\n",
      "     Americas   62.394920   6491.334139\n",
      "     Asia       57.319269   8187.468699\n",
      "     Europe     70.775033  12479.575246\n",
      "     Oceania    71.910000  16417.333380\n",
      "1977 Africa     49.580423   2585.938508\n",
      "     Americas   64.391560   7352.007126\n",
      "     Asia       59.610556   7791.314020\n",
      "     Europe     71.937767  14283.979110\n",
      "     Oceania    72.855000  17283.957605\n",
      "1982 Africa     51.592865   2481.592960\n",
      "     Americas   66.228840   7506.737088\n",
      "     Asia       62.617939   7434.135157\n",
      "     Europe     72.806400  15617.896551\n",
      "     Oceania    74.290000  18554.709840\n",
      "1987 Africa     53.344788   2282.668991\n",
      "     Americas   68.090720   7793.400261\n",
      "     Asia       64.851182   7608.226508\n",
      "     Europe     73.642167  17214.310727\n",
      "     Oceania    75.320000  20448.040160\n",
      "1992 Africa     53.629577   2281.810333\n",
      "     Americas   69.568360   8044.934406\n",
      "     Asia       66.537212   8639.690248\n",
      "     Europe     74.440100  17061.568084\n",
      "     Oceania    76.945000  20894.045885\n",
      "1997 Africa     53.598269   2378.759555\n",
      "     Americas   71.150480   8889.300863\n",
      "     Asia       68.020515   9834.093295\n",
      "     Europe     75.505167  19076.781802\n",
      "     Oceania    78.190000  24024.175170\n",
      "2002 Africa     53.325231   2599.385159\n",
      "     Americas   72.422040   9287.677107\n",
      "     Asia       69.233879  10174.090397\n",
      "     Europe     76.700600  21711.732422\n",
      "     Oceania    79.740000  26938.778040\n",
      "2007 Africa     54.806038   3089.032605\n",
      "     Americas   73.608120  11003.031625\n",
      "     Asia       70.728485  12473.026870\n",
      "     Europe     77.648600  25054.481636\n",
      "     Oceania    80.719500  29810.188275\n"
     ]
    },
    {
     "name": "stderr",
     "output_type": "stream",
     "text": [
      "<ipython-input-89-efb8ebc293c6>:1: FutureWarning: Indexing with multiple keys (implicitly converted to a tuple of keys) will be deprecated, use a list instead.\n",
      "  print(df.groupby(['year','continent'])['lifeExp','gdpPercap'].mean())\n"
     ]
    }
   ],
   "source": [
    "print(df.groupby(['year','continent'])['lifeExp','gdpPercap'].mean())"
   ]
  },
  {
   "cell_type": "code",
   "execution_count": 90,
   "id": "7fa694bb",
   "metadata": {},
   "outputs": [
    {
     "name": "stdout",
     "output_type": "stream",
     "text": [
      "continent\n",
      "Africa      52\n",
      "Americas    25\n",
      "Asia        33\n",
      "Europe      30\n",
      "Oceania      2\n",
      "Name: country, dtype: int64\n"
     ]
    }
   ],
   "source": [
    "# 그룹화한 데이터의 개수 세기\n",
    "print(df.groupby('continent')['country'].nunique())"
   ]
  },
  {
   "cell_type": "code",
   "execution_count": 92,
   "id": "6bd2e5a3",
   "metadata": {},
   "outputs": [
    {
     "data": {
      "text/plain": [
       "<AxesSubplot:xlabel='year'>"
      ]
     },
     "execution_count": 92,
     "metadata": {},
     "output_type": "execute_result"
    }
   ],
   "source": [
    "#print(df.groupby('year')['lifeExp'].mean())\n",
    "df.groupby('year')['lifeExp'].mean().plot()"
   ]
  },
  {
   "cell_type": "code",
   "execution_count": 95,
   "id": "92378462",
   "metadata": {},
   "outputs": [
    {
     "name": "stdout",
     "output_type": "stream",
     "text": [
      "a    banana\n",
      "b        42\n",
      "dtype: object\n"
     ]
    }
   ],
   "source": [
    "s = pd.Series(['banana', 42], index=['a','b'])\n",
    "### s = pd.Series({'a':'banan','b':42})\n",
    "print(s)"
   ]
  },
  {
   "cell_type": "code",
   "execution_count": 97,
   "id": "22401958",
   "metadata": {},
   "outputs": [
    {
     "data": {
      "text/html": [
       "<div>\n",
       "<style scoped>\n",
       "    .dataframe tbody tr th:only-of-type {\n",
       "        vertical-align: middle;\n",
       "    }\n",
       "\n",
       "    .dataframe tbody tr th {\n",
       "        vertical-align: top;\n",
       "    }\n",
       "\n",
       "    .dataframe thead th {\n",
       "        text-align: right;\n",
       "    }\n",
       "</style>\n",
       "<table border=\"1\" class=\"dataframe\">\n",
       "  <thead>\n",
       "    <tr style=\"text-align: right;\">\n",
       "      <th></th>\n",
       "      <th>Name</th>\n",
       "      <th>age</th>\n",
       "      <th>born</th>\n",
       "    </tr>\n",
       "  </thead>\n",
       "  <tbody>\n",
       "    <tr>\n",
       "      <th>0</th>\n",
       "      <td>이숭무</td>\n",
       "      <td>30</td>\n",
       "      <td>1990-10-15</td>\n",
       "    </tr>\n",
       "    <tr>\n",
       "      <th>1</th>\n",
       "      <td>이장범</td>\n",
       "      <td>18</td>\n",
       "      <td>2005-05-27</td>\n",
       "    </tr>\n",
       "    <tr>\n",
       "      <th>2</th>\n",
       "      <td>이상범</td>\n",
       "      <td>17</td>\n",
       "      <td>2006-09-27</td>\n",
       "    </tr>\n",
       "  </tbody>\n",
       "</table>\n",
       "</div>"
      ],
      "text/plain": [
       "  Name  age        born\n",
       "0  이숭무   30  1990-10-15\n",
       "1  이장범   18  2005-05-27\n",
       "2  이상범   17  2006-09-27"
      ]
     },
     "execution_count": 97,
     "metadata": {},
     "output_type": "execute_result"
    }
   ],
   "source": [
    "df = pd.DataFrame({\n",
    "    'Name': ['이숭무', '이장범', '이상범'],\n",
    "    'age':[30,18,17],\n",
    "    'born':['1990-10-15','2005-05-27','2006-09-27']\n",
    "})\n",
    "df"
   ]
  },
  {
   "cell_type": "code",
   "execution_count": 99,
   "id": "8cc466c6",
   "metadata": {},
   "outputs": [
    {
     "data": {
      "text/html": [
       "<div>\n",
       "<style scoped>\n",
       "    .dataframe tbody tr th:only-of-type {\n",
       "        vertical-align: middle;\n",
       "    }\n",
       "\n",
       "    .dataframe tbody tr th {\n",
       "        vertical-align: top;\n",
       "    }\n",
       "\n",
       "    .dataframe thead th {\n",
       "        text-align: right;\n",
       "    }\n",
       "</style>\n",
       "<table border=\"1\" class=\"dataframe\">\n",
       "  <thead>\n",
       "    <tr style=\"text-align: right;\">\n",
       "      <th></th>\n",
       "      <th>Name</th>\n",
       "      <th>born</th>\n",
       "      <th>age</th>\n",
       "    </tr>\n",
       "  </thead>\n",
       "  <tbody>\n",
       "    <tr>\n",
       "      <th>a</th>\n",
       "      <td>이숭무</td>\n",
       "      <td>1990-10-15</td>\n",
       "      <td>30</td>\n",
       "    </tr>\n",
       "    <tr>\n",
       "      <th>b</th>\n",
       "      <td>이장범</td>\n",
       "      <td>2005-05-27</td>\n",
       "      <td>18</td>\n",
       "    </tr>\n",
       "    <tr>\n",
       "      <th>c</th>\n",
       "      <td>이상범</td>\n",
       "      <td>2006-09-27</td>\n",
       "      <td>17</td>\n",
       "    </tr>\n",
       "  </tbody>\n",
       "</table>\n",
       "</div>"
      ],
      "text/plain": [
       "  Name        born  age\n",
       "a  이숭무  1990-10-15   30\n",
       "b  이장범  2005-05-27   18\n",
       "c  이상범  2006-09-27   17"
      ]
     },
     "execution_count": 99,
     "metadata": {},
     "output_type": "execute_result"
    }
   ],
   "source": [
    "df = pd.DataFrame({\n",
    "    'Name': ['이숭무', '이장범', '이상범'],\n",
    "    'age':[30,18,17],\n",
    "    'born':['1990-10-15','2005-05-27','2006-09-27']\n",
    "},index = ['a','b','c']\n",
    ",columns=['Name','born','age']    \n",
    ")\n",
    "df"
   ]
  },
  {
   "cell_type": "code",
   "execution_count": 102,
   "id": "a4f39172",
   "metadata": {},
   "outputs": [
    {
     "data": {
      "text/html": [
       "<div>\n",
       "<style scoped>\n",
       "    .dataframe tbody tr th:only-of-type {\n",
       "        vertical-align: middle;\n",
       "    }\n",
       "\n",
       "    .dataframe tbody tr th {\n",
       "        vertical-align: top;\n",
       "    }\n",
       "\n",
       "    .dataframe thead th {\n",
       "        text-align: right;\n",
       "    }\n",
       "</style>\n",
       "<table border=\"1\" class=\"dataframe\">\n",
       "  <thead>\n",
       "    <tr style=\"text-align: right;\">\n",
       "      <th></th>\n",
       "      <th>Name</th>\n",
       "      <th>age</th>\n",
       "      <th>born</th>\n",
       "    </tr>\n",
       "  </thead>\n",
       "  <tbody>\n",
       "    <tr>\n",
       "      <th>0</th>\n",
       "      <td>이숭무</td>\n",
       "      <td>30</td>\n",
       "      <td>1990-10-15</td>\n",
       "    </tr>\n",
       "    <tr>\n",
       "      <th>1</th>\n",
       "      <td>이장범</td>\n",
       "      <td>18</td>\n",
       "      <td>2005-05-27</td>\n",
       "    </tr>\n",
       "    <tr>\n",
       "      <th>2</th>\n",
       "      <td>이상범</td>\n",
       "      <td>17</td>\n",
       "      <td>2006-09-27</td>\n",
       "    </tr>\n",
       "  </tbody>\n",
       "</table>\n",
       "</div>"
      ],
      "text/plain": [
       "  Name  age        born\n",
       "0  이숭무   30  1990-10-15\n",
       "1  이장범   18  2005-05-27\n",
       "2  이상범   17  2006-09-27"
      ]
     },
     "execution_count": 102,
     "metadata": {},
     "output_type": "execute_result"
    }
   ],
   "source": [
    "from collections import OrderedDict\n",
    "df = pd.DataFrame(OrderedDict([\n",
    "    ('Name' ,['이숭무', '이장범', '이상범']),\n",
    "    ('age', [30,18,17]),\n",
    "    ('born',['1990-10-15','2005-05-27','2006-09-27'])\n",
    "]))\n",
    "df"
   ]
  },
  {
   "cell_type": "code",
   "execution_count": 110,
   "id": "f2459e9b",
   "metadata": {},
   "outputs": [
    {
     "name": "stdout",
     "output_type": "stream",
     "text": [
      "[['이숭무' '1990-10-15' 30]\n",
      " ['이장범' '2005-05-27' 18]\n",
      " ['이상범' '2006-09-27' 17]]\n"
     ]
    }
   ],
   "source": [
    "df = pd.DataFrame(\n",
    "       data = {'Name' : ['이숭무', '이장범', '이상범'],\n",
    "              'age': [30,18,17],\n",
    "              'born' : ['1990-10-15','2005-05-27','2006-09-27']},\n",
    "        index = {'a','b','c'},\n",
    "         columns=['Name','born','age']\n",
    "    )\n",
    "df\n",
    "print(df.values)"
   ]
  },
  {
   "cell_type": "code",
   "execution_count": 117,
   "id": "7ebbbc6e",
   "metadata": {},
   "outputs": [
    {
     "name": "stdout",
     "output_type": "stream",
     "text": [
      "Name           이숭무\n",
      "born    1990-10-15\n",
      "age             30\n",
      "Name: a, dtype: object\n",
      "Name           이숭무\n",
      "born    1990-10-15\n",
      "age             30\n",
      "Name: a, dtype: object\n",
      "<class 'pandas.core.series.Series'>\n"
     ]
    }
   ],
   "source": [
    "df\n",
    "print(df.iloc[0])\n",
    "print(df.loc['a'])\n",
    "print(type(df.loc['a']))"
   ]
  },
  {
   "cell_type": "code",
   "execution_count": 120,
   "id": "28d6a691",
   "metadata": {},
   "outputs": [
    {
     "name": "stdout",
     "output_type": "stream",
     "text": [
      "Index(['a', 'b', 'c'], dtype='object')\n",
      "Index(['Name', 'born', 'age'], dtype='object')\n",
      "Index(['Name', 'born', 'age'], dtype='object')\n"
     ]
    }
   ],
   "source": [
    "print(df.index)\n",
    "print(df.keys()) # 컬럼 정보\n",
    "print(df.loc['a'].index)"
   ]
  },
  {
   "cell_type": "code",
   "execution_count": 135,
   "id": "61fd695a",
   "metadata": {},
   "outputs": [
    {
     "name": "stdout",
     "output_type": "stream",
     "text": [
      "a    30\n",
      "b    18\n",
      "c    17\n",
      "Name: age, dtype: int64\n",
      "a    30\n",
      "b    18\n",
      "c    17\n",
      "Name: age, dtype: int64\n",
      "17\n",
      "17\n",
      "21.666666666666668\n",
      "17\n",
      "30\n",
      "7.234178138070235\n"
     ]
    }
   ],
   "source": [
    "#df에서 나이만 출력\n",
    "print(df['age'])\n",
    "# print(df.loc['age']) #### 행이름이 age를 찾으시오\n",
    "print(df.loc[:,'age']) \n",
    "### '이상범'의 나이를 출력하시오.\n",
    "df\n",
    "print(df.iloc[2,2])\n",
    "print(df.loc['c','age'])\n",
    "\n",
    "# 나이의 평균을 구하시오\n",
    "print(df['age'].mean())\n",
    "print(df['age'].min())\n",
    "print(df['age'].max())\n",
    "print(df['age'].std())"
   ]
  },
  {
   "cell_type": "code",
   "execution_count": 136,
   "id": "1c9a44f9",
   "metadata": {},
   "outputs": [
    {
     "data": {
      "text/html": [
       "<div>\n",
       "<style scoped>\n",
       "    .dataframe tbody tr th:only-of-type {\n",
       "        vertical-align: middle;\n",
       "    }\n",
       "\n",
       "    .dataframe tbody tr th {\n",
       "        vertical-align: top;\n",
       "    }\n",
       "\n",
       "    .dataframe thead th {\n",
       "        text-align: right;\n",
       "    }\n",
       "</style>\n",
       "<table border=\"1\" class=\"dataframe\">\n",
       "  <thead>\n",
       "    <tr style=\"text-align: right;\">\n",
       "      <th></th>\n",
       "      <th>Name</th>\n",
       "      <th>Born</th>\n",
       "      <th>Died</th>\n",
       "      <th>Age</th>\n",
       "      <th>Occupation</th>\n",
       "    </tr>\n",
       "  </thead>\n",
       "  <tbody>\n",
       "    <tr>\n",
       "      <th>0</th>\n",
       "      <td>Rosaline Franklin</td>\n",
       "      <td>1920-07-25</td>\n",
       "      <td>1958-04-16</td>\n",
       "      <td>37</td>\n",
       "      <td>Chemist</td>\n",
       "    </tr>\n",
       "    <tr>\n",
       "      <th>1</th>\n",
       "      <td>William Gosset</td>\n",
       "      <td>1876-06-13</td>\n",
       "      <td>1937-10-16</td>\n",
       "      <td>61</td>\n",
       "      <td>Statistician</td>\n",
       "    </tr>\n",
       "    <tr>\n",
       "      <th>2</th>\n",
       "      <td>Florence Nightingale</td>\n",
       "      <td>1820-05-12</td>\n",
       "      <td>1910-08-13</td>\n",
       "      <td>90</td>\n",
       "      <td>Nurse</td>\n",
       "    </tr>\n",
       "    <tr>\n",
       "      <th>3</th>\n",
       "      <td>Marie Curie</td>\n",
       "      <td>1867-11-07</td>\n",
       "      <td>1934-07-04</td>\n",
       "      <td>66</td>\n",
       "      <td>Chemist</td>\n",
       "    </tr>\n",
       "    <tr>\n",
       "      <th>4</th>\n",
       "      <td>Rachel Carson</td>\n",
       "      <td>1907-05-27</td>\n",
       "      <td>1964-04-14</td>\n",
       "      <td>56</td>\n",
       "      <td>Biologist</td>\n",
       "    </tr>\n",
       "    <tr>\n",
       "      <th>5</th>\n",
       "      <td>John Snow</td>\n",
       "      <td>1813-03-15</td>\n",
       "      <td>1858-06-16</td>\n",
       "      <td>45</td>\n",
       "      <td>Physician</td>\n",
       "    </tr>\n",
       "    <tr>\n",
       "      <th>6</th>\n",
       "      <td>Alan Turing</td>\n",
       "      <td>1912-06-23</td>\n",
       "      <td>1954-06-07</td>\n",
       "      <td>41</td>\n",
       "      <td>Computer Scientist</td>\n",
       "    </tr>\n",
       "    <tr>\n",
       "      <th>7</th>\n",
       "      <td>Johann Gauss</td>\n",
       "      <td>1777-04-30</td>\n",
       "      <td>1855-02-23</td>\n",
       "      <td>77</td>\n",
       "      <td>Mathematician</td>\n",
       "    </tr>\n",
       "  </tbody>\n",
       "</table>\n",
       "</div>"
      ],
      "text/plain": [
       "                   Name        Born        Died  Age          Occupation\n",
       "0     Rosaline Franklin  1920-07-25  1958-04-16   37             Chemist\n",
       "1        William Gosset  1876-06-13  1937-10-16   61        Statistician\n",
       "2  Florence Nightingale  1820-05-12  1910-08-13   90               Nurse\n",
       "3           Marie Curie  1867-11-07  1934-07-04   66             Chemist\n",
       "4         Rachel Carson  1907-05-27  1964-04-14   56           Biologist\n",
       "5             John Snow  1813-03-15  1858-06-16   45           Physician\n",
       "6           Alan Turing  1912-06-23  1954-06-07   41  Computer Scientist\n",
       "7          Johann Gauss  1777-04-30  1855-02-23   77       Mathematician"
      ]
     },
     "execution_count": 136,
     "metadata": {},
     "output_type": "execute_result"
    }
   ],
   "source": [
    "df = pd.read_csv('https://raw.githubusercontent.com/SoongMoo/soldesk202108/main/%EC%B0%B8%EA%B3%A0%EC%9E%90%EB%A3%8C/Pandas_pdf/data/scientists.csv')\n",
    "df"
   ]
  },
  {
   "cell_type": "code",
   "execution_count": 142,
   "id": "60a4633a",
   "metadata": {},
   "outputs": [
    {
     "name": "stdout",
     "output_type": "stream",
     "text": [
      "0    37\n",
      "1    61\n",
      "2    90\n",
      "3    66\n",
      "4    56\n",
      "5    45\n",
      "6    41\n",
      "7    77\n",
      "Name: Age, dtype: int64\n",
      "59.125\n",
      "90\n",
      "37\n"
     ]
    }
   ],
   "source": [
    "print(df['Age'])\n",
    "print(df['Age'].mean())\n",
    "print(df['Age'].max())\n",
    "print(df['Age'].min())"
   ]
  },
  {
   "cell_type": "code",
   "execution_count": 144,
   "id": "4497a939",
   "metadata": {},
   "outputs": [
    {
     "name": "stdout",
     "output_type": "stream",
     "text": [
      "                   Name        Born        Died  Age     Occupation\n",
      "1        William Gosset  1876-06-13  1937-10-16   61   Statistician\n",
      "2  Florence Nightingale  1820-05-12  1910-08-13   90          Nurse\n",
      "3           Marie Curie  1867-11-07  1934-07-04   66        Chemist\n",
      "7          Johann Gauss  1777-04-30  1855-02-23   77  Mathematician\n",
      "0    False\n",
      "1     True\n",
      "2     True\n",
      "3     True\n",
      "4    False\n",
      "5    False\n",
      "6    False\n",
      "7     True\n",
      "Name: Age, dtype: bool\n"
     ]
    }
   ],
   "source": [
    "#### 평균나이보다 많은 사람을 출력하시오.\n",
    "print(df[df['Age'] > df['Age'].mean()])\n",
    "### 평균나이보다 크면 True , 아니면 False\n",
    "print(df['Age'] > df['Age'].mean())"
   ]
  },
  {
   "cell_type": "code",
   "execution_count": 146,
   "id": "8ab9b8b5",
   "metadata": {},
   "outputs": [
    {
     "name": "stdout",
     "output_type": "stream",
     "text": [
      "1    61\n",
      "2    90\n",
      "3    66\n",
      "4    56\n",
      "7    77\n",
      "Name: Age, dtype: int64\n"
     ]
    }
   ],
   "source": [
    "print(df['Age'][[False,True,True,True,True,False,False,True]])"
   ]
  },
  {
   "cell_type": "code",
   "execution_count": 147,
   "id": "081abecb",
   "metadata": {},
   "outputs": [
    {
     "data": {
      "text/plain": [
       "0    0\n",
       "1    1\n",
       "2    2\n",
       "3    3\n",
       "4    4\n",
       "5    5\n",
       "6    6\n",
       "7    7\n",
       "8    8\n",
       "dtype: int64"
      ]
     },
     "execution_count": 147,
     "metadata": {},
     "output_type": "execute_result"
    }
   ],
   "source": [
    "s = pd.Series(range(9))\n",
    "s"
   ]
  },
  {
   "cell_type": "code",
   "execution_count": 148,
   "id": "12d091ac",
   "metadata": {},
   "outputs": [
    {
     "data": {
      "text/html": [
       "<div>\n",
       "<style scoped>\n",
       "    .dataframe tbody tr th:only-of-type {\n",
       "        vertical-align: middle;\n",
       "    }\n",
       "\n",
       "    .dataframe tbody tr th {\n",
       "        vertical-align: top;\n",
       "    }\n",
       "\n",
       "    .dataframe thead th {\n",
       "        text-align: right;\n",
       "    }\n",
       "</style>\n",
       "<table border=\"1\" class=\"dataframe\">\n",
       "  <thead>\n",
       "    <tr style=\"text-align: right;\">\n",
       "      <th></th>\n",
       "      <th>Name</th>\n",
       "      <th>Born</th>\n",
       "      <th>Died</th>\n",
       "      <th>Age</th>\n",
       "      <th>Occupation</th>\n",
       "    </tr>\n",
       "  </thead>\n",
       "  <tbody>\n",
       "    <tr>\n",
       "      <th>0</th>\n",
       "      <td>Rosaline Franklin</td>\n",
       "      <td>1920-07-25</td>\n",
       "      <td>1958-04-16</td>\n",
       "      <td>37</td>\n",
       "      <td>Chemist</td>\n",
       "    </tr>\n",
       "    <tr>\n",
       "      <th>1</th>\n",
       "      <td>William Gosset</td>\n",
       "      <td>1876-06-13</td>\n",
       "      <td>1937-10-16</td>\n",
       "      <td>61</td>\n",
       "      <td>Statistician</td>\n",
       "    </tr>\n",
       "    <tr>\n",
       "      <th>2</th>\n",
       "      <td>Florence Nightingale</td>\n",
       "      <td>1820-05-12</td>\n",
       "      <td>1910-08-13</td>\n",
       "      <td>90</td>\n",
       "      <td>Nurse</td>\n",
       "    </tr>\n",
       "    <tr>\n",
       "      <th>3</th>\n",
       "      <td>Marie Curie</td>\n",
       "      <td>1867-11-07</td>\n",
       "      <td>1934-07-04</td>\n",
       "      <td>66</td>\n",
       "      <td>Chemist</td>\n",
       "    </tr>\n",
       "    <tr>\n",
       "      <th>4</th>\n",
       "      <td>Rachel Carson</td>\n",
       "      <td>1907-05-27</td>\n",
       "      <td>1964-04-14</td>\n",
       "      <td>56</td>\n",
       "      <td>Biologist</td>\n",
       "    </tr>\n",
       "    <tr>\n",
       "      <th>5</th>\n",
       "      <td>John Snow</td>\n",
       "      <td>1813-03-15</td>\n",
       "      <td>1858-06-16</td>\n",
       "      <td>45</td>\n",
       "      <td>Physician</td>\n",
       "    </tr>\n",
       "    <tr>\n",
       "      <th>6</th>\n",
       "      <td>Alan Turing</td>\n",
       "      <td>1912-06-23</td>\n",
       "      <td>1954-06-07</td>\n",
       "      <td>41</td>\n",
       "      <td>Computer Scientist</td>\n",
       "    </tr>\n",
       "    <tr>\n",
       "      <th>7</th>\n",
       "      <td>Johann Gauss</td>\n",
       "      <td>1777-04-30</td>\n",
       "      <td>1855-02-23</td>\n",
       "      <td>77</td>\n",
       "      <td>Mathematician</td>\n",
       "    </tr>\n",
       "  </tbody>\n",
       "</table>\n",
       "</div>"
      ],
      "text/plain": [
       "                   Name        Born        Died  Age          Occupation\n",
       "0     Rosaline Franklin  1920-07-25  1958-04-16   37             Chemist\n",
       "1        William Gosset  1876-06-13  1937-10-16   61        Statistician\n",
       "2  Florence Nightingale  1820-05-12  1910-08-13   90               Nurse\n",
       "3           Marie Curie  1867-11-07  1934-07-04   66             Chemist\n",
       "4         Rachel Carson  1907-05-27  1964-04-14   56           Biologist\n",
       "5             John Snow  1813-03-15  1858-06-16   45           Physician\n",
       "6           Alan Turing  1912-06-23  1954-06-07   41  Computer Scientist\n",
       "7          Johann Gauss  1777-04-30  1855-02-23   77       Mathematician"
      ]
     },
     "execution_count": 148,
     "metadata": {},
     "output_type": "execute_result"
    }
   ],
   "source": [
    "df"
   ]
  },
  {
   "cell_type": "code",
   "execution_count": 152,
   "id": "7e2dac2f",
   "metadata": {},
   "outputs": [
    {
     "name": "stdout",
     "output_type": "stream",
     "text": [
      "<class 'pandas.core.series.Series'>\n",
      "<class 'pandas.core.series.Series'>\n",
      "0    37.0\n",
      "1    62.0\n",
      "2    92.0\n",
      "3    69.0\n",
      "4    60.0\n",
      "5    50.0\n",
      "6    47.0\n",
      "7    84.0\n",
      "8     NaN\n",
      "dtype: float64\n",
      "0     74\n",
      "1    122\n",
      "2    180\n",
      "3    132\n",
      "4    112\n",
      "5     90\n",
      "6     82\n",
      "7    154\n",
      "Name: Age, dtype: int64\n"
     ]
    }
   ],
   "source": [
    "print(type(df['Age']))\n",
    "print(type(s))\n",
    "print(df['Age'] + s)  # index가 같은 것끼리의 연산\n",
    "print(df['Age'] + df['Age'])"
   ]
  },
  {
   "cell_type": "code",
   "execution_count": 154,
   "id": "f3c3dab1",
   "metadata": {},
   "outputs": [
    {
     "name": "stdout",
     "output_type": "stream",
     "text": [
      "0     57\n",
      "1     81\n",
      "2    110\n",
      "3     86\n",
      "4     76\n",
      "5     65\n",
      "6     61\n",
      "7     97\n",
      "Name: Age, dtype: int64\n",
      "0     74\n",
      "1    122\n",
      "2    180\n",
      "3    132\n",
      "4    112\n",
      "5     90\n",
      "6     82\n",
      "7    154\n",
      "Name: Age, dtype: int64\n"
     ]
    }
   ],
   "source": [
    "print(df['Age'] + 20) # 브로드케스팅 \n",
    "print(df['Age'] * 2)"
   ]
  },
  {
   "cell_type": "code",
   "execution_count": 156,
   "id": "12df45bf",
   "metadata": {},
   "outputs": [
    {
     "name": "stdout",
     "output_type": "stream",
     "text": [
      "0     38.0\n",
      "1    161.0\n",
      "2      NaN\n",
      "3      NaN\n",
      "4      NaN\n",
      "5      NaN\n",
      "6      NaN\n",
      "7      NaN\n",
      "dtype: float64\n"
     ]
    }
   ],
   "source": [
    "s1 = pd.Series([1, 100])\n",
    "s1\n",
    "print(df['Age'] + s1)"
   ]
  },
  {
   "cell_type": "code",
   "execution_count": 160,
   "id": "89b3d048",
   "metadata": {},
   "outputs": [
    {
     "name": "stdout",
     "output_type": "stream",
     "text": [
      "7    77\n",
      "6    41\n",
      "5    45\n",
      "4    56\n",
      "3    66\n",
      "2    90\n",
      "1    61\n",
      "0    37\n",
      "Name: Age, dtype: int64\n",
      "0    37\n",
      "1    61\n",
      "2    90\n",
      "3    66\n",
      "4    56\n",
      "5    45\n",
      "6    41\n",
      "7    77\n",
      "Name: Age, dtype: int64\n",
      "0     74\n",
      "1    122\n",
      "2    180\n",
      "3    132\n",
      "4    112\n",
      "5     90\n",
      "6     82\n",
      "7    154\n",
      "Name: Age, dtype: int64\n"
     ]
    }
   ],
   "source": [
    "rev_df = df['Age'].sort_index(ascending=False)\n",
    "print(rev_df)\n",
    "print(df['Age'])\n",
    "print(df['Age'] + rev_df)"
   ]
  },
  {
   "cell_type": "code",
   "execution_count": 164,
   "id": "18178eaf",
   "metadata": {},
   "outputs": [
    {
     "name": "stdout",
     "output_type": "stream",
     "text": [
      "                Name        Born        Died  Age    Occupation\n",
      "0  Rosaline Franklin  1920-07-25  1958-04-16   37       Chemist\n",
      "1     William Gosset  1876-06-13  1937-10-16   61  Statistician\n",
      "3        Marie Curie  1867-11-07  1934-07-04   66       Chemist\n",
      "                Name        Born        Died  Age    Occupation\n",
      "0  Rosaline Franklin  1920-07-25  1958-04-16   37       Chemist\n",
      "1     William Gosset  1876-06-13  1937-10-16   61  Statistician\n",
      "3        Marie Curie  1867-11-07  1934-07-04   66       Chemist\n"
     ]
    }
   ],
   "source": [
    "print(df.loc[[0,1,3]])\n",
    "print(df.loc[[True,True,False,True,False,False,False,False]])"
   ]
  },
  {
   "cell_type": "code",
   "execution_count": 165,
   "id": "52b3c2a2",
   "metadata": {},
   "outputs": [
    {
     "name": "stdout",
     "output_type": "stream",
     "text": [
      "0     74\n",
      "1    122\n",
      "2    180\n",
      "3    132\n",
      "4    112\n",
      "5     90\n",
      "6     82\n",
      "7    154\n",
      "Name: Age, dtype: int64\n",
      "                                       Name                  Born  \\\n",
      "0        Rosaline FranklinRosaline Franklin  1920-07-251920-07-25   \n",
      "1              William GossetWilliam Gosset  1876-06-131876-06-13   \n",
      "2  Florence NightingaleFlorence Nightingale  1820-05-121820-05-12   \n",
      "3                    Marie CurieMarie Curie  1867-11-071867-11-07   \n",
      "4                Rachel CarsonRachel Carson  1907-05-271907-05-27   \n",
      "5                        John SnowJohn Snow  1813-03-151813-03-15   \n",
      "6                    Alan TuringAlan Turing  1912-06-231912-06-23   \n",
      "7                  Johann GaussJohann Gauss  1777-04-301777-04-30   \n",
      "\n",
      "                   Died  Age                            Occupation  \n",
      "0  1958-04-161958-04-16   74                        ChemistChemist  \n",
      "1  1937-10-161937-10-16  122              StatisticianStatistician  \n",
      "2  1910-08-131910-08-13  180                            NurseNurse  \n",
      "3  1934-07-041934-07-04  132                        ChemistChemist  \n",
      "4  1964-04-141964-04-14  112                    BiologistBiologist  \n",
      "5  1858-06-161858-06-16   90                    PhysicianPhysician  \n",
      "6  1954-06-071954-06-07   82  Computer ScientistComputer Scientist  \n",
      "7  1855-02-231855-02-23  154            MathematicianMathematician  \n"
     ]
    }
   ],
   "source": [
    "print(df['Age'] * 2)\n",
    "print(df * 2)"
   ]
  },
  {
   "cell_type": "code",
   "execution_count": 171,
   "id": "6f7c7cfb",
   "metadata": {},
   "outputs": [
    {
     "name": "stdout",
     "output_type": "stream",
     "text": [
      "<class 'pandas.core.frame.DataFrame'>\n",
      "RangeIndex: 8 entries, 0 to 7\n",
      "Data columns (total 6 columns):\n",
      " #   Column       Non-Null Count  Dtype          \n",
      "---  ------       --------------  -----          \n",
      " 0   Name         8 non-null      object         \n",
      " 1   Born         8 non-null      object         \n",
      " 2   Died         8 non-null      object         \n",
      " 3   Age          8 non-null      int64          \n",
      " 4   Occupation   8 non-null      object         \n",
      " 5   age_days_dt  8 non-null      timedelta64[ns]\n",
      "dtypes: int64(1), object(4), timedelta64[ns](1)\n",
      "memory usage: 512.0+ bytes\n",
      "None\n",
      "<class 'pandas.core.frame.DataFrame'>\n",
      "RangeIndex: 8 entries, 0 to 7\n",
      "Data columns (total 6 columns):\n",
      " #   Column       Non-Null Count  Dtype          \n",
      "---  ------       --------------  -----          \n",
      " 0   Name         8 non-null      object         \n",
      " 1   Born         8 non-null      object         \n",
      " 2   Died         8 non-null      object         \n",
      " 3   Age          8 non-null      int64          \n",
      " 4   Occupation   8 non-null      object         \n",
      " 5   age_days_dt  8 non-null      timedelta64[ns]\n",
      "dtypes: int64(1), object(4), timedelta64[ns](1)\n",
      "memory usage: 512.0+ bytes\n",
      "None\n"
     ]
    }
   ],
   "source": [
    "##### 몇살을 살았는지 구하시오. 'age_days_dt'으로 DataFrame에 추가하시오.\n",
    "print(df.info())\n",
    "### 문자타입의 날짜를 날짜 타입으로 변경\n",
    "Born = pd.to_datetime(df['Born'],format='%Y-%m-%d')\n",
    "Died = pd.to_datetime(df['Died'],format='%Y-%m-%d')\n",
    "df['age_days_dt'] = Died -  Born \n",
    "print(df.info())"
   ]
  },
  {
   "cell_type": "code",
   "execution_count": 180,
   "id": "b3ccecfd",
   "metadata": {},
   "outputs": [
    {
     "name": "stdout",
     "output_type": "stream",
     "text": [
      "                   Name        Born        Died  Age          Occupation  \\\n",
      "0     Rosaline Franklin  1920-07-25  1958-04-16   45             Chemist   \n",
      "1        William Gosset  1876-06-13  1937-10-16   61        Statistician   \n",
      "2  Florence Nightingale  1820-05-12  1910-08-13   90               Nurse   \n",
      "3           Marie Curie  1867-11-07  1934-07-04   41             Chemist   \n",
      "4         Rachel Carson  1907-05-27  1964-04-14   66           Biologist   \n",
      "5             John Snow  1813-03-15  1858-06-16   77           Physician   \n",
      "6           Alan Turing  1912-06-23  1954-06-07   56  Computer Scientist   \n",
      "7          Johann Gauss  1777-04-30  1855-02-23   37       Mathematician   \n",
      "\n",
      "  age_days_dt  \n",
      "0  13779 days  \n",
      "1  22404 days  \n",
      "2  32964 days  \n",
      "3  24345 days  \n",
      "4  20777 days  \n",
      "5  16529 days  \n",
      "6  15324 days  \n",
      "7  28422 days  \n",
      "                   Name        Born        Died  Age          Occupation  \\\n",
      "0     Rosaline Franklin  1920-07-25  1958-04-16   41             Chemist   \n",
      "1        William Gosset  1876-06-13  1937-10-16   66        Statistician   \n",
      "2  Florence Nightingale  1820-05-12  1910-08-13   77               Nurse   \n",
      "3           Marie Curie  1867-11-07  1934-07-04   45             Chemist   \n",
      "4         Rachel Carson  1907-05-27  1964-04-14   61           Biologist   \n",
      "5             John Snow  1813-03-15  1858-06-16   90           Physician   \n",
      "6           Alan Turing  1912-06-23  1954-06-07   56  Computer Scientist   \n",
      "7          Johann Gauss  1777-04-30  1855-02-23   37       Mathematician   \n",
      "\n",
      "  age_days_dt  \n",
      "0  13779 days  \n",
      "1  22404 days  \n",
      "2  32964 days  \n",
      "3  24345 days  \n",
      "4  20777 days  \n",
      "5  16529 days  \n",
      "6  15324 days  \n",
      "7  28422 days  \n"
     ]
    },
    {
     "name": "stderr",
     "output_type": "stream",
     "text": [
      "C:\\Users\\soldesk\\.conda\\envs\\python503\\lib\\random.py:307: SettingWithCopyWarning: \n",
      "A value is trying to be set on a copy of a slice from a DataFrame\n",
      "\n",
      "See the caveats in the documentation: https://pandas.pydata.org/pandas-docs/stable/user_guide/indexing.html#returning-a-view-versus-a-copy\n",
      "  x[i], x[j] = x[j], x[i]\n"
     ]
    }
   ],
   "source": [
    "print(df)\n",
    "# 데이터프레임의 데이터 섞기\n",
    "import random\n",
    "random.shuffle(df['Age'])\n",
    "print(df)"
   ]
  },
  {
   "cell_type": "code",
   "execution_count": 182,
   "id": "a022b7a6",
   "metadata": {},
   "outputs": [
    {
     "name": "stdout",
     "output_type": "stream",
     "text": [
      "                   Name        Born        Died          Occupation  \\\n",
      "0     Rosaline Franklin  1920-07-25  1958-04-16             Chemist   \n",
      "1        William Gosset  1876-06-13  1937-10-16        Statistician   \n",
      "2  Florence Nightingale  1820-05-12  1910-08-13               Nurse   \n",
      "3           Marie Curie  1867-11-07  1934-07-04             Chemist   \n",
      "4         Rachel Carson  1907-05-27  1964-04-14           Biologist   \n",
      "5             John Snow  1813-03-15  1858-06-16           Physician   \n",
      "6           Alan Turing  1912-06-23  1954-06-07  Computer Scientist   \n",
      "7          Johann Gauss  1777-04-30  1855-02-23       Mathematician   \n",
      "\n",
      "  age_days_dt  \n",
      "0  13779 days  \n",
      "1  22404 days  \n",
      "2  32964 days  \n",
      "3  24345 days  \n",
      "4  20777 days  \n",
      "5  16529 days  \n",
      "6  15324 days  \n",
      "7  28422 days  \n"
     ]
    }
   ],
   "source": [
    "df_drop = df.drop(['Age'] , axis=1)\n",
    "print(df_drop)"
   ]
  },
  {
   "cell_type": "code",
   "execution_count": 184,
   "id": "a3a2fadc",
   "metadata": {},
   "outputs": [
    {
     "name": "stdout",
     "output_type": "stream",
     "text": [
      "Index(['Name', 'Born', 'Died', 'Age', 'Occupation', 'age_days_dt'], dtype='object')\n",
      "Index(['Name', 'Born', 'Died', 'Occupation', 'age_days_dt'], dtype='object')\n"
     ]
    }
   ],
   "source": [
    "print(df.columns)\n",
    "print(df_drop.columns)"
   ]
  },
  {
   "cell_type": "code",
   "execution_count": 187,
   "id": "9fd97baf",
   "metadata": {},
   "outputs": [],
   "source": [
    "### DataFrame에 있는 데이터를 파일에 저장\n",
    "df.to_csv('E:/df.csv')"
   ]
  },
  {
   "cell_type": "code",
   "execution_count": 188,
   "id": "ce1a8638",
   "metadata": {},
   "outputs": [],
   "source": [
    "df.to_csv('E:/df.tsv', sep=\"\\t\")"
   ]
  },
  {
   "cell_type": "code",
   "execution_count": 189,
   "id": "c53f803f",
   "metadata": {},
   "outputs": [],
   "source": [
    "df.to_csv('E:/df1.csv' ,index=False)"
   ]
  },
  {
   "cell_type": "code",
   "execution_count": 195,
   "id": "1a4425a0",
   "metadata": {},
   "outputs": [],
   "source": [
    "import xlwt\n",
    "df.to_excel('E:/df.xls')\n",
    "import openpyxl\n",
    "df.to_excel('E:/df.xlsx')"
   ]
  },
  {
   "cell_type": "code",
   "execution_count": 196,
   "id": "3bac2118",
   "metadata": {},
   "outputs": [],
   "source": [
    "df.to_excel('E:/df1.xlsx',index=False)"
   ]
  },
  {
   "cell_type": "code",
   "execution_count": 204,
   "id": "39976fb0",
   "metadata": {},
   "outputs": [
    {
     "data": {
      "text/html": [
       "<div>\n",
       "<style scoped>\n",
       "    .dataframe tbody tr th:only-of-type {\n",
       "        vertical-align: middle;\n",
       "    }\n",
       "\n",
       "    .dataframe tbody tr th {\n",
       "        vertical-align: top;\n",
       "    }\n",
       "\n",
       "    .dataframe thead th {\n",
       "        text-align: right;\n",
       "    }\n",
       "</style>\n",
       "<table border=\"1\" class=\"dataframe\">\n",
       "  <thead>\n",
       "    <tr style=\"text-align: right;\">\n",
       "      <th></th>\n",
       "      <th>Name</th>\n",
       "      <th>Born</th>\n",
       "      <th>Died</th>\n",
       "      <th>Age</th>\n",
       "      <th>Occupation</th>\n",
       "    </tr>\n",
       "  </thead>\n",
       "  <tbody>\n",
       "    <tr>\n",
       "      <th>0</th>\n",
       "      <td>Rosaline Franklin</td>\n",
       "      <td>1920-07-25</td>\n",
       "      <td>1958-04-16</td>\n",
       "      <td>41</td>\n",
       "      <td>Chemist</td>\n",
       "    </tr>\n",
       "    <tr>\n",
       "      <th>1</th>\n",
       "      <td>William Gosset</td>\n",
       "      <td>1876-06-13</td>\n",
       "      <td>1937-10-16</td>\n",
       "      <td>66</td>\n",
       "      <td>Statistician</td>\n",
       "    </tr>\n",
       "    <tr>\n",
       "      <th>2</th>\n",
       "      <td>Florence Nightingale</td>\n",
       "      <td>1820-05-12</td>\n",
       "      <td>1910-08-13</td>\n",
       "      <td>77</td>\n",
       "      <td>Nurse</td>\n",
       "    </tr>\n",
       "    <tr>\n",
       "      <th>3</th>\n",
       "      <td>Marie Curie</td>\n",
       "      <td>1867-11-07</td>\n",
       "      <td>1934-07-04</td>\n",
       "      <td>45</td>\n",
       "      <td>Chemist</td>\n",
       "    </tr>\n",
       "    <tr>\n",
       "      <th>4</th>\n",
       "      <td>Rachel Carson</td>\n",
       "      <td>1907-05-27</td>\n",
       "      <td>1964-04-14</td>\n",
       "      <td>61</td>\n",
       "      <td>Biologist</td>\n",
       "    </tr>\n",
       "    <tr>\n",
       "      <th>5</th>\n",
       "      <td>John Snow</td>\n",
       "      <td>1813-03-15</td>\n",
       "      <td>1858-06-16</td>\n",
       "      <td>90</td>\n",
       "      <td>Physician</td>\n",
       "    </tr>\n",
       "    <tr>\n",
       "      <th>6</th>\n",
       "      <td>Alan Turing</td>\n",
       "      <td>1912-06-23</td>\n",
       "      <td>1954-06-07</td>\n",
       "      <td>56</td>\n",
       "      <td>Computer Scientist</td>\n",
       "    </tr>\n",
       "    <tr>\n",
       "      <th>7</th>\n",
       "      <td>Johann Gauss</td>\n",
       "      <td>1777-04-30</td>\n",
       "      <td>1855-02-23</td>\n",
       "      <td>37</td>\n",
       "      <td>Mathematician</td>\n",
       "    </tr>\n",
       "  </tbody>\n",
       "</table>\n",
       "</div>"
      ],
      "text/plain": [
       "                   Name        Born        Died  Age          Occupation\n",
       "0     Rosaline Franklin  1920-07-25  1958-04-16   41             Chemist\n",
       "1        William Gosset  1876-06-13  1937-10-16   66        Statistician\n",
       "2  Florence Nightingale  1820-05-12  1910-08-13   77               Nurse\n",
       "3           Marie Curie  1867-11-07  1934-07-04   45             Chemist\n",
       "4         Rachel Carson  1907-05-27  1964-04-14   61           Biologist\n",
       "5             John Snow  1813-03-15  1858-06-16   90           Physician\n",
       "6           Alan Turing  1912-06-23  1954-06-07   56  Computer Scientist\n",
       "7          Johann Gauss  1777-04-30  1855-02-23   37       Mathematician"
      ]
     },
     "execution_count": 204,
     "metadata": {},
     "output_type": "execute_result"
    }
   ],
   "source": [
    "df\n",
    "df_drop = df.drop(['age_days_dt'], axis = 1) \n",
    "df_drop"
   ]
  },
  {
   "cell_type": "code",
   "execution_count": 207,
   "id": "27942b2e",
   "metadata": {},
   "outputs": [
    {
     "name": "stdout",
     "output_type": "stream",
     "text": [
      "                   Name        Born        Died  Age          Occupation  \\\n",
      "0     Rosaline Franklin  1920-07-25  1958-04-16   41             Chemist   \n",
      "2  Florence Nightingale  1820-05-12  1910-08-13   77               Nurse   \n",
      "4         Rachel Carson  1907-05-27  1964-04-14   61           Biologist   \n",
      "6           Alan Turing  1912-06-23  1954-06-07   56  Computer Scientist   \n",
      "7          Johann Gauss  1777-04-30  1855-02-23   37       Mathematician   \n",
      "\n",
      "  age_days_dt  \n",
      "0  13779 days  \n",
      "2  32964 days  \n",
      "4  20777 days  \n",
      "6  15324 days  \n",
      "7  28422 days  \n",
      "                   Name        Born        Died  Age          Occupation  \\\n",
      "0     Rosaline Franklin  1920-07-25  1958-04-16   41             Chemist   \n",
      "2  Florence Nightingale  1820-05-12  1910-08-13   77               Nurse   \n",
      "4         Rachel Carson  1907-05-27  1964-04-14   61           Biologist   \n",
      "6           Alan Turing  1912-06-23  1954-06-07   56  Computer Scientist   \n",
      "7          Johann Gauss  1777-04-30  1855-02-23   37       Mathematician   \n",
      "\n",
      "  age_days_dt  \n",
      "0  13779 days  \n",
      "2  32964 days  \n",
      "4  20777 days  \n",
      "6  15324 days  \n",
      "7  28422 days  \n"
     ]
    }
   ],
   "source": [
    "df_drop = df.drop([1,3,5]) \n",
    "print(df_drop)\n",
    "df_drop = df.drop([1,3,5], axis=0)\n",
    "print(df_drop)"
   ]
  },
  {
   "cell_type": "code",
   "execution_count": 208,
   "id": "3173d329",
   "metadata": {},
   "outputs": [],
   "source": [
    "df1 = pd.read_csv('https://raw.githubusercontent.com/SoongMoo/soldesk202108/main/%EC%B0%B8%EA%B3%A0%EC%9E%90%EB%A3%8C/Pandas_pdf/data/concat_1.csv')\n",
    "df2 = pd.read_csv('https://raw.githubusercontent.com/SoongMoo/soldesk202108/main/%EC%B0%B8%EA%B3%A0%EC%9E%90%EB%A3%8C/Pandas_pdf/data/concat_2.csv')\n",
    "df3 = pd.read_csv('https://raw.githubusercontent.com/SoongMoo/soldesk202108/main/%EC%B0%B8%EA%B3%A0%EC%9E%90%EB%A3%8C/Pandas_pdf/data/concat_3.csv')"
   ]
  },
  {
   "cell_type": "code",
   "execution_count": 209,
   "id": "04547bf8",
   "metadata": {},
   "outputs": [
    {
     "name": "stdout",
     "output_type": "stream",
     "text": [
      "    A   B   C   D\n",
      "0  a0  b0  c0  d0\n",
      "1  a1  b1  c1  d1\n",
      "2  a2  b2  c2  d2\n",
      "3  a3  b3  c3  d3\n",
      "    A   B   C   D\n",
      "0  a4  b4  c4  d4\n",
      "1  a5  b5  c5  d5\n",
      "2  a6  b6  c6  d6\n",
      "3  a7  b7  c7  d7\n",
      "     A    B    C    D\n",
      "0   a8   b8   c8   d8\n",
      "1   a9   b9   c9   d9\n",
      "2  a10  b10  c10  d10\n",
      "3  a11  b11  c11  d11\n"
     ]
    }
   ],
   "source": [
    "print(df1)\n",
    "print(df2)\n",
    "print(df3)"
   ]
  },
  {
   "cell_type": "code",
   "execution_count": 210,
   "id": "c4c2e801",
   "metadata": {},
   "outputs": [
    {
     "name": "stdout",
     "output_type": "stream",
     "text": [
      "     A    B    C    D\n",
      "0   a0   b0   c0   d0\n",
      "1   a1   b1   c1   d1\n",
      "2   a2   b2   c2   d2\n",
      "3   a3   b3   c3   d3\n",
      "0   a4   b4   c4   d4\n",
      "1   a5   b5   c5   d5\n",
      "2   a6   b6   c6   d6\n",
      "3   a7   b7   c7   d7\n",
      "0   a8   b8   c8   d8\n",
      "1   a9   b9   c9   d9\n",
      "2  a10  b10  c10  d10\n",
      "3  a11  b11  c11  d11\n"
     ]
    }
   ],
   "source": [
    "row_concat = pd.concat([df1, df2, df3])\n",
    "print(row_concat)"
   ]
  },
  {
   "cell_type": "code",
   "execution_count": 211,
   "id": "de43c788",
   "metadata": {},
   "outputs": [
    {
     "name": "stdout",
     "output_type": "stream",
     "text": [
      "    A   B   C   D   A   B   C   D    A    B    C    D\n",
      "0  a0  b0  c0  d0  a4  b4  c4  d4   a8   b8   c8   d8\n",
      "1  a1  b1  c1  d1  a5  b5  c5  d5   a9   b9   c9   d9\n",
      "2  a2  b2  c2  d2  a6  b6  c6  d6  a10  b10  c10  d10\n",
      "3  a3  b3  c3  d3  a7  b7  c7  d7  a11  b11  c11  d11\n"
     ]
    }
   ],
   "source": [
    "col_concat = pd.concat([df1, df2, df3], axis=1)\n",
    "print(col_concat)"
   ]
  },
  {
   "cell_type": "code",
   "execution_count": 217,
   "id": "3c467c6c",
   "metadata": {},
   "outputs": [
    {
     "name": "stdout",
     "output_type": "stream",
     "text": [
      "     A    B    C    D\n",
      "0   a0   b0   c0   d0\n",
      "1   a1   b1   c1   d1\n",
      "2   a2   b2   c2   d2\n",
      "3   a3   b3   c3   d3\n",
      "0   a4   b4   c4   d4\n",
      "1   a5   b5   c5   d5\n",
      "2   a6   b6   c6   d6\n",
      "3   a7   b7   c7   d7\n",
      "0   a8   b8   c8   d8\n",
      "1   a9   b9   c9   d9\n",
      "2  a10  b10  c10  d10\n",
      "3  a11  b11  c11  d11\n",
      "    A   B   C   D\n",
      "0  a0  b0  c0  d0\n",
      "0  a4  b4  c4  d4\n",
      "0  a8  b8  c8  d8\n",
      "    A   B   C   D\n",
      "1  a1  b1  c1  d1\n",
      "1  a5  b5  c5  d5\n",
      "1  a9  b9  c9  d9\n",
      "A    a5\n",
      "B    b5\n",
      "C    c5\n",
      "D    d5\n",
      "Name: 1, dtype: object\n",
      "a5\n"
     ]
    }
   ],
   "source": [
    "print(row_concat)\n",
    "print(row_concat.loc[0])\n",
    "print(row_concat.loc[1])\n",
    "print(row_concat.iloc[5])"
   ]
  },
  {
   "cell_type": "code",
   "execution_count": 222,
   "id": "9b52cc73",
   "metadata": {},
   "outputs": [
    {
     "name": "stdout",
     "output_type": "stream",
     "text": [
      "a5\n",
      "a5\n",
      "A    a5\n",
      "B    b5\n",
      "C    c5\n",
      "D    d5\n",
      "Name: 1, dtype: object\n"
     ]
    }
   ],
   "source": [
    "print(row_concat.iloc[5][0])\n",
    "print(row_concat.iloc[5 , 0])\n",
    "print(row_concat.iloc[5, ])"
   ]
  },
  {
   "cell_type": "code",
   "execution_count": 225,
   "id": "10abdca0",
   "metadata": {},
   "outputs": [
    {
     "name": "stdout",
     "output_type": "stream",
     "text": [
      "0    n1\n",
      "1    n2\n",
      "2    n3\n",
      "3    n4\n",
      "dtype: object\n",
      "    A   B   C   D\n",
      "0  a0  b0  c0  d0\n",
      "1  a1  b1  c1  d1\n",
      "2  a2  b2  c2  d2\n",
      "3  a3  b3  c3  d3\n",
      "     0    A    B    C    D\n",
      "0   n1  NaN  NaN  NaN  NaN\n",
      "1   n2  NaN  NaN  NaN  NaN\n",
      "2   n3  NaN  NaN  NaN  NaN\n",
      "3   n4  NaN  NaN  NaN  NaN\n",
      "0  NaN   a0   b0   c0   d0\n",
      "1  NaN   a1   b1   c1   d1\n",
      "2  NaN   a2   b2   c2   d2\n",
      "3  NaN   a3   b3   c3   d3\n"
     ]
    }
   ],
   "source": [
    "new_row_series = pd.Series(['n1', 'n2', 'n3', 'n4']) \n",
    "print(new_row_series)\n",
    "print(df1)\n",
    "### dataframe_series 합치기\n",
    "dataframe_series = pd.concat([new_row_series,df1])\n",
    "print(dataframe_series)"
   ]
  },
  {
   "cell_type": "code",
   "execution_count": 226,
   "id": "a1e3479f",
   "metadata": {},
   "outputs": [
    {
     "name": "stdout",
     "output_type": "stream",
     "text": [
      "    0   A   B   C   D\n",
      "0  n1  a0  b0  c0  d0\n",
      "1  n2  a1  b1  c1  d1\n",
      "2  n3  a2  b2  c2  d2\n",
      "3  n4  a3  b3  c3  d3\n"
     ]
    }
   ],
   "source": [
    "dataframe_series1 = pd.concat([new_row_series,df1], axis = 1)\n",
    "print(dataframe_series1)"
   ]
  },
  {
   "cell_type": "code",
   "execution_count": 231,
   "id": "6abdf661",
   "metadata": {},
   "outputs": [
    {
     "name": "stdout",
     "output_type": "stream",
     "text": [
      "    A   B   C   D\n",
      "0  n1  n2  n3  n4\n"
     ]
    }
   ],
   "source": [
    "## 행 1개로 구성된 데이터프레임 생성\n",
    "df4 = pd.DataFrame([['n1','n2','n3','n4']], columns=['A', 'B' ,  'C' ,  'D'])\n",
    "print(df4)"
   ]
  },
  {
   "cell_type": "code",
   "execution_count": 233,
   "id": "f9b9f343",
   "metadata": {},
   "outputs": [
    {
     "name": "stdout",
     "output_type": "stream",
     "text": [
      "     A    B    C    D    0\n",
      "0   a0   b0   c0   d0  NaN\n",
      "1   a1   b1   c1   d1  NaN\n",
      "2   a2   b2   c2   d2  NaN\n",
      "3   a3   b3   c3   d3  NaN\n",
      "0  NaN  NaN  NaN  NaN   n1\n",
      "1  NaN  NaN  NaN  NaN   n2\n",
      "2  NaN  NaN  NaN  NaN   n3\n",
      "3  NaN  NaN  NaN  NaN   n4\n",
      "    A   B   C   D\n",
      "0  a0  b0  c0  d0\n",
      "1  a1  b1  c1  d1\n",
      "2  a2  b2  c2  d2\n",
      "3  a3  b3  c3  d3\n",
      "0  n1  n2  n3  n4\n"
     ]
    }
   ],
   "source": [
    "row_df = pd.concat([df1, new_row_series])\n",
    "print(row_df)\n",
    "row_df  = pd.concat([df1, df4])\n",
    "print(row_df)"
   ]
  },
  {
   "cell_type": "code",
   "execution_count": 236,
   "id": "2290df5e",
   "metadata": {},
   "outputs": [
    {
     "name": "stdout",
     "output_type": "stream",
     "text": [
      "    0   1   2   3\n",
      "0  n1  n2  n3  n4\n",
      "    A   B   C   D\n",
      "0  a0  b0  c0  d0\n",
      "1  a1  b1  c1  d1\n",
      "2  a2  b2  c2  d2\n",
      "3  a3  b3  c3  d3\n",
      "     A    B    C    D    0    1    2    3\n",
      "0   a0   b0   c0   d0  NaN  NaN  NaN  NaN\n",
      "1   a1   b1   c1   d1  NaN  NaN  NaN  NaN\n",
      "2   a2   b2   c2   d2  NaN  NaN  NaN  NaN\n",
      "3   a3   b3   c3   d3  NaN  NaN  NaN  NaN\n",
      "0  NaN  NaN  NaN  NaN   n1   n2   n3   n4\n"
     ]
    }
   ],
   "source": [
    "df4 = pd.DataFrame([['n1','n2','n3','n4']])\n",
    "print(df4)\n",
    "print(df1)\n",
    "row_df = pd.concat([df1, df4])\n",
    "print(row_df)"
   ]
  },
  {
   "cell_type": "code",
   "execution_count": 239,
   "id": "15f5478b",
   "metadata": {},
   "outputs": [
    {
     "name": "stdout",
     "output_type": "stream",
     "text": [
      "    A   B   C   D\n",
      "0  n1  n2  n3  n4\n",
      "    A   B   C   D\n",
      "0  a0  b0  c0  d0\n",
      "1  a1  b1  c1  d1\n",
      "2  a2  b2  c2  d2\n",
      "3  a3  b3  c3  d3\n",
      "      A     B     C     D\n",
      "0  a0n1  b0n2  c0n3  d0n4\n",
      "1   NaN   NaN   NaN   NaN\n",
      "2   NaN   NaN   NaN   NaN\n",
      "3   NaN   NaN   NaN   NaN\n"
     ]
    }
   ],
   "source": [
    "df4 = pd.DataFrame([['n1','n2','n3','n4']], columns=['A', 'B' ,  'C' ,  'D'])\n",
    "print(df4)\n",
    "print(df1)\n",
    "df5 = df1 + df4\n",
    "print(df5)"
   ]
  },
  {
   "cell_type": "code",
   "execution_count": 245,
   "id": "d65b0b8f",
   "metadata": {
    "scrolled": true
   },
   "outputs": [
    {
     "name": "stdout",
     "output_type": "stream",
     "text": [
      "    A   B   C   D\n",
      "0  a0  b0  c0  d0\n",
      "1  a1  b1  c1  d1\n",
      "2  a2  b2  c2  d2\n",
      "3  a3  b3  c3  d3\n",
      "    A   B   C   D\n",
      "0  n1  n2  n3  n4\n",
      "    A   B   C   D\n",
      "0  a0  b0  c0  d0\n",
      "1  a1  b1  c1  d1\n",
      "2  a2  b2  c2  d2\n",
      "3  a3  b3  c3  d3\n",
      "0  n1  n2  n3  n4\n",
      "    A   B   C   D\n",
      "0  a0  b0  c0  d0\n",
      "1  a1  b1  c1  d1\n",
      "2  a2  b2  c2  d2\n",
      "3  a3  b3  c3  d3\n",
      "0  n1  n2  n3  n4\n",
      "    A   B   C   D\n",
      "0  a0  b0  c0  d0\n",
      "1  a1  b1  c1  d1\n",
      "2  a2  b2  c2  d2\n",
      "3  a3  b3  c3  d3\n",
      "4  n1  n2  n3  n4\n",
      "      A    B    C    D\n",
      "0    a0   b0   c0   d0\n",
      "1    a1   b1   c1   d1\n",
      "2    a2   b2   c2   d2\n",
      "3    a3   b3   c3   d3\n",
      "4    a4   b4   c4   d4\n",
      "5    a5   b5   c5   d5\n",
      "6    a6   b6   c6   d6\n",
      "7    a7   b7   c7   d7\n",
      "8    a8   b8   c8   d8\n",
      "9    a9   b9   c9   d9\n",
      "10  a10  b10  c10  d10\n",
      "11  a11  b11  c11  d11\n"
     ]
    }
   ],
   "source": [
    "print(df1)\n",
    "print(df4)\n",
    "row_df1 = pd.concat([df1,df4])\n",
    "print(row_df1)\n",
    "row_df1  = df1.append(df4)\n",
    "print(row_df1)\n",
    "row_df1 = df1.append(df4, ignore_index= True)\n",
    "print(row_df1)\n",
    "row_df2 = pd.concat([df1,df2,df3], ignore_index= True )\n",
    "print(row_df2)"
   ]
  },
  {
   "cell_type": "code",
   "execution_count": 248,
   "id": "90ecd997",
   "metadata": {},
   "outputs": [
    {
     "name": "stdout",
     "output_type": "stream",
     "text": [
      "   0   1   2   3   4   5   6   7    8    9    10   11\n",
      "0  a0  b0  c0  d0  a4  b4  c4  d4   a8   b8   c8   d8\n",
      "1  a1  b1  c1  d1  a5  b5  c5  d5   a9   b9   c9   d9\n",
      "2  a2  b2  c2  d2  a6  b6  c6  d6  a10  b10  c10  d10\n",
      "3  a3  b3  c3  d3  a7  b7  c7  d7  a11  b11  c11  d11\n"
     ]
    }
   ],
   "source": [
    "col_concat = pd.concat([df1, df2, df3], axis=1, ignore_index= True)\n",
    "print(col_concat)"
   ]
  },
  {
   "cell_type": "code",
   "execution_count": 250,
   "id": "01729226",
   "metadata": {},
   "outputs": [
    {
     "name": "stdout",
     "output_type": "stream",
     "text": [
      "    A   B   C   D\n",
      "0  a0  b0  c0  d0\n",
      "1  a1  b1  c1  d1\n",
      "2  a2  b2  c2  d2\n",
      "3  a3  b3  c3  d3\n",
      "    E   F   G   H\n",
      "0  a4  b4  c4  d4\n",
      "1  a5  b5  c5  d5\n",
      "2  a6  b6  c6  d6\n",
      "3  a7  b7  c7  d7\n",
      "     A    C    F    H\n",
      "0   a8   b8   c8   d8\n",
      "1   a9   b9   c9   d9\n",
      "2  a10  b10  c10  d10\n",
      "3  a11  b11  c11  d11\n",
      "    A   B   C   D\n",
      "0  a0  b0  c0  d0\n",
      "1  a1  b1  c1  d1\n",
      "2  a2  b2  c2  d2\n",
      "3  a3  b3  c3  d3\n",
      "    E   F   G   H\n",
      "0  a4  b4  c4  d4\n",
      "1  a5  b5  c5  d5\n",
      "2  a6  b6  c6  d6\n",
      "3  a7  b7  c7  d7\n",
      "     A    C    F    H\n",
      "0   a8   b8   c8   d8\n",
      "1   a9   b9   c9   d9\n",
      "2  a10  b10  c10  d10\n",
      "3  a11  b11  c11  d11\n",
      "     A    B    C    D    E    F    G    H\n",
      "0   a0   b0   c0   d0  NaN  NaN  NaN  NaN\n",
      "1   a1   b1   c1   d1  NaN  NaN  NaN  NaN\n",
      "2   a2   b2   c2   d2  NaN  NaN  NaN  NaN\n",
      "3   a3   b3   c3   d3  NaN  NaN  NaN  NaN\n",
      "0  NaN  NaN  NaN  NaN   a4   b4   c4   d4\n",
      "1  NaN  NaN  NaN  NaN   a5   b5   c5   d5\n",
      "2  NaN  NaN  NaN  NaN   a6   b6   c6   d6\n",
      "3  NaN  NaN  NaN  NaN   a7   b7   c7   d7\n",
      "0   a8  NaN   b8  NaN  NaN   c8  NaN   d8\n",
      "1   a9  NaN   b9  NaN  NaN   c9  NaN   d9\n",
      "2  a10  NaN  b10  NaN  NaN  c10  NaN  d10\n",
      "3  a11  NaN  b11  NaN  NaN  c11  NaN  d11\n"
     ]
    }
   ],
   "source": [
    "print(df1)\n",
    "print(df2)\n",
    "print(df3)\n",
    "df2.columns = ['E','F','G','H']\n",
    "df3.columns = ['A','C','F','H']\n",
    "print(df1)\n",
    "print(df2)\n",
    "print(df3)\n",
    "print(pd.concat([df1,df2,df3]))"
   ]
  },
  {
   "cell_type": "code",
   "execution_count": 254,
   "id": "ec7bc840",
   "metadata": {},
   "outputs": [
    {
     "name": "stdout",
     "output_type": "stream",
     "text": [
      "     A    B    C    D    F    H\n",
      "0   a0   b0   c0   d0  NaN  NaN\n",
      "1   a1   b1   c1   d1  NaN  NaN\n",
      "2   a2   b2   c2   d2  NaN  NaN\n",
      "3   a3   b3   c3   d3  NaN  NaN\n",
      "0   a8  NaN   b8  NaN   c8   d8\n",
      "1   a9  NaN   b9  NaN   c9   d9\n",
      "2  a10  NaN  b10  NaN  c10  d10\n",
      "3  a11  NaN  b11  NaN  c11  d11\n",
      "     A    C\n",
      "0   a0   c0\n",
      "1   a1   c1\n",
      "2   a2   c2\n",
      "3   a3   c3\n",
      "4   a8   b8\n",
      "5   a9   b9\n",
      "6  a10  b10\n",
      "7  a11  b11\n"
     ]
    }
   ],
   "source": [
    "# 열이 같은 것 만 붙이기\n",
    "df4 = pd.concat([df1,df3]) \n",
    "print(df4)\n",
    "same_df1_df3 = pd.concat([df1, df3], join ='inner' , ignore_index=True)\n",
    "print(same_df1_df3)"
   ]
  },
  {
   "cell_type": "code",
   "execution_count": 257,
   "id": "9d24b5e1",
   "metadata": {},
   "outputs": [
    {
     "name": "stdout",
     "output_type": "stream",
     "text": [
      "     E    F    G    H    A    C\n",
      "0   a4   b4   c4   d4  NaN  NaN\n",
      "1   a5   b5   c5   d5  NaN  NaN\n",
      "2   a6   b6   c6   d6  NaN  NaN\n",
      "3   a7   b7   c7   d7  NaN  NaN\n",
      "0  NaN   c8  NaN   d8   a8   b8\n",
      "1  NaN   c9  NaN   d9   a9   b9\n",
      "2  NaN  c10  NaN  d10  a10  b10\n",
      "3  NaN  c11  NaN  d11  a11  b11\n",
      "     F    H\n",
      "0   b4   d4\n",
      "1   b5   d5\n",
      "2   b6   d6\n",
      "3   b7   d7\n",
      "4   c8   d8\n",
      "5   c9   d9\n",
      "6  c10  d10\n",
      "7  c11  d11\n"
     ]
    }
   ],
   "source": [
    "df4 = pd.concat([df2, df3])\n",
    "print(df4)\n",
    "same_df2_df3 = pd.concat([df2,df3],  join= 'inner' , ignore_index=True )\n",
    "print(same_df2_df3)"
   ]
  },
  {
   "cell_type": "code",
   "execution_count": 260,
   "id": "2fa521d7",
   "metadata": {},
   "outputs": [
    {
     "name": "stdout",
     "output_type": "stream",
     "text": [
      "    E   F   G   H\n",
      "4  a4  b4  c4  d4\n",
      "5  a5  b5  c5  d5\n",
      "6  a6  b6  c6  d6\n",
      "7  a7  b7  c7  d7\n",
      "     A    C    F    H\n",
      "0   a8   b8   c8   d8\n",
      "2   a9   b9   c9   d9\n",
      "5  a10  b10  c10  d10\n",
      "7  a11  b11  c11  d11\n",
      "    A   B   C   D   A   C   F   H\n",
      "0  a0  b0  c0  d0  a8  b8  c8  d8\n",
      "2  a2  b2  c2  d2  a9  b9  c9  d9\n"
     ]
    }
   ],
   "source": [
    "df2.index = [4, 5, 6, 7] \n",
    "df3.index = [0, 2, 5, 7]\n",
    "print(df2)\n",
    "print(df3)\n",
    "col_concat = pd.concat([df1,df3] ,axis= 1, join ='inner')\n",
    "print(col_concat)"
   ]
  },
  {
   "cell_type": "code",
   "execution_count": 261,
   "id": "dffc8c19",
   "metadata": {},
   "outputs": [],
   "source": [
    "site = pd.read_csv('https://raw.githubusercontent.com/SoongMoo/soldesk202108/main/%EC%B0%B8%EA%B3%A0%EC%9E%90%EB%A3%8C/Pandas_pdf/data/survey_site.csv')\n",
    "visited = pd.read_csv('https://raw.githubusercontent.com/SoongMoo/soldesk202108/main/%EC%B0%B8%EA%B3%A0%EC%9E%90%EB%A3%8C/Pandas_pdf/data/survey_visited.csv')"
   ]
  },
  {
   "cell_type": "code",
   "execution_count": 262,
   "id": "f46839e9",
   "metadata": {},
   "outputs": [
    {
     "name": "stdout",
     "output_type": "stream",
     "text": [
      "    name    lat    long\n",
      "0   DR-1 -49.85 -128.57\n",
      "1   DR-3 -47.15 -126.72\n",
      "2  MSK-4 -48.87 -123.40\n",
      "   ident   site       dated\n",
      "0    619   DR-1  1927-02-08\n",
      "1    622   DR-1  1927-02-10\n",
      "2    734   DR-3  1939-01-07\n",
      "3    735   DR-3  1930-01-12\n",
      "4    751   DR-3  1930-02-26\n",
      "5    752   DR-3         NaN\n",
      "6    837  MSK-4  1932-01-14\n",
      "7    844   DR-1  1932-03-22\n"
     ]
    }
   ],
   "source": [
    "print(site)\n",
    "print(visited)"
   ]
  },
  {
   "cell_type": "code",
   "execution_count": 264,
   "id": "88a033ad",
   "metadata": {},
   "outputs": [
    {
     "name": "stdout",
     "output_type": "stream",
     "text": [
      "    name    lat    long  ident   site       dated\n",
      "0   DR-1 -49.85 -128.57    619   DR-1  1927-02-08\n",
      "1   DR-1 -49.85 -128.57    622   DR-1  1927-02-10\n",
      "2   DR-1 -49.85 -128.57    844   DR-1  1932-03-22\n",
      "3   DR-3 -47.15 -126.72    734   DR-3  1939-01-07\n",
      "4   DR-3 -47.15 -126.72    735   DR-3  1930-01-12\n",
      "5   DR-3 -47.15 -126.72    751   DR-3  1930-02-26\n",
      "6   DR-3 -47.15 -126.72    752   DR-3         NaN\n",
      "7  MSK-4 -48.87 -123.40    837  MSK-4  1932-01-14\n"
     ]
    }
   ],
   "source": [
    "site_visited = site.merge(visited,left_on='name',right_on='site')\n",
    "print(site_visited)\n",
    "#### where site.name= visit.site "
   ]
  },
  {
   "cell_type": "code",
   "execution_count": 266,
   "id": "dc286880",
   "metadata": {},
   "outputs": [],
   "source": [
    "person = pd.read_csv('https://raw.githubusercontent.com/SoongMoo/soldesk202108/main/%EC%B0%B8%EA%B3%A0%EC%9E%90%EB%A3%8C/Pandas_pdf/data/survey_person.csv')\n",
    "survey = pd.read_csv('https://raw.githubusercontent.com/SoongMoo/soldesk202108/main/%EC%B0%B8%EA%B3%A0%EC%9E%90%EB%A3%8C/Pandas_pdf/data/survey_survey.csv')"
   ]
  },
  {
   "cell_type": "code",
   "execution_count": 267,
   "id": "52ddcc9b",
   "metadata": {},
   "outputs": [
    {
     "name": "stdout",
     "output_type": "stream",
     "text": [
      "      ident   personal    family\n",
      "0      dyer    William      Dyer\n",
      "1        pb      Frank   Pabodie\n",
      "2      lake   Anderson      Lake\n",
      "3       roe  Valentina   Roerich\n",
      "4  danforth      Frank  Danforth\n",
      "    taken person quant  reading\n",
      "0     619   dyer   rad     9.82\n",
      "1     619   dyer   sal     0.13\n",
      "2     622   dyer   rad     7.80\n",
      "3     622   dyer   sal     0.09\n",
      "4     734     pb   rad     8.41\n",
      "5     734   lake   sal     0.05\n",
      "6     734     pb  temp   -21.50\n",
      "7     735     pb   rad     7.22\n",
      "8     735    NaN   sal     0.06\n",
      "9     735    NaN  temp   -26.00\n",
      "10    751     pb   rad     4.35\n",
      "11    751     pb  temp   -18.50\n",
      "12    751   lake   sal     0.10\n",
      "13    752   lake   rad     2.19\n",
      "14    752   lake   sal     0.09\n",
      "15    752   lake  temp   -16.00\n",
      "16    752    roe   sal    41.60\n",
      "17    837   lake   rad     1.46\n",
      "18    837   lake   sal     0.21\n",
      "19    837    roe   sal    22.50\n",
      "20    844    roe   rad    11.25\n"
     ]
    }
   ],
   "source": [
    "print(person)\n",
    "print(survey)"
   ]
  },
  {
   "cell_type": "code",
   "execution_count": 289,
   "id": "bbc2a8d1",
   "metadata": {},
   "outputs": [
    {
     "name": "stdout",
     "output_type": "stream",
     "text": [
      "       ident   personal    family  taken person quant  reading\n",
      "0       dyer    William      Dyer  619.0   dyer   rad     9.82\n",
      "1       dyer    William      Dyer  619.0   dyer   sal     0.13\n",
      "2       dyer    William      Dyer  622.0   dyer   rad     7.80\n",
      "3       dyer    William      Dyer  622.0   dyer   sal     0.09\n",
      "4         pb      Frank   Pabodie  734.0     pb   rad     8.41\n",
      "5         pb      Frank   Pabodie  734.0     pb  temp   -21.50\n",
      "6         pb      Frank   Pabodie  735.0     pb   rad     7.22\n",
      "7         pb      Frank   Pabodie  751.0     pb   rad     4.35\n",
      "8         pb      Frank   Pabodie  751.0     pb  temp   -18.50\n",
      "9       lake   Anderson      Lake  734.0   lake   sal     0.05\n",
      "10      lake   Anderson      Lake  751.0   lake   sal     0.10\n",
      "11      lake   Anderson      Lake  752.0   lake   rad     2.19\n",
      "12      lake   Anderson      Lake  752.0   lake   sal     0.09\n",
      "13      lake   Anderson      Lake  752.0   lake  temp   -16.00\n",
      "14      lake   Anderson      Lake  837.0   lake   rad     1.46\n",
      "15      lake   Anderson      Lake  837.0   lake   sal     0.21\n",
      "16       roe  Valentina   Roerich  752.0    roe   sal    41.60\n",
      "17       roe  Valentina   Roerich  837.0    roe   sal    22.50\n",
      "18       roe  Valentina   Roerich  844.0    roe   rad    11.25\n",
      "19  danforth      Frank  Danforth    NaN    NaN   NaN      NaN\n",
      "20       NaN        NaN       NaN  735.0    NaN   sal     0.06\n",
      "21       NaN        NaN       NaN  735.0    NaN  temp   -26.00\n"
     ]
    }
   ],
   "source": [
    "person_survey = person.merge(survey, left_on='ident', right_on='person', how='outer')\n",
    "print(person_survey)\n",
    "'''inner, outer, left, right'''"
   ]
  },
  {
   "cell_type": "code",
   "execution_count": 271,
   "id": "61114d72",
   "metadata": {},
   "outputs": [
    {
     "name": "stdout",
     "output_type": "stream",
     "text": [
      "   ident   site       dated\n",
      "0    619   DR-1  1927-02-08\n",
      "1    622   DR-1  1927-02-10\n",
      "2    734   DR-3  1939-01-07\n",
      "3    735   DR-3  1930-01-12\n",
      "4    751   DR-3  1930-02-26\n",
      "5    752   DR-3         NaN\n",
      "6    837  MSK-4  1932-01-14\n",
      "7    844   DR-1  1932-03-22\n",
      "    taken person quant  reading\n",
      "0     619   dyer   rad     9.82\n",
      "1     619   dyer   sal     0.13\n",
      "2     622   dyer   rad     7.80\n",
      "3     622   dyer   sal     0.09\n",
      "4     734     pb   rad     8.41\n",
      "5     734   lake   sal     0.05\n",
      "6     734     pb  temp   -21.50\n",
      "7     735     pb   rad     7.22\n",
      "8     735    NaN   sal     0.06\n",
      "9     735    NaN  temp   -26.00\n",
      "10    751     pb   rad     4.35\n",
      "11    751     pb  temp   -18.50\n",
      "12    751   lake   sal     0.10\n",
      "13    752   lake   rad     2.19\n",
      "14    752   lake   sal     0.09\n",
      "15    752   lake  temp   -16.00\n",
      "16    752    roe   sal    41.60\n",
      "17    837   lake   rad     1.46\n",
      "18    837   lake   sal     0.21\n",
      "19    837    roe   sal    22.50\n",
      "20    844    roe   rad    11.25\n"
     ]
    }
   ],
   "source": [
    "print(visited)\n",
    "print(survey)"
   ]
  },
  {
   "cell_type": "code",
   "execution_count": 272,
   "id": "35c2736e",
   "metadata": {},
   "outputs": [
    {
     "name": "stdout",
     "output_type": "stream",
     "text": [
      "    ident   site       dated  taken person quant  reading\n",
      "0     619   DR-1  1927-02-08    619   dyer   rad     9.82\n",
      "1     619   DR-1  1927-02-08    619   dyer   sal     0.13\n",
      "2     622   DR-1  1927-02-10    622   dyer   rad     7.80\n",
      "3     622   DR-1  1927-02-10    622   dyer   sal     0.09\n",
      "4     734   DR-3  1939-01-07    734     pb   rad     8.41\n",
      "5     734   DR-3  1939-01-07    734   lake   sal     0.05\n",
      "6     734   DR-3  1939-01-07    734     pb  temp   -21.50\n",
      "7     735   DR-3  1930-01-12    735     pb   rad     7.22\n",
      "8     735   DR-3  1930-01-12    735    NaN   sal     0.06\n",
      "9     735   DR-3  1930-01-12    735    NaN  temp   -26.00\n",
      "10    751   DR-3  1930-02-26    751     pb   rad     4.35\n",
      "11    751   DR-3  1930-02-26    751     pb  temp   -18.50\n",
      "12    751   DR-3  1930-02-26    751   lake   sal     0.10\n",
      "13    752   DR-3         NaN    752   lake   rad     2.19\n",
      "14    752   DR-3         NaN    752   lake   sal     0.09\n",
      "15    752   DR-3         NaN    752   lake  temp   -16.00\n",
      "16    752   DR-3         NaN    752    roe   sal    41.60\n",
      "17    837  MSK-4  1932-01-14    837   lake   rad     1.46\n",
      "18    837  MSK-4  1932-01-14    837   lake   sal     0.21\n",
      "19    837  MSK-4  1932-01-14    837    roe   sal    22.50\n",
      "20    844   DR-1  1932-03-22    844    roe   rad    11.25\n"
     ]
    }
   ],
   "source": [
    "visited_survey = visited.merge(survey , left_on='ident', right_on='taken')\n",
    "print(visited_survey)"
   ]
  },
  {
   "cell_type": "code",
   "execution_count": 273,
   "id": "fbf7c9fb",
   "metadata": {},
   "outputs": [
    {
     "name": "stdout",
     "output_type": "stream",
     "text": [
      "    taken person quant  reading ident   personal   family\n",
      "0     619   dyer   rad     9.82  dyer    William     Dyer\n",
      "1     619   dyer   sal     0.13  dyer    William     Dyer\n",
      "2     622   dyer   rad     7.80  dyer    William     Dyer\n",
      "3     622   dyer   sal     0.09  dyer    William     Dyer\n",
      "4     734     pb   rad     8.41    pb      Frank  Pabodie\n",
      "5     734     pb  temp   -21.50    pb      Frank  Pabodie\n",
      "6     735     pb   rad     7.22    pb      Frank  Pabodie\n",
      "7     751     pb   rad     4.35    pb      Frank  Pabodie\n",
      "8     751     pb  temp   -18.50    pb      Frank  Pabodie\n",
      "9     734   lake   sal     0.05  lake   Anderson     Lake\n",
      "10    751   lake   sal     0.10  lake   Anderson     Lake\n",
      "11    752   lake   rad     2.19  lake   Anderson     Lake\n",
      "12    752   lake   sal     0.09  lake   Anderson     Lake\n",
      "13    752   lake  temp   -16.00  lake   Anderson     Lake\n",
      "14    837   lake   rad     1.46  lake   Anderson     Lake\n",
      "15    837   lake   sal     0.21  lake   Anderson     Lake\n",
      "16    752    roe   sal    41.60   roe  Valentina  Roerich\n",
      "17    837    roe   sal    22.50   roe  Valentina  Roerich\n",
      "18    844    roe   rad    11.25   roe  Valentina  Roerich\n",
      "    ident   site       dated  taken person quant  reading\n",
      "0     619   DR-1  1927-02-08    619   dyer   rad     9.82\n",
      "1     619   DR-1  1927-02-08    619   dyer   sal     0.13\n",
      "2     622   DR-1  1927-02-10    622   dyer   rad     7.80\n",
      "3     622   DR-1  1927-02-10    622   dyer   sal     0.09\n",
      "4     734   DR-3  1939-01-07    734     pb   rad     8.41\n",
      "5     734   DR-3  1939-01-07    734   lake   sal     0.05\n",
      "6     734   DR-3  1939-01-07    734     pb  temp   -21.50\n",
      "7     735   DR-3  1930-01-12    735     pb   rad     7.22\n",
      "8     735   DR-3  1930-01-12    735    NaN   sal     0.06\n",
      "9     735   DR-3  1930-01-12    735    NaN  temp   -26.00\n",
      "10    751   DR-3  1930-02-26    751     pb   rad     4.35\n",
      "11    751   DR-3  1930-02-26    751     pb  temp   -18.50\n",
      "12    751   DR-3  1930-02-26    751   lake   sal     0.10\n",
      "13    752   DR-3         NaN    752   lake   rad     2.19\n",
      "14    752   DR-3         NaN    752   lake   sal     0.09\n",
      "15    752   DR-3         NaN    752   lake  temp   -16.00\n",
      "16    752   DR-3         NaN    752    roe   sal    41.60\n",
      "17    837  MSK-4  1932-01-14    837   lake   rad     1.46\n",
      "18    837  MSK-4  1932-01-14    837   lake   sal     0.21\n",
      "19    837  MSK-4  1932-01-14    837    roe   sal    22.50\n",
      "20    844   DR-1  1932-03-22    844    roe   rad    11.25\n"
     ]
    }
   ],
   "source": [
    "print(person_survey)\n",
    "print(visited_survey)"
   ]
  },
  {
   "cell_type": "code",
   "execution_count": 275,
   "id": "f531607b",
   "metadata": {},
   "outputs": [
    {
     "name": "stdout",
     "output_type": "stream",
     "text": [
      "    taken_x person_x quant  reading ident_x   personal   family  ident_y  \\\n",
      "0       619     dyer   rad     9.82    dyer    William     Dyer      619   \n",
      "1       619     dyer   sal     0.13    dyer    William     Dyer      619   \n",
      "2       622     dyer   rad     7.80    dyer    William     Dyer      622   \n",
      "3       622     dyer   sal     0.09    dyer    William     Dyer      622   \n",
      "4       734       pb   rad     8.41      pb      Frank  Pabodie      734   \n",
      "5       734       pb  temp   -21.50      pb      Frank  Pabodie      734   \n",
      "6       735       pb   rad     7.22      pb      Frank  Pabodie      735   \n",
      "7       751       pb   rad     4.35      pb      Frank  Pabodie      751   \n",
      "8       751       pb  temp   -18.50      pb      Frank  Pabodie      751   \n",
      "9       734     lake   sal     0.05    lake   Anderson     Lake      734   \n",
      "10      751     lake   sal     0.10    lake   Anderson     Lake      751   \n",
      "11      752     lake   rad     2.19    lake   Anderson     Lake      752   \n",
      "12      752     lake   sal     0.09    lake   Anderson     Lake      752   \n",
      "13      752     lake  temp   -16.00    lake   Anderson     Lake      752   \n",
      "14      837     lake   rad     1.46    lake   Anderson     Lake      837   \n",
      "15      837     lake   sal     0.21    lake   Anderson     Lake      837   \n",
      "16      752      roe   sal    41.60     roe  Valentina  Roerich      752   \n",
      "17      837      roe   sal    22.50     roe  Valentina  Roerich      837   \n",
      "18      844      roe   rad    11.25     roe  Valentina  Roerich      844   \n",
      "\n",
      "     site       dated  taken_y person_y  \n",
      "0    DR-1  1927-02-08      619     dyer  \n",
      "1    DR-1  1927-02-08      619     dyer  \n",
      "2    DR-1  1927-02-10      622     dyer  \n",
      "3    DR-1  1927-02-10      622     dyer  \n",
      "4    DR-3  1939-01-07      734       pb  \n",
      "5    DR-3  1939-01-07      734       pb  \n",
      "6    DR-3  1930-01-12      735       pb  \n",
      "7    DR-3  1930-02-26      751       pb  \n",
      "8    DR-3  1930-02-26      751       pb  \n",
      "9    DR-3  1939-01-07      734     lake  \n",
      "10   DR-3  1930-02-26      751     lake  \n",
      "11   DR-3         NaN      752     lake  \n",
      "12   DR-3         NaN      752     lake  \n",
      "13   DR-3         NaN      752     lake  \n",
      "14  MSK-4  1932-01-14      837     lake  \n",
      "15  MSK-4  1932-01-14      837     lake  \n",
      "16   DR-3         NaN      752      roe  \n",
      "17  MSK-4  1932-01-14      837      roe  \n",
      "18   DR-1  1932-03-22      844      roe  \n"
     ]
    }
   ],
   "source": [
    "ps_vs = person_survey.merge(visited_survey,left_on=['ident','taken','quant','reading'],\n",
    "                           right_on=['person','ident','quant','reading'])\n",
    "print(ps_vs)"
   ]
  },
  {
   "cell_type": "code",
   "execution_count": 276,
   "id": "e890d5a9",
   "metadata": {},
   "outputs": [
    {
     "name": "stdout",
     "output_type": "stream",
     "text": [
      "False\n",
      "False\n",
      "False\n"
     ]
    }
   ],
   "source": [
    "from numpy import NaN, NAN, nan\n",
    "print(NaN == True)\n",
    "print(NAN == True)\n",
    "print(nan == True)"
   ]
  },
  {
   "cell_type": "code",
   "execution_count": 277,
   "id": "73bb796e",
   "metadata": {},
   "outputs": [
    {
     "name": "stdout",
     "output_type": "stream",
     "text": [
      "False\n",
      "False\n",
      "False\n"
     ]
    }
   ],
   "source": [
    "print(NaN == False)\n",
    "print(NAN == False)\n",
    "print(nan == False)"
   ]
  },
  {
   "cell_type": "code",
   "execution_count": 278,
   "id": "6c61200a",
   "metadata": {},
   "outputs": [
    {
     "name": "stdout",
     "output_type": "stream",
     "text": [
      "False\n",
      "False\n",
      "False\n"
     ]
    }
   ],
   "source": [
    "print(NaN == 0)\n",
    "print(NaN == '')\n",
    "print(NaN == None)"
   ]
  },
  {
   "cell_type": "code",
   "execution_count": 279,
   "id": "686cf322",
   "metadata": {},
   "outputs": [
    {
     "name": "stdout",
     "output_type": "stream",
     "text": [
      "False\n"
     ]
    }
   ],
   "source": [
    "print(NaN == NaN)\n",
    "'''\n",
    "select * from employees where department_id is null\n",
    "'''"
   ]
  },
  {
   "cell_type": "code",
   "execution_count": 281,
   "id": "4f42d457",
   "metadata": {},
   "outputs": [
    {
     "name": "stdout",
     "output_type": "stream",
     "text": [
      "True\n",
      "True\n",
      "False\n"
     ]
    }
   ],
   "source": [
    "print(pd.isnull(NAN))\n",
    "print(pd.notnull(42))\n",
    "print(pd.isnull(42))"
   ]
  },
  {
   "cell_type": "code",
   "execution_count": 286,
   "id": "db0ce077",
   "metadata": {},
   "outputs": [
    {
     "name": "stdout",
     "output_type": "stream",
     "text": [
      "taken       19\n",
      "person      19\n",
      "quant       19\n",
      "reading     19\n",
      "ident       19\n",
      "personal    19\n",
      "family      19\n",
      "dtype: int64\n",
      "ident      21\n",
      "site       21\n",
      "dated      17\n",
      "taken      21\n",
      "person     19\n",
      "quant      21\n",
      "reading    21\n",
      "dtype: int64\n",
      "(21, 7)\n",
      "ident      0\n",
      "site       0\n",
      "dated      4\n",
      "taken      0\n",
      "person     2\n",
      "quant      0\n",
      "reading    0\n",
      "dtype: int64\n"
     ]
    }
   ],
   "source": [
    "#### 데이터 갯수\n",
    "print(person_survey.count())\n",
    "print(visited_survey.count())\n",
    "print(visited_survey.shape)\n",
    "print(visited_survey.shape[0] - visited_survey.count())"
   ]
  },
  {
   "cell_type": "code",
   "execution_count": 290,
   "id": "19966a84",
   "metadata": {},
   "outputs": [
    {
     "name": "stdout",
     "output_type": "stream",
     "text": [
      "goat      4.0\n",
      "amoeba    NaN\n",
      "dtype: float64\n"
     ]
    }
   ],
   "source": [
    "num_legs = pd.Series({'goat': 4, 'amoeba': nan }) \n",
    "print(num_legs)"
   ]
  },
  {
   "cell_type": "code",
   "execution_count": 295,
   "id": "1aea39ef",
   "metadata": {},
   "outputs": [
    {
     "name": "stdout",
     "output_type": "stream",
     "text": [
      "  Name  age        born  missing\n",
      "0  이숭무   30  1990-10-15      NaN\n",
      "1  이장범   18  2005-05-27      NaN\n",
      "2  이상범   17  2006-09-27      NaN\n"
     ]
    }
   ],
   "source": [
    "df = pd.DataFrame({\n",
    "    'Name': ['이숭무', '이장범', '이상범'],\n",
    "    'age':[30,18,17],\n",
    "    'born':['1990-10-15','2005-05-27','2006-09-27'],\n",
    "    'missing':[NaN,NaN,NaN]\n",
    "})\n",
    "print(df)"
   ]
  },
  {
   "cell_type": "code",
   "execution_count": 296,
   "id": "2982b5e7",
   "metadata": {},
   "outputs": [],
   "source": [
    "df = pd.read_csv('https://raw.githubusercontent.com/SoongMoo/soldesk202108/main/%EC%B0%B8%EA%B3%A0%EC%9E%90%EB%A3%8C/Pandas_pdf/data/gapminder.tsv',sep='\\t')"
   ]
  },
  {
   "cell_type": "code",
   "execution_count": 299,
   "id": "a581711f",
   "metadata": {},
   "outputs": [
    {
     "name": "stdout",
     "output_type": "stream",
     "text": [
      "country      1704\n",
      "continent    1704\n",
      "year         1704\n",
      "lifeExp      1704\n",
      "pop          1704\n",
      "gdpPercap    1704\n",
      "dtype: int64\n"
     ]
    }
   ],
   "source": [
    "print(df.count())"
   ]
  },
  {
   "cell_type": "code",
   "execution_count": 308,
   "id": "5a4c6bf3",
   "metadata": {},
   "outputs": [
    {
     "name": "stdout",
     "output_type": "stream",
     "text": [
      "year\n",
      "1952    49.057620\n",
      "1957    51.507401\n",
      "1962    53.609249\n",
      "1967    55.678290\n",
      "1972    57.647386\n",
      "1977    59.570157\n",
      "1982    61.533197\n",
      "1987    63.212613\n",
      "1992    64.160338\n",
      "1997    65.014676\n",
      "2002    65.694923\n",
      "2007    67.007423\n",
      "Name: lifeExp, dtype: float64\n",
      "year\n",
      "1952    49.057620\n",
      "1957    51.507401\n",
      "1962    53.609249\n",
      "1967    55.678290\n",
      "1972    57.647386\n",
      "1977    59.570157\n",
      "1982    61.533197\n",
      "1987    63.212613\n",
      "1992    64.160338\n",
      "1997    65.014676\n",
      "2002    65.694923\n",
      "2007    67.007423\n",
      "Name: lifeExp, dtype: float64\n",
      "<class 'pandas.core.series.Series'>\n",
      "65.69492253521126\n",
      "67.00742253521126\n"
     ]
    }
   ],
   "source": [
    "#### 각년도별 평균수명은?\n",
    "life_exp = df.groupby(['year'])['lifeExp'].mean()\n",
    "print(life_exp)\n",
    "life_exp = df.groupby(['year']).lifeExp.mean()\n",
    "print(life_exp)\n",
    "### 2002년도, 2007년도\n",
    "print(type(life_exp))\n",
    "print(life_exp[2002])\n",
    "print(life_exp[2007])"
   ]
  },
  {
   "cell_type": "code",
   "execution_count": 313,
   "id": "2f8c6ce1",
   "metadata": {},
   "outputs": [
    {
     "name": "stdout",
     "output_type": "stream",
     "text": [
      "year\n",
      "1952    49.057620\n",
      "1957    51.507401\n",
      "1962    53.609249\n",
      "1967    55.678290\n",
      "1972    57.647386\n",
      "1977    59.570157\n",
      "1982    61.533197\n",
      "1987    63.212613\n",
      "1992    64.160338\n",
      "1997    65.014676\n",
      "Name: lifeExp, dtype: float64\n",
      "year\n",
      "2002    65.694923\n",
      "2007    67.007423\n",
      "Name: lifeExp, dtype: float64\n"
     ]
    }
   ],
   "source": [
    "#### 2000 년도 보다 이전 년도의 평균 수명을 출력하시오,\n",
    "print(life_exp[life_exp.index < 2000])\n",
    "#### 2000 년도 이후 년도의 평균 수명을 출력하시오,\n",
    "print(life_exp[life_exp.index >= 2000])"
   ]
  },
  {
   "cell_type": "code",
   "execution_count": 314,
   "id": "a469481b",
   "metadata": {},
   "outputs": [],
   "source": [
    "ebola = pd.read_csv('https://raw.githubusercontent.com/SoongMoo/soldesk202108/main/%EC%B0%B8%EA%B3%A0%EC%9E%90%EB%A3%8C/Pandas_pdf/data/country_timeseries.csv')"
   ]
  },
  {
   "cell_type": "code",
   "execution_count": 315,
   "id": "4b1becf4",
   "metadata": {},
   "outputs": [
    {
     "name": "stdout",
     "output_type": "stream",
     "text": [
      "           Date  Day  Cases_Guinea  Cases_Liberia  Cases_SierraLeone  \\\n",
      "0      1/5/2015  289        2776.0            NaN            10030.0   \n",
      "1      1/4/2015  288        2775.0            NaN             9780.0   \n",
      "2      1/3/2015  287        2769.0         8166.0             9722.0   \n",
      "3      1/2/2015  286           NaN         8157.0                NaN   \n",
      "4    12/31/2014  284        2730.0         8115.0             9633.0   \n",
      "..          ...  ...           ...            ...                ...   \n",
      "117   3/27/2014    5         103.0            8.0                6.0   \n",
      "118   3/26/2014    4          86.0            NaN                NaN   \n",
      "119   3/25/2014    3          86.0            NaN                NaN   \n",
      "120   3/24/2014    2          86.0            NaN                NaN   \n",
      "121   3/22/2014    0          49.0            NaN                NaN   \n",
      "\n",
      "     Cases_Nigeria  Cases_Senegal  Cases_UnitedStates  Cases_Spain  \\\n",
      "0              NaN            NaN                 NaN          NaN   \n",
      "1              NaN            NaN                 NaN          NaN   \n",
      "2              NaN            NaN                 NaN          NaN   \n",
      "3              NaN            NaN                 NaN          NaN   \n",
      "4              NaN            NaN                 NaN          NaN   \n",
      "..             ...            ...                 ...          ...   \n",
      "117            NaN            NaN                 NaN          NaN   \n",
      "118            NaN            NaN                 NaN          NaN   \n",
      "119            NaN            NaN                 NaN          NaN   \n",
      "120            NaN            NaN                 NaN          NaN   \n",
      "121            NaN            NaN                 NaN          NaN   \n",
      "\n",
      "     Cases_Mali  Deaths_Guinea  Deaths_Liberia  Deaths_SierraLeone  \\\n",
      "0           NaN         1786.0             NaN              2977.0   \n",
      "1           NaN         1781.0             NaN              2943.0   \n",
      "2           NaN         1767.0          3496.0              2915.0   \n",
      "3           NaN            NaN          3496.0                 NaN   \n",
      "4           NaN         1739.0          3471.0              2827.0   \n",
      "..          ...            ...             ...                 ...   \n",
      "117         NaN           66.0             6.0                 5.0   \n",
      "118         NaN           62.0             NaN                 NaN   \n",
      "119         NaN           60.0             NaN                 NaN   \n",
      "120         NaN           59.0             NaN                 NaN   \n",
      "121         NaN           29.0             NaN                 NaN   \n",
      "\n",
      "     Deaths_Nigeria  Deaths_Senegal  Deaths_UnitedStates  Deaths_Spain  \\\n",
      "0               NaN             NaN                  NaN           NaN   \n",
      "1               NaN             NaN                  NaN           NaN   \n",
      "2               NaN             NaN                  NaN           NaN   \n",
      "3               NaN             NaN                  NaN           NaN   \n",
      "4               NaN             NaN                  NaN           NaN   \n",
      "..              ...             ...                  ...           ...   \n",
      "117             NaN             NaN                  NaN           NaN   \n",
      "118             NaN             NaN                  NaN           NaN   \n",
      "119             NaN             NaN                  NaN           NaN   \n",
      "120             NaN             NaN                  NaN           NaN   \n",
      "121             NaN             NaN                  NaN           NaN   \n",
      "\n",
      "     Deaths_Mali  \n",
      "0            NaN  \n",
      "1            NaN  \n",
      "2            NaN  \n",
      "3            NaN  \n",
      "4            NaN  \n",
      "..           ...  \n",
      "117          NaN  \n",
      "118          NaN  \n",
      "119          NaN  \n",
      "120          NaN  \n",
      "121          NaN  \n",
      "\n",
      "[122 rows x 18 columns]\n"
     ]
    }
   ],
   "source": [
    "print(ebola)"
   ]
  },
  {
   "cell_type": "code",
   "execution_count": 316,
   "id": "c7a37297",
   "metadata": {},
   "outputs": [
    {
     "name": "stdout",
     "output_type": "stream",
     "text": [
      "Date                     0\n",
      "Day                      0\n",
      "Cases_Guinea            29\n",
      "Cases_Liberia           39\n",
      "Cases_SierraLeone       35\n",
      "Cases_Nigeria           84\n",
      "Cases_Senegal           97\n",
      "Cases_UnitedStates     104\n",
      "Cases_Spain            106\n",
      "Cases_Mali             110\n",
      "Deaths_Guinea           30\n",
      "Deaths_Liberia          41\n",
      "Deaths_SierraLeone      35\n",
      "Deaths_Nigeria          84\n",
      "Deaths_Senegal         100\n",
      "Deaths_UnitedStates    104\n",
      "Deaths_Spain           106\n",
      "Deaths_Mali            110\n",
      "dtype: int64\n"
     ]
    }
   ],
   "source": [
    "### 누락 값에 갯수를 출력하시오\n",
    "print(ebola.shape[0] - ebola.count())"
   ]
  },
  {
   "cell_type": "code",
   "execution_count": 319,
   "id": "20fe75f8",
   "metadata": {},
   "outputs": [
    {
     "name": "stdout",
     "output_type": "stream",
     "text": [
      "1214\n",
      "29\n"
     ]
    }
   ],
   "source": [
    "import numpy as np\n",
    "# 총 누락값의 갯수는?\n",
    "print(np.count_nonzero(ebola.isnull()))\n",
    "# Cases_Guinea의 누락 갯수는?\n",
    "print(np.count_nonzero(ebola['Cases_Guinea'].isnull()))"
   ]
  },
  {
   "cell_type": "code",
   "execution_count": 323,
   "id": "03fedcb7",
   "metadata": {},
   "outputs": [
    {
     "name": "stdout",
     "output_type": "stream",
     "text": [
      "         Date  Day  Cases_Guinea  Cases_Liberia  Cases_SierraLeone\n",
      "0    1/5/2015  289        2776.0            NaN            10030.0\n",
      "1    1/4/2015  288        2775.0            NaN             9780.0\n",
      "2    1/3/2015  287        2769.0         8166.0             9722.0\n",
      "3    1/2/2015  286           NaN         8157.0                NaN\n",
      "4  12/31/2014  284        2730.0         8115.0             9633.0\n",
      "5  12/28/2014  281        2706.0         8018.0             9446.0\n",
      "6  12/27/2014  280        2695.0            NaN             9409.0\n",
      "7  12/24/2014  277        2630.0         7977.0             9203.0\n",
      "8  12/21/2014  273        2597.0            NaN             9004.0\n",
      "9  12/20/2014  272        2571.0         7862.0             8939.0\n",
      "         Date  Day  Cases_Guinea  Cases_Liberia  Cases_SierraLeone\n",
      "0    1/5/2015  289        2776.0            0.0            10030.0\n",
      "1    1/4/2015  288        2775.0            0.0             9780.0\n",
      "2    1/3/2015  287        2769.0         8166.0             9722.0\n",
      "3    1/2/2015  286           0.0         8157.0                0.0\n",
      "4  12/31/2014  284        2730.0         8115.0             9633.0\n",
      "5  12/28/2014  281        2706.0         8018.0             9446.0\n",
      "6  12/27/2014  280        2695.0            0.0             9409.0\n",
      "7  12/24/2014  277        2630.0         7977.0             9203.0\n",
      "8  12/21/2014  273        2597.0            0.0             9004.0\n",
      "9  12/20/2014  272        2571.0         7862.0             8939.0\n"
     ]
    }
   ],
   "source": [
    "#### 누락값이 있는 경우 특정 값으로 채우기\n",
    "### fillna()라는 함수를 이용해서  누락값을 대체\n",
    "print(ebola.iloc[0:10,0:5 ])\n",
    "ebola_fillna = ebola.fillna(0)\n",
    "print(ebola_fillna.iloc[0:10,0:5 ])\n",
    "\n",
    "# 0~9행, 0열 4에만 누락값을 0으로 주자\n",
    "ebola_fillna = ebola.fillna(0).iloc[0:10, 0:5]"
   ]
  },
  {
   "cell_type": "code",
   "execution_count": 325,
   "id": "b9dab248",
   "metadata": {},
   "outputs": [
    {
     "name": "stdout",
     "output_type": "stream",
     "text": [
      "         Date  Day  Cases_Guinea  Cases_Liberia  Cases_SierraLeone\n",
      "0    1/5/2015  289        2776.0            0.0            10030.0\n",
      "1    1/4/2015  288        2775.0            0.0             9780.0\n",
      "2    1/3/2015  287        2769.0         8166.0             9722.0\n",
      "3    1/2/2015  286           0.0         8157.0                0.0\n",
      "4  12/31/2014  284        2730.0         8115.0             9633.0\n",
      "5  12/28/2014  281        2706.0         8018.0             9446.0\n",
      "6  12/27/2014  280        2695.0            0.0             9409.0\n",
      "7  12/24/2014  277        2630.0         7977.0             9203.0\n",
      "8  12/21/2014  273        2597.0            0.0             9004.0\n",
      "9  12/20/2014  272        2571.0         7862.0             8939.0\n"
     ]
    }
   ],
   "source": [
    "print(ebola_fillna)"
   ]
  },
  {
   "cell_type": "code",
   "execution_count": 327,
   "id": "59414992",
   "metadata": {},
   "outputs": [
    {
     "name": "stdout",
     "output_type": "stream",
     "text": [
      "Day                     144.778689\n",
      "Cases_Guinea            911.064516\n",
      "Cases_Liberia          2335.337349\n",
      "Cases_SierraLeone      2427.367816\n",
      "Cases_Nigeria            16.736842\n",
      "Cases_Senegal             1.080000\n",
      "Cases_UnitedStates        3.277778\n",
      "Cases_Spain               1.000000\n",
      "Cases_Mali                3.500000\n",
      "Deaths_Guinea           563.239130\n",
      "Deaths_Liberia         1101.209877\n",
      "Deaths_SierraLeone      693.701149\n",
      "Deaths_Nigeria            6.131579\n",
      "Deaths_Senegal            0.000000\n",
      "Deaths_UnitedStates       0.833333\n",
      "Deaths_Spain              0.187500\n",
      "Deaths_Mali               3.166667\n",
      "dtype: float64\n"
     ]
    },
    {
     "name": "stderr",
     "output_type": "stream",
     "text": [
      "<ipython-input-327-1709f88f338f>:1: FutureWarning: Dropping of nuisance columns in DataFrame reductions (with 'numeric_only=None') is deprecated; in a future version this will raise TypeError.  Select only valid columns before calling the reduction.\n",
      "  print(ebola.mean())\n"
     ]
    }
   ],
   "source": [
    "print(ebola.mean())"
   ]
  },
  {
   "cell_type": "code",
   "execution_count": 328,
   "id": "0fbb4402",
   "metadata": {},
   "outputs": [
    {
     "name": "stdout",
     "output_type": "stream",
     "text": [
      "           Date  Day  Cases_Guinea  Cases_Liberia  Cases_SierraLeone  \\\n",
      "0      1/5/2015  289   2776.000000    2335.337349       10030.000000   \n",
      "1      1/4/2015  288   2775.000000    2335.337349        9780.000000   \n",
      "2      1/3/2015  287   2769.000000    8166.000000        9722.000000   \n",
      "3      1/2/2015  286    911.064516    8157.000000        2427.367816   \n",
      "4    12/31/2014  284   2730.000000    8115.000000        9633.000000   \n",
      "..          ...  ...           ...            ...                ...   \n",
      "117   3/27/2014    5    103.000000       8.000000           6.000000   \n",
      "118   3/26/2014    4     86.000000    2335.337349        2427.367816   \n",
      "119   3/25/2014    3     86.000000    2335.337349        2427.367816   \n",
      "120   3/24/2014    2     86.000000    2335.337349        2427.367816   \n",
      "121   3/22/2014    0     49.000000    2335.337349        2427.367816   \n",
      "\n",
      "     Cases_Nigeria  Cases_Senegal  Cases_UnitedStates  Cases_Spain  \\\n",
      "0        16.736842           1.08            3.277778          1.0   \n",
      "1        16.736842           1.08            3.277778          1.0   \n",
      "2        16.736842           1.08            3.277778          1.0   \n",
      "3        16.736842           1.08            3.277778          1.0   \n",
      "4        16.736842           1.08            3.277778          1.0   \n",
      "..             ...            ...                 ...          ...   \n",
      "117      16.736842           1.08            3.277778          1.0   \n",
      "118      16.736842           1.08            3.277778          1.0   \n",
      "119      16.736842           1.08            3.277778          1.0   \n",
      "120      16.736842           1.08            3.277778          1.0   \n",
      "121      16.736842           1.08            3.277778          1.0   \n",
      "\n",
      "     Cases_Mali  Deaths_Guinea  Deaths_Liberia  Deaths_SierraLeone  \\\n",
      "0           3.5     1786.00000     1101.209877         2977.000000   \n",
      "1           3.5     1781.00000     1101.209877         2943.000000   \n",
      "2           3.5     1767.00000     3496.000000         2915.000000   \n",
      "3           3.5      563.23913     3496.000000          693.701149   \n",
      "4           3.5     1739.00000     3471.000000         2827.000000   \n",
      "..          ...            ...             ...                 ...   \n",
      "117         3.5       66.00000        6.000000            5.000000   \n",
      "118         3.5       62.00000     1101.209877          693.701149   \n",
      "119         3.5       60.00000     1101.209877          693.701149   \n",
      "120         3.5       59.00000     1101.209877          693.701149   \n",
      "121         3.5       29.00000     1101.209877          693.701149   \n",
      "\n",
      "     Deaths_Nigeria  Deaths_Senegal  Deaths_UnitedStates  Deaths_Spain  \\\n",
      "0          6.131579             0.0             0.833333        0.1875   \n",
      "1          6.131579             0.0             0.833333        0.1875   \n",
      "2          6.131579             0.0             0.833333        0.1875   \n",
      "3          6.131579             0.0             0.833333        0.1875   \n",
      "4          6.131579             0.0             0.833333        0.1875   \n",
      "..              ...             ...                  ...           ...   \n",
      "117        6.131579             0.0             0.833333        0.1875   \n",
      "118        6.131579             0.0             0.833333        0.1875   \n",
      "119        6.131579             0.0             0.833333        0.1875   \n",
      "120        6.131579             0.0             0.833333        0.1875   \n",
      "121        6.131579             0.0             0.833333        0.1875   \n",
      "\n",
      "     Deaths_Mali  \n",
      "0       3.166667  \n",
      "1       3.166667  \n",
      "2       3.166667  \n",
      "3       3.166667  \n",
      "4       3.166667  \n",
      "..           ...  \n",
      "117     3.166667  \n",
      "118     3.166667  \n",
      "119     3.166667  \n",
      "120     3.166667  \n",
      "121     3.166667  \n",
      "\n",
      "[122 rows x 18 columns]\n"
     ]
    },
    {
     "name": "stderr",
     "output_type": "stream",
     "text": [
      "<ipython-input-328-6cb75a26a9e1>:1: FutureWarning: Dropping of nuisance columns in DataFrame reductions (with 'numeric_only=None') is deprecated; in a future version this will raise TypeError.  Select only valid columns before calling the reduction.\n",
      "  ebola_fillna_mean = ebola.fillna(ebola.mean())\n"
     ]
    }
   ],
   "source": [
    "ebola_fillna_mean = ebola.fillna(ebola.mean())\n",
    "print(ebola_fillna_mean)"
   ]
  },
  {
   "cell_type": "code",
   "execution_count": 331,
   "id": "81738c54",
   "metadata": {},
   "outputs": [
    {
     "name": "stdout",
     "output_type": "stream",
     "text": [
      "           Date  Day  Cases_Guinea  Cases_Liberia  Cases_SierraLeone  \\\n",
      "0      1/5/2015  289        2776.0            NaN            10030.0   \n",
      "1      1/4/2015  288        2775.0            NaN             9780.0   \n",
      "2      1/3/2015  287        2769.0         8166.0             9722.0   \n",
      "3      1/2/2015  286        2769.0         8157.0             9722.0   \n",
      "4    12/31/2014  284        2730.0         8115.0             9633.0   \n",
      "..          ...  ...           ...            ...                ...   \n",
      "117   3/27/2014    5         103.0            8.0                6.0   \n",
      "118   3/26/2014    4          86.0            8.0                6.0   \n",
      "119   3/25/2014    3          86.0            8.0                6.0   \n",
      "120   3/24/2014    2          86.0            8.0                6.0   \n",
      "121   3/22/2014    0          49.0            8.0                6.0   \n",
      "\n",
      "     Cases_Nigeria  Cases_Senegal  Cases_UnitedStates  Cases_Spain  \\\n",
      "0              NaN            NaN                 NaN          NaN   \n",
      "1              NaN            NaN                 NaN          NaN   \n",
      "2              NaN            NaN                 NaN          NaN   \n",
      "3              NaN            NaN                 NaN          NaN   \n",
      "4              NaN            NaN                 NaN          NaN   \n",
      "..             ...            ...                 ...          ...   \n",
      "117            0.0            1.0                 1.0          1.0   \n",
      "118            0.0            1.0                 1.0          1.0   \n",
      "119            0.0            1.0                 1.0          1.0   \n",
      "120            0.0            1.0                 1.0          1.0   \n",
      "121            0.0            1.0                 1.0          1.0   \n",
      "\n",
      "     Cases_Mali  Deaths_Guinea  Deaths_Liberia  Deaths_SierraLeone  \\\n",
      "0           NaN         1786.0             NaN              2977.0   \n",
      "1           NaN         1781.0             NaN              2943.0   \n",
      "2           NaN         1767.0          3496.0              2915.0   \n",
      "3           NaN         1767.0          3496.0              2915.0   \n",
      "4           NaN         1739.0          3471.0              2827.0   \n",
      "..          ...            ...             ...                 ...   \n",
      "117         1.0           66.0             6.0                 5.0   \n",
      "118         1.0           62.0             6.0                 5.0   \n",
      "119         1.0           60.0             6.0                 5.0   \n",
      "120         1.0           59.0             6.0                 5.0   \n",
      "121         1.0           29.0             6.0                 5.0   \n",
      "\n",
      "     Deaths_Nigeria  Deaths_Senegal  Deaths_UnitedStates  Deaths_Spain  \\\n",
      "0               NaN             NaN                  NaN           NaN   \n",
      "1               NaN             NaN                  NaN           NaN   \n",
      "2               NaN             NaN                  NaN           NaN   \n",
      "3               NaN             NaN                  NaN           NaN   \n",
      "4               NaN             NaN                  NaN           NaN   \n",
      "..              ...             ...                  ...           ...   \n",
      "117             0.0             0.0                  0.0           1.0   \n",
      "118             0.0             0.0                  0.0           1.0   \n",
      "119             0.0             0.0                  0.0           1.0   \n",
      "120             0.0             0.0                  0.0           1.0   \n",
      "121             0.0             0.0                  0.0           1.0   \n",
      "\n",
      "     Deaths_Mali  \n",
      "0            NaN  \n",
      "1            NaN  \n",
      "2            NaN  \n",
      "3            NaN  \n",
      "4            NaN  \n",
      "..           ...  \n",
      "117          1.0  \n",
      "118          1.0  \n",
      "119          1.0  \n",
      "120          1.0  \n",
      "121          1.0  \n",
      "\n",
      "[122 rows x 18 columns]\n"
     ]
    }
   ],
   "source": [
    "#print(ebola)\n",
    "#위 행에 있는 값으로 적용\n",
    "ebola_ffill = ebola.fillna(method='ffill')\n",
    "print(ebola_ffill)"
   ]
  },
  {
   "cell_type": "code",
   "execution_count": 332,
   "id": "b2cdf485",
   "metadata": {},
   "outputs": [
    {
     "name": "stdout",
     "output_type": "stream",
     "text": [
      "           Date  Day  Cases_Guinea  Cases_Liberia  Cases_SierraLeone  \\\n",
      "0      1/5/2015  289        2776.0         8166.0            10030.0   \n",
      "1      1/4/2015  288        2775.0         8166.0             9780.0   \n",
      "2      1/3/2015  287        2769.0         8166.0             9722.0   \n",
      "3      1/2/2015  286        2730.0         8157.0             9633.0   \n",
      "4    12/31/2014  284        2730.0         8115.0             9633.0   \n",
      "..          ...  ...           ...            ...                ...   \n",
      "117   3/27/2014    5         103.0            8.0                6.0   \n",
      "118   3/26/2014    4          86.0            NaN                NaN   \n",
      "119   3/25/2014    3          86.0            NaN                NaN   \n",
      "120   3/24/2014    2          86.0            NaN                NaN   \n",
      "121   3/22/2014    0          49.0            NaN                NaN   \n",
      "\n",
      "     Cases_Nigeria  Cases_Senegal  Cases_UnitedStates  Cases_Spain  \\\n",
      "0             20.0            1.0                 4.0          1.0   \n",
      "1             20.0            1.0                 4.0          1.0   \n",
      "2             20.0            1.0                 4.0          1.0   \n",
      "3             20.0            1.0                 4.0          1.0   \n",
      "4             20.0            1.0                 4.0          1.0   \n",
      "..             ...            ...                 ...          ...   \n",
      "117            NaN            NaN                 NaN          NaN   \n",
      "118            NaN            NaN                 NaN          NaN   \n",
      "119            NaN            NaN                 NaN          NaN   \n",
      "120            NaN            NaN                 NaN          NaN   \n",
      "121            NaN            NaN                 NaN          NaN   \n",
      "\n",
      "     Cases_Mali  Deaths_Guinea  Deaths_Liberia  Deaths_SierraLeone  \\\n",
      "0           7.0         1786.0          3496.0              2977.0   \n",
      "1           7.0         1781.0          3496.0              2943.0   \n",
      "2           7.0         1767.0          3496.0              2915.0   \n",
      "3           7.0         1739.0          3496.0              2827.0   \n",
      "4           7.0         1739.0          3471.0              2827.0   \n",
      "..          ...            ...             ...                 ...   \n",
      "117         NaN           66.0             6.0                 5.0   \n",
      "118         NaN           62.0             NaN                 NaN   \n",
      "119         NaN           60.0             NaN                 NaN   \n",
      "120         NaN           59.0             NaN                 NaN   \n",
      "121         NaN           29.0             NaN                 NaN   \n",
      "\n",
      "     Deaths_Nigeria  Deaths_Senegal  Deaths_UnitedStates  Deaths_Spain  \\\n",
      "0               8.0             0.0                  1.0           0.0   \n",
      "1               8.0             0.0                  1.0           0.0   \n",
      "2               8.0             0.0                  1.0           0.0   \n",
      "3               8.0             0.0                  1.0           0.0   \n",
      "4               8.0             0.0                  1.0           0.0   \n",
      "..              ...             ...                  ...           ...   \n",
      "117             NaN             NaN                  NaN           NaN   \n",
      "118             NaN             NaN                  NaN           NaN   \n",
      "119             NaN             NaN                  NaN           NaN   \n",
      "120             NaN             NaN                  NaN           NaN   \n",
      "121             NaN             NaN                  NaN           NaN   \n",
      "\n",
      "     Deaths_Mali  \n",
      "0            6.0  \n",
      "1            6.0  \n",
      "2            6.0  \n",
      "3            6.0  \n",
      "4            6.0  \n",
      "..           ...  \n",
      "117          NaN  \n",
      "118          NaN  \n",
      "119          NaN  \n",
      "120          NaN  \n",
      "121          NaN  \n",
      "\n",
      "[122 rows x 18 columns]\n"
     ]
    }
   ],
   "source": [
    "ebola_bfill = ebola.fillna(method='bfill')\n",
    "print(ebola_bfill)"
   ]
  },
  {
   "cell_type": "code",
   "execution_count": 333,
   "id": "2af81c28",
   "metadata": {},
   "outputs": [
    {
     "name": "stdout",
     "output_type": "stream",
     "text": [
      "           Date  Day  Cases_Guinea  Cases_Liberia  Cases_SierraLeone  \\\n",
      "0      1/5/2015  289        2776.0            NaN            10030.0   \n",
      "1      1/4/2015  288        2775.0            NaN             9780.0   \n",
      "2      1/3/2015  287        2769.0         8166.0             9722.0   \n",
      "3      1/2/2015  286        2749.5         8157.0             9677.5   \n",
      "4    12/31/2014  284        2730.0         8115.0             9633.0   \n",
      "..          ...  ...           ...            ...                ...   \n",
      "117   3/27/2014    5         103.0            8.0                6.0   \n",
      "118   3/26/2014    4          86.0            8.0                6.0   \n",
      "119   3/25/2014    3          86.0            8.0                6.0   \n",
      "120   3/24/2014    2          86.0            8.0                6.0   \n",
      "121   3/22/2014    0          49.0            8.0                6.0   \n",
      "\n",
      "     Cases_Nigeria  Cases_Senegal  Cases_UnitedStates  Cases_Spain  \\\n",
      "0              NaN            NaN                 NaN          NaN   \n",
      "1              NaN            NaN                 NaN          NaN   \n",
      "2              NaN            NaN                 NaN          NaN   \n",
      "3              NaN            NaN                 NaN          NaN   \n",
      "4              NaN            NaN                 NaN          NaN   \n",
      "..             ...            ...                 ...          ...   \n",
      "117            0.0            1.0                 1.0          1.0   \n",
      "118            0.0            1.0                 1.0          1.0   \n",
      "119            0.0            1.0                 1.0          1.0   \n",
      "120            0.0            1.0                 1.0          1.0   \n",
      "121            0.0            1.0                 1.0          1.0   \n",
      "\n",
      "     Cases_Mali  Deaths_Guinea  Deaths_Liberia  Deaths_SierraLeone  \\\n",
      "0           NaN         1786.0             NaN              2977.0   \n",
      "1           NaN         1781.0             NaN              2943.0   \n",
      "2           NaN         1767.0          3496.0              2915.0   \n",
      "3           NaN         1753.0          3496.0              2871.0   \n",
      "4           NaN         1739.0          3471.0              2827.0   \n",
      "..          ...            ...             ...                 ...   \n",
      "117         1.0           66.0             6.0                 5.0   \n",
      "118         1.0           62.0             6.0                 5.0   \n",
      "119         1.0           60.0             6.0                 5.0   \n",
      "120         1.0           59.0             6.0                 5.0   \n",
      "121         1.0           29.0             6.0                 5.0   \n",
      "\n",
      "     Deaths_Nigeria  Deaths_Senegal  Deaths_UnitedStates  Deaths_Spain  \\\n",
      "0               NaN             NaN                  NaN           NaN   \n",
      "1               NaN             NaN                  NaN           NaN   \n",
      "2               NaN             NaN                  NaN           NaN   \n",
      "3               NaN             NaN                  NaN           NaN   \n",
      "4               NaN             NaN                  NaN           NaN   \n",
      "..              ...             ...                  ...           ...   \n",
      "117             0.0             0.0                  0.0           1.0   \n",
      "118             0.0             0.0                  0.0           1.0   \n",
      "119             0.0             0.0                  0.0           1.0   \n",
      "120             0.0             0.0                  0.0           1.0   \n",
      "121             0.0             0.0                  0.0           1.0   \n",
      "\n",
      "     Deaths_Mali  \n",
      "0            NaN  \n",
      "1            NaN  \n",
      "2            NaN  \n",
      "3            NaN  \n",
      "4            NaN  \n",
      "..           ...  \n",
      "117          1.0  \n",
      "118          1.0  \n",
      "119          1.0  \n",
      "120          1.0  \n",
      "121          1.0  \n",
      "\n",
      "[122 rows x 18 columns]\n"
     ]
    }
   ],
   "source": [
    "ebola_itpfill = ebola.interpolate()\n",
    "print(ebola_itpfill)"
   ]
  },
  {
   "cell_type": "code",
   "execution_count": 334,
   "id": "699187a7",
   "metadata": {},
   "outputs": [
    {
     "name": "stdout",
     "output_type": "stream",
     "text": [
      "          Date  Day  Cases_Guinea  Cases_Liberia  Cases_SierraLeone  \\\n",
      "19  11/18/2014  241        2047.0         7082.0             6190.0   \n",
      "\n",
      "    Cases_Nigeria  Cases_Senegal  Cases_UnitedStates  Cases_Spain  Cases_Mali  \\\n",
      "19           20.0            1.0                 4.0          1.0         6.0   \n",
      "\n",
      "    Deaths_Guinea  Deaths_Liberia  Deaths_SierraLeone  Deaths_Nigeria  \\\n",
      "19         1214.0          2963.0              1267.0             8.0   \n",
      "\n",
      "    Deaths_Senegal  Deaths_UnitedStates  Deaths_Spain  Deaths_Mali  \n",
      "19             0.0                  1.0           0.0          6.0  \n"
     ]
    }
   ],
   "source": [
    " # 누락값을 가진 행을 모두 삭제\n",
    "ebola_drop = ebola.dropna()\n",
    "print(ebola_drop)"
   ]
  },
  {
   "cell_type": "code",
   "execution_count": 339,
   "id": "d0e65952",
   "metadata": {},
   "outputs": [],
   "source": [
    "ebola['Cases_multiple'] = ebola['Cases_Guinea'] + ebola['Cases_Liberia'] + ebola['Cases_SierraLeone']"
   ]
  },
  {
   "cell_type": "code",
   "execution_count": null,
   "id": "b830f679",
   "metadata": {},
   "outputs": [],
   "source": [
    "print(ebola['Cases_multiple'])"
   ]
  },
  {
   "cell_type": "code",
   "execution_count": 350,
   "id": "6fd1f158",
   "metadata": {},
   "outputs": [
    {
     "name": "stdout",
     "output_type": "stream",
     "text": [
      "84729.0\n",
      "84729.0\n",
      "84729.0\n",
      "Date                   1/5/20151/4/20151/3/20151/2/201512/31/201412/2...\n",
      "Day                                                                17663\n",
      "Cases_Guinea                                                     84729.0\n",
      "Cases_Liberia                                                   193833.0\n",
      "Cases_SierraLeone                                               211181.0\n",
      "Cases_Nigeria                                                      636.0\n",
      "Cases_Senegal                                                       27.0\n",
      "Cases_UnitedStates                                                  59.0\n",
      "Cases_Spain                                                         16.0\n",
      "Cases_Mali                                                          42.0\n",
      "Deaths_Guinea                                                    51818.0\n",
      "Deaths_Liberia                                                   89198.0\n",
      "Deaths_SierraLeone                                               60352.0\n",
      "Deaths_Nigeria                                                     233.0\n",
      "Deaths_Senegal                                                       0.0\n",
      "Deaths_UnitedStates                                                 15.0\n",
      "Deaths_Spain                                                         3.0\n",
      "Deaths_Mali                                                         38.0\n",
      "Cases_multiple                                                  197682.0\n",
      "dtype: object\n",
      "Date                   1/5/20151/4/20151/3/20151/2/201512/31/201412/2...\n",
      "Day                                                                17663\n",
      "Cases_Guinea                                                     84729.0\n",
      "Cases_Liberia                                                   193833.0\n",
      "Cases_SierraLeone                                               211181.0\n",
      "Cases_Nigeria                                                      636.0\n",
      "Cases_Senegal                                                       27.0\n",
      "Cases_UnitedStates                                                  59.0\n",
      "Cases_Spain                                                         16.0\n",
      "Cases_Mali                                                          42.0\n",
      "Deaths_Guinea                                                    51818.0\n",
      "Deaths_Liberia                                                   89198.0\n",
      "Deaths_SierraLeone                                               60352.0\n",
      "Deaths_Nigeria                                                     233.0\n",
      "Deaths_Senegal                                                       0.0\n",
      "Deaths_UnitedStates                                                 15.0\n",
      "Deaths_Spain                                                         3.0\n",
      "Deaths_Mali                                                         38.0\n",
      "Cases_multiple                                                  197682.0\n",
      "dtype: object\n"
     ]
    }
   ],
   "source": [
    "print(ebola['Cases_Guinea'].sum())  #### 누락 값 무시\n",
    "print(ebola['Cases_Guinea'].sum(skipna = True))\n",
    "print(ebola.Cases_Guinea.sum(skipna = True))\n",
    "print(ebola.sum())\n",
    "print(ebola.sum(skipna = True))"
   ]
  },
  {
   "cell_type": "code",
   "execution_count": 353,
   "id": "72c9f64c",
   "metadata": {},
   "outputs": [
    {
     "name": "stdout",
     "output_type": "stream",
     "text": [
      "nan\n",
      "nan\n"
     ]
    }
   ],
   "source": [
    "print(ebola['Cases_Guinea'].sum(skipna = False)) # 누락값도 포함\n",
    "print(ebola.Cases_Guinea.sum(skipna = False)) "
   ]
  },
  {
   "cell_type": "code",
   "execution_count": 354,
   "id": "b9b66221",
   "metadata": {},
   "outputs": [
    {
     "name": "stdout",
     "output_type": "stream",
     "text": [
      "84729.0\n",
      "84729.0\n"
     ]
    }
   ],
   "source": [
    "print(ebola['Cases_Guinea'].fillna(0).sum(skipna = False)) # 누락값도 포함\n",
    "print(ebola.Cases_Guinea.fillna(0).sum(skipna = False)) "
   ]
  },
  {
   "cell_type": "code",
   "execution_count": 355,
   "id": "de4ae0f2",
   "metadata": {},
   "outputs": [],
   "source": [
    "pew = pd.read_csv('https://raw.githubusercontent.com/SoongMoo/soldesk202108/main/%EC%B0%B8%EA%B3%A0%EC%9E%90%EB%A3%8C/Pandas_pdf/data/pew.csv')"
   ]
  },
  {
   "cell_type": "code",
   "execution_count": 356,
   "id": "7f5433e1",
   "metadata": {},
   "outputs": [
    {
     "name": "stdout",
     "output_type": "stream",
     "text": [
      "                   religion  <$10k  $10-20k  $20-30k  $30-40k  $40-50k  \\\n",
      "0                  Agnostic     27       34       60       81       76   \n",
      "1                   Atheist     12       27       37       52       35   \n",
      "2                  Buddhist     27       21       30       34       33   \n",
      "3                  Catholic    418      617      732      670      638   \n",
      "4        Don’t know/refused     15       14       15       11       10   \n",
      "5          Evangelical Prot    575      869     1064      982      881   \n",
      "6                     Hindu      1        9        7        9       11   \n",
      "7   Historically Black Prot    228      244      236      238      197   \n",
      "8         Jehovah's Witness     20       27       24       24       21   \n",
      "9                    Jewish     19       19       25       25       30   \n",
      "10            Mainline Prot    289      495      619      655      651   \n",
      "11                   Mormon     29       40       48       51       56   \n",
      "12                   Muslim      6        7        9       10        9   \n",
      "13                 Orthodox     13       17       23       32       32   \n",
      "14          Other Christian      9        7       11       13       13   \n",
      "15             Other Faiths     20       33       40       46       49   \n",
      "16    Other World Religions      5        2        3        4        2   \n",
      "17             Unaffiliated    217      299      374      365      341   \n",
      "\n",
      "    $50-75k  $75-100k  $100-150k  >150k  Don't know/refused  \n",
      "0       137       122        109     84                  96  \n",
      "1        70        73         59     74                  76  \n",
      "2        58        62         39     53                  54  \n",
      "3      1116       949        792    633                1489  \n",
      "4        35        21         17     18                 116  \n",
      "5      1486       949        723    414                1529  \n",
      "6        34        47         48     54                  37  \n",
      "7       223       131         81     78                 339  \n",
      "8        30        15         11      6                  37  \n",
      "9        95        69         87    151                 162  \n",
      "10     1107       939        753    634                1328  \n",
      "11      112        85         49     42                  69  \n",
      "12       23        16          8      6                  22  \n",
      "13       47        38         42     46                  73  \n",
      "14       14        18         14     12                  18  \n",
      "15       63        46         40     41                  71  \n",
      "16        7         3          4      4                   8  \n",
      "17      528       407        321    258                 597  \n"
     ]
    }
   ],
   "source": [
    "print(pew)"
   ]
  },
  {
   "cell_type": "code",
   "execution_count": 357,
   "id": "8e6f4677",
   "metadata": {},
   "outputs": [
    {
     "name": "stdout",
     "output_type": "stream",
     "text": [
      "Index(['religion', '<$10k', '$10-20k', '$20-30k', '$30-40k', '$40-50k',\n",
      "       '$50-75k', '$75-100k', '$100-150k', '>150k', 'Don't know/refused'],\n",
      "      dtype='object')\n"
     ]
    }
   ],
   "source": [
    "print(pew.columns)"
   ]
  },
  {
   "cell_type": "code",
   "execution_count": 361,
   "id": "4a3210d1",
   "metadata": {},
   "outputs": [
    {
     "name": "stdout",
     "output_type": "stream",
     "text": [
      "                  religion  <$10k  $10-20k  $20-30k  $30-40k  $40-50k\n",
      "0                 Agnostic     27       34       60       81       76\n",
      "1                  Atheist     12       27       37       52       35\n",
      "2                 Buddhist     27       21       30       34       33\n",
      "3                 Catholic    418      617      732      670      638\n",
      "4       Don’t know/refused     15       14       15       11       10\n",
      "5         Evangelical Prot    575      869     1064      982      881\n",
      "6                    Hindu      1        9        7        9       11\n",
      "7  Historically Black Prot    228      244      236      238      197\n",
      "8        Jehovah's Witness     20       27       24       24       21\n",
      "9                   Jewish     19       19       25       25       30\n",
      "                   religion variable  value\n",
      "0                  Agnostic    <$10k     27\n",
      "1                   Atheist    <$10k     12\n",
      "2                  Buddhist    <$10k     27\n",
      "3                  Catholic    <$10k    418\n",
      "4        Don’t know/refused    <$10k     15\n",
      "5          Evangelical Prot    <$10k    575\n",
      "6                     Hindu    <$10k      1\n",
      "7   Historically Black Prot    <$10k    228\n",
      "8         Jehovah's Witness    <$10k     20\n",
      "9                    Jewish    <$10k     19\n",
      "10            Mainline Prot    <$10k    289\n",
      "11                   Mormon    <$10k     29\n",
      "12                   Muslim    <$10k      6\n",
      "13                 Orthodox    <$10k     13\n",
      "14          Other Christian    <$10k      9\n",
      "15             Other Faiths    <$10k     20\n",
      "16    Other World Religions    <$10k      5\n",
      "17             Unaffiliated    <$10k    217\n",
      "18                 Agnostic  $10-20k     34\n",
      "19                  Atheist  $10-20k     27\n"
     ]
    }
   ],
   "source": [
    "# 행값이 열값으로 변경\n",
    "pew_long = pd.melt(pew, id_vars='religion')\n",
    "print(pew.iloc[0:10, 0:6])\n",
    "print(pew_long.iloc[0:20,:])"
   ]
  },
  {
   "cell_type": "code",
   "execution_count": 363,
   "id": "d5d6f418",
   "metadata": {},
   "outputs": [
    {
     "name": "stdout",
     "output_type": "stream",
     "text": [
      "                  religion              income  count\n",
      "0                 Agnostic               <$10k     27\n",
      "1                  Atheist               <$10k     12\n",
      "2                 Buddhist               <$10k     27\n",
      "3                 Catholic               <$10k    418\n",
      "4       Don’t know/refused               <$10k     15\n",
      "..                     ...                 ...    ...\n",
      "175               Orthodox  Don't know/refused     73\n",
      "176        Other Christian  Don't know/refused     18\n",
      "177           Other Faiths  Don't know/refused     71\n",
      "178  Other World Religions  Don't know/refused      8\n",
      "179           Unaffiliated  Don't know/refused    597\n",
      "\n",
      "[180 rows x 3 columns]\n"
     ]
    }
   ],
   "source": [
    "pew_long = pd.melt(pew, id_vars='religion', var_name='income', value_name='count')\n",
    "print(pew_long)"
   ]
  },
  {
   "cell_type": "code",
   "execution_count": 364,
   "id": "9b5b28d3",
   "metadata": {},
   "outputs": [],
   "source": [
    "billboard = pd.read_csv('https://raw.githubusercontent.com/SoongMoo/soldesk202108/main/%EC%B0%B8%EA%B3%A0%EC%9E%90%EB%A3%8C/Pandas_pdf/data/billboard.csv')"
   ]
  },
  {
   "cell_type": "code",
   "execution_count": 366,
   "id": "d3884182",
   "metadata": {},
   "outputs": [
    {
     "name": "stdout",
     "output_type": "stream",
     "text": [
      "     year            artist                    track  time date.entered  wk1  \\\n",
      "0    2000             2 Pac  Baby Don't Cry (Keep...  4:22   2000-02-26   87   \n",
      "1    2000           2Ge+her  The Hardest Part Of ...  3:15   2000-09-02   91   \n",
      "2    2000      3 Doors Down               Kryptonite  3:53   2000-04-08   81   \n",
      "3    2000      3 Doors Down                    Loser  4:24   2000-10-21   76   \n",
      "4    2000          504 Boyz            Wobble Wobble  3:35   2000-04-15   57   \n",
      "..    ...               ...                      ...   ...          ...  ...   \n",
      "312  2000       Yankee Grey     Another Nine Minutes  3:10   2000-04-29   86   \n",
      "313  2000  Yearwood, Trisha          Real Live Woman  3:55   2000-04-01   85   \n",
      "314  2000   Ying Yang Twins  Whistle While You Tw...  4:19   2000-03-18   95   \n",
      "315  2000     Zombie Nation            Kernkraft 400  3:30   2000-09-02   99   \n",
      "316  2000   matchbox twenty                     Bent  4:12   2000-04-29   60   \n",
      "\n",
      "      wk2   wk3   wk4   wk5  ...  wk67  wk68  wk69  wk70  wk71  wk72  wk73  \\\n",
      "0    82.0  72.0  77.0  87.0  ...   NaN   NaN   NaN   NaN   NaN   NaN   NaN   \n",
      "1    87.0  92.0   NaN   NaN  ...   NaN   NaN   NaN   NaN   NaN   NaN   NaN   \n",
      "2    70.0  68.0  67.0  66.0  ...   NaN   NaN   NaN   NaN   NaN   NaN   NaN   \n",
      "3    76.0  72.0  69.0  67.0  ...   NaN   NaN   NaN   NaN   NaN   NaN   NaN   \n",
      "4    34.0  25.0  17.0  17.0  ...   NaN   NaN   NaN   NaN   NaN   NaN   NaN   \n",
      "..    ...   ...   ...   ...  ...   ...   ...   ...   ...   ...   ...   ...   \n",
      "312  83.0  77.0  74.0  83.0  ...   NaN   NaN   NaN   NaN   NaN   NaN   NaN   \n",
      "313  83.0  83.0  82.0  81.0  ...   NaN   NaN   NaN   NaN   NaN   NaN   NaN   \n",
      "314  94.0  91.0  85.0  84.0  ...   NaN   NaN   NaN   NaN   NaN   NaN   NaN   \n",
      "315  99.0   NaN   NaN   NaN  ...   NaN   NaN   NaN   NaN   NaN   NaN   NaN   \n",
      "316  37.0  29.0  24.0  22.0  ...   NaN   NaN   NaN   NaN   NaN   NaN   NaN   \n",
      "\n",
      "     wk74  wk75  wk76  \n",
      "0     NaN   NaN   NaN  \n",
      "1     NaN   NaN   NaN  \n",
      "2     NaN   NaN   NaN  \n",
      "3     NaN   NaN   NaN  \n",
      "4     NaN   NaN   NaN  \n",
      "..    ...   ...   ...  \n",
      "312   NaN   NaN   NaN  \n",
      "313   NaN   NaN   NaN  \n",
      "314   NaN   NaN   NaN  \n",
      "315   NaN   NaN   NaN  \n",
      "316   NaN   NaN   NaN  \n",
      "\n",
      "[317 rows x 81 columns]\n",
      "Index(['year', 'artist', 'track', 'time', 'date.entered', 'wk1', 'wk2', 'wk3',\n",
      "       'wk4', 'wk5', 'wk6', 'wk7', 'wk8', 'wk9', 'wk10', 'wk11', 'wk12',\n",
      "       'wk13', 'wk14', 'wk15', 'wk16', 'wk17', 'wk18', 'wk19', 'wk20', 'wk21',\n",
      "       'wk22', 'wk23', 'wk24', 'wk25', 'wk26', 'wk27', 'wk28', 'wk29', 'wk30',\n",
      "       'wk31', 'wk32', 'wk33', 'wk34', 'wk35', 'wk36', 'wk37', 'wk38', 'wk39',\n",
      "       'wk40', 'wk41', 'wk42', 'wk43', 'wk44', 'wk45', 'wk46', 'wk47', 'wk48',\n",
      "       'wk49', 'wk50', 'wk51', 'wk52', 'wk53', 'wk54', 'wk55', 'wk56', 'wk57',\n",
      "       'wk58', 'wk59', 'wk60', 'wk61', 'wk62', 'wk63', 'wk64', 'wk65', 'wk66',\n",
      "       'wk67', 'wk68', 'wk69', 'wk70', 'wk71', 'wk72', 'wk73', 'wk74', 'wk75',\n",
      "       'wk76'],\n",
      "      dtype='object')\n"
     ]
    }
   ],
   "source": [
    "print(billboard)\n",
    "print(billboard.columns)"
   ]
  },
  {
   "cell_type": "code",
   "execution_count": 368,
   "id": "fafd5366",
   "metadata": {},
   "outputs": [
    {
     "name": "stdout",
     "output_type": "stream",
     "text": [
      "   year          artist                    track  time date.entered week  \\\n",
      "0  2000           2 Pac  Baby Don't Cry (Keep...  4:22   2000-02-26  wk1   \n",
      "1  2000         2Ge+her  The Hardest Part Of ...  3:15   2000-09-02  wk1   \n",
      "2  2000    3 Doors Down               Kryptonite  3:53   2000-04-08  wk1   \n",
      "3  2000    3 Doors Down                    Loser  4:24   2000-10-21  wk1   \n",
      "4  2000        504 Boyz            Wobble Wobble  3:35   2000-04-15  wk1   \n",
      "5  2000            98^0  Give Me Just One Nig...  3:24   2000-08-19  wk1   \n",
      "6  2000         A*Teens            Dancing Queen  3:44   2000-07-08  wk1   \n",
      "7  2000         Aaliyah            I Don't Wanna  4:15   2000-01-29  wk1   \n",
      "8  2000         Aaliyah                Try Again  4:03   2000-03-18  wk1   \n",
      "9  2000  Adams, Yolanda            Open My Heart  5:30   2000-08-26  wk1   \n",
      "\n",
      "   rating  \n",
      "0    87.0  \n",
      "1    91.0  \n",
      "2    81.0  \n",
      "3    76.0  \n",
      "4    57.0  \n",
      "5    51.0  \n",
      "6    97.0  \n",
      "7    84.0  \n",
      "8    59.0  \n",
      "9    76.0  \n"
     ]
    }
   ],
   "source": [
    "billboard_long = pd.melt(billboard, id_vars=['year', 'artist', 'track', 'time', 'date.entered'],\n",
    "                        var_name='week' ,value_name='rating')\n",
    "print(billboard_long.iloc[0:10,:])"
   ]
  },
  {
   "cell_type": "code",
   "execution_count": 370,
   "id": "b7349437",
   "metadata": {},
   "outputs": [
    {
     "name": "stdout",
     "output_type": "stream",
     "text": [
      "            Date  Day        variable   value\n",
      "0       1/5/2015  289    Cases_Guinea  2776.0\n",
      "1       1/4/2015  288    Cases_Guinea  2775.0\n",
      "2       1/3/2015  287    Cases_Guinea  2769.0\n",
      "3       1/2/2015  286    Cases_Guinea     NaN\n",
      "4     12/31/2014  284    Cases_Guinea  2730.0\n",
      "...          ...  ...             ...     ...\n",
      "2069   3/27/2014    5  Cases_multiple   117.0\n",
      "2070   3/26/2014    4  Cases_multiple     NaN\n",
      "2071   3/25/2014    3  Cases_multiple     NaN\n",
      "2072   3/24/2014    2  Cases_multiple     NaN\n",
      "2073   3/22/2014    0  Cases_multiple     NaN\n",
      "\n",
      "[2074 rows x 4 columns]\n"
     ]
    }
   ],
   "source": [
    "#print(ebola)\n",
    "ebola_long = pd.melt(ebola, id_vars=['Date',  'Day'])\n",
    "print(ebola_long)"
   ]
  },
  {
   "cell_type": "code",
   "execution_count": 376,
   "id": "2f4890be",
   "metadata": {},
   "outputs": [
    {
     "name": "stdout",
     "output_type": "stream",
     "text": [
      "0         [Cases, Guinea]\n",
      "1         [Cases, Guinea]\n",
      "2         [Cases, Guinea]\n",
      "3         [Cases, Guinea]\n",
      "4         [Cases, Guinea]\n",
      "              ...        \n",
      "2069    [Cases, multiple]\n",
      "2070    [Cases, multiple]\n",
      "2071    [Cases, multiple]\n",
      "2072    [Cases, multiple]\n",
      "2073    [Cases, multiple]\n",
      "Name: variable, Length: 2074, dtype: object\n",
      "['Cases', 'Guinea']\n",
      "0       Cases\n",
      "1       Cases\n",
      "2       Cases\n",
      "3       Cases\n",
      "4       Cases\n",
      "        ...  \n",
      "2069    Cases\n",
      "2070    Cases\n",
      "2071    Cases\n",
      "2072    Cases\n",
      "2073    Cases\n",
      "Name: variable, Length: 2074, dtype: object\n",
      "0         Guinea\n",
      "1         Guinea\n",
      "2         Guinea\n",
      "3         Guinea\n",
      "4         Guinea\n",
      "          ...   \n",
      "2069    multiple\n",
      "2070    multiple\n",
      "2071    multiple\n",
      "2072    multiple\n",
      "2073    multiple\n",
      "Name: variable, Length: 2074, dtype: object\n"
     ]
    }
   ],
   "source": [
    "# 열 이름 분리하고 데이터프레임에 추가하기\n",
    "variable_split = ebola_long.variable.str.split('_')\n",
    "print(variable_split)\n",
    "print(variable_split[0]) # 첫번째 행의 데이터\n",
    "print(variable_split.str.get(0))\n",
    "print(variable_split.str.get(1))"
   ]
  },
  {
   "cell_type": "code",
   "execution_count": 377,
   "id": "f567739b",
   "metadata": {},
   "outputs": [
    {
     "name": "stdout",
     "output_type": "stream",
     "text": [
      "            Date  Day        variable   value\n",
      "0       1/5/2015  289    Cases_Guinea  2776.0\n",
      "1       1/4/2015  288    Cases_Guinea  2775.0\n",
      "2       1/3/2015  287    Cases_Guinea  2769.0\n",
      "3       1/2/2015  286    Cases_Guinea     NaN\n",
      "4     12/31/2014  284    Cases_Guinea  2730.0\n",
      "...          ...  ...             ...     ...\n",
      "2069   3/27/2014    5  Cases_multiple   117.0\n",
      "2070   3/26/2014    4  Cases_multiple     NaN\n",
      "2071   3/25/2014    3  Cases_multiple     NaN\n",
      "2072   3/24/2014    2  Cases_multiple     NaN\n",
      "2073   3/22/2014    0  Cases_multiple     NaN\n",
      "\n",
      "[2074 rows x 4 columns]\n"
     ]
    }
   ],
   "source": [
    "print(ebola_long)"
   ]
  },
  {
   "cell_type": "code",
   "execution_count": 378,
   "id": "4b772764",
   "metadata": {},
   "outputs": [],
   "source": [
    "ebola_long['status'] = variable_split.str.get(0)\n",
    "ebola_long['country'] = variable_split.str.get(1)"
   ]
  },
  {
   "cell_type": "code",
   "execution_count": 379,
   "id": "460a1133",
   "metadata": {},
   "outputs": [
    {
     "name": "stdout",
     "output_type": "stream",
     "text": [
      "            Date  Day        variable   value status   country\n",
      "0       1/5/2015  289    Cases_Guinea  2776.0  Cases    Guinea\n",
      "1       1/4/2015  288    Cases_Guinea  2775.0  Cases    Guinea\n",
      "2       1/3/2015  287    Cases_Guinea  2769.0  Cases    Guinea\n",
      "3       1/2/2015  286    Cases_Guinea     NaN  Cases    Guinea\n",
      "4     12/31/2014  284    Cases_Guinea  2730.0  Cases    Guinea\n",
      "...          ...  ...             ...     ...    ...       ...\n",
      "2069   3/27/2014    5  Cases_multiple   117.0  Cases  multiple\n",
      "2070   3/26/2014    4  Cases_multiple     NaN  Cases  multiple\n",
      "2071   3/25/2014    3  Cases_multiple     NaN  Cases  multiple\n",
      "2072   3/24/2014    2  Cases_multiple     NaN  Cases  multiple\n",
      "2073   3/22/2014    0  Cases_multiple     NaN  Cases  multiple\n",
      "\n",
      "[2074 rows x 6 columns]\n"
     ]
    }
   ],
   "source": [
    "print(ebola_long)"
   ]
  },
  {
   "cell_type": "code",
   "execution_count": 380,
   "id": "0c2a4490",
   "metadata": {},
   "outputs": [
    {
     "name": "stdout",
     "output_type": "stream",
     "text": [
      "            Date  Day        variable   value status   country\n",
      "0       1/5/2015  289    Cases_Guinea  2776.0  Cases    Guinea\n",
      "1       1/4/2015  288    Cases_Guinea  2775.0  Cases    Guinea\n",
      "2       1/3/2015  287    Cases_Guinea  2769.0  Cases    Guinea\n",
      "3       1/2/2015  286    Cases_Guinea     NaN  Cases    Guinea\n",
      "4     12/31/2014  284    Cases_Guinea  2730.0  Cases    Guinea\n",
      "...          ...  ...             ...     ...    ...       ...\n",
      "2069   3/27/2014    5  Cases_multiple   117.0  Cases  multiple\n",
      "2070   3/26/2014    4  Cases_multiple     NaN  Cases  multiple\n",
      "2071   3/25/2014    3  Cases_multiple     NaN  Cases  multiple\n",
      "2072   3/24/2014    2  Cases_multiple     NaN  Cases  multiple\n",
      "2073   3/22/2014    0  Cases_multiple     NaN  Cases  multiple\n",
      "\n",
      "[1098 rows x 6 columns]\n"
     ]
    }
   ],
   "source": [
    "print(ebola_long[ebola_long['status']=='Cases'])"
   ]
  },
  {
   "cell_type": "code",
   "execution_count": 382,
   "id": "b0d6a2de",
   "metadata": {},
   "outputs": [
    {
     "name": "stdout",
     "output_type": "stream",
     "text": [
      "Index(['Date', 'Day', 'Cases_Guinea', 'Cases_Liberia', 'Cases_SierraLeone',\n",
      "       'Cases_Nigeria', 'Cases_Senegal', 'Cases_UnitedStates', 'Cases_Spain',\n",
      "       'Cases_Mali', 'Deaths_Guinea', 'Deaths_Liberia', 'Deaths_SierraLeone',\n",
      "       'Deaths_Nigeria', 'Deaths_Senegal', 'Deaths_UnitedStates',\n",
      "       'Deaths_Spain', 'Deaths_Mali', 'Cases_multiple'],\n",
      "      dtype='object')\n",
      "           Date  Day  Cases_Guinea  Cases_Liberia  Cases_SierraLeone  \\\n",
      "0      1/5/2015  289        2776.0            NaN            10030.0   \n",
      "1      1/4/2015  288        2775.0            NaN             9780.0   \n",
      "2      1/3/2015  287        2769.0         8166.0             9722.0   \n",
      "4    12/31/2014  284        2730.0         8115.0             9633.0   \n",
      "5    12/28/2014  281        2706.0         8018.0             9446.0   \n",
      "..          ...  ...           ...            ...                ...   \n",
      "117   3/27/2014    5         103.0            8.0                6.0   \n",
      "118   3/26/2014    4          86.0            NaN                NaN   \n",
      "119   3/25/2014    3          86.0            NaN                NaN   \n",
      "120   3/24/2014    2          86.0            NaN                NaN   \n",
      "121   3/22/2014    0          49.0            NaN                NaN   \n",
      "\n",
      "     Cases_Nigeria  Cases_Senegal  Cases_UnitedStates  Cases_Spain  \\\n",
      "0              NaN            NaN                 NaN          NaN   \n",
      "1              NaN            NaN                 NaN          NaN   \n",
      "2              NaN            NaN                 NaN          NaN   \n",
      "4              NaN            NaN                 NaN          NaN   \n",
      "5              NaN            NaN                 NaN          NaN   \n",
      "..             ...            ...                 ...          ...   \n",
      "117            NaN            NaN                 NaN          NaN   \n",
      "118            NaN            NaN                 NaN          NaN   \n",
      "119            NaN            NaN                 NaN          NaN   \n",
      "120            NaN            NaN                 NaN          NaN   \n",
      "121            NaN            NaN                 NaN          NaN   \n",
      "\n",
      "     Cases_Mali  Deaths_Guinea  Deaths_Liberia  Deaths_SierraLeone  \\\n",
      "0           NaN         1786.0             NaN              2977.0   \n",
      "1           NaN         1781.0             NaN              2943.0   \n",
      "2           NaN         1767.0          3496.0              2915.0   \n",
      "4           NaN         1739.0          3471.0              2827.0   \n",
      "5           NaN         1708.0          3423.0              2758.0   \n",
      "..          ...            ...             ...                 ...   \n",
      "117         NaN           66.0             6.0                 5.0   \n",
      "118         NaN           62.0             NaN                 NaN   \n",
      "119         NaN           60.0             NaN                 NaN   \n",
      "120         NaN           59.0             NaN                 NaN   \n",
      "121         NaN           29.0             NaN                 NaN   \n",
      "\n",
      "     Deaths_Nigeria  Deaths_Senegal  Deaths_UnitedStates  Deaths_Spain  \\\n",
      "0               NaN             NaN                  NaN           NaN   \n",
      "1               NaN             NaN                  NaN           NaN   \n",
      "2               NaN             NaN                  NaN           NaN   \n",
      "4               NaN             NaN                  NaN           NaN   \n",
      "5               NaN             NaN                  NaN           NaN   \n",
      "..              ...             ...                  ...           ...   \n",
      "117             NaN             NaN                  NaN           NaN   \n",
      "118             NaN             NaN                  NaN           NaN   \n",
      "119             NaN             NaN                  NaN           NaN   \n",
      "120             NaN             NaN                  NaN           NaN   \n",
      "121             NaN             NaN                  NaN           NaN   \n",
      "\n",
      "     Deaths_Mali  Cases_multiple  \n",
      "0            NaN             NaN  \n",
      "1            NaN             NaN  \n",
      "2            NaN         20657.0  \n",
      "4            NaN         20478.0  \n",
      "5            NaN         20170.0  \n",
      "..           ...             ...  \n",
      "117          NaN           117.0  \n",
      "118          NaN             NaN  \n",
      "119          NaN             NaN  \n",
      "120          NaN             NaN  \n",
      "121          NaN             NaN  \n",
      "\n",
      "[93 rows x 19 columns]\n"
     ]
    }
   ],
   "source": [
    "print(ebola.columns)\n",
    "ebola_drop = ebola.dropna(subset=['Cases_Guinea'])\n",
    "print(ebola_drop)"
   ]
  },
  {
   "cell_type": "code",
   "execution_count": null,
   "id": "141cd690",
   "metadata": {},
   "outputs": [],
   "source": []
  }
 ],
 "metadata": {
  "kernelspec": {
   "display_name": "Python 3",
   "language": "python",
   "name": "python3"
  },
  "language_info": {
   "codemirror_mode": {
    "name": "ipython",
    "version": 3
   },
   "file_extension": ".py",
   "mimetype": "text/x-python",
   "name": "python",
   "nbconvert_exporter": "python",
   "pygments_lexer": "ipython3",
   "version": "3.8.11"
  }
 },
 "nbformat": 4,
 "nbformat_minor": 5
}
