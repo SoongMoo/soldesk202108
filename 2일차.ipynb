{
 "cells": [
  {
   "cell_type": "code",
   "execution_count": 11,
   "id": "1729afd5",
   "metadata": {
    "scrolled": true
   },
   "outputs": [
    {
     "name": "stdout",
     "output_type": "stream",
     "text": [
      "L\n",
      "n\n",
      "Lifei\n",
      "LifeistooshortYouneedpython\n",
      "Lfito\n",
      "nohtypdeenuoYtrohsootsiefiL\n"
     ]
    },
    {
     "data": {
      "text/plain": [
       "True"
      ]
     },
     "execution_count": 11,
     "metadata": {},
     "output_type": "execute_result"
    }
   ],
   "source": [
    "# 리터널 : 자연어 : 문자, 숫자 \n",
    "# 숫자 : 정수 , 실수 , 10, 10.5 , '10'(x)\n",
    "# 연산자 : + - * / % // **\n",
    "# 문자 : 'abc' ,\"abc\", '''abc''' , \"\"\"abc\"\"\" , '10'\n",
    "# a(x) == 변수 \n",
    "# 문자열에서  indexing\n",
    "a = 'Life is too short, You need python'\n",
    "print(a[0])\n",
    "print(a[-1])\n",
    "# 문자열에서  slicing\n",
    "a = 'LifeistooshortYouneedpython'\n",
    "print(a[0 : 5])\n",
    "print(a[:])\n",
    "print(a[0:10:2])\n",
    "print(a[::-1])\n",
    "# 연산자 : + , *\n",
    "# 문자함수 \n",
    "a.count('o')\n",
    "a.find('t')\n",
    "a.find('too')\n",
    "a.find('s',7)\n",
    "a.find('k')  # 없는 문자인 경우 : -1\n",
    "a.rfind('s') #뒤에서 부터 \n",
    "a.index('s') \n",
    "a.index('s',7) \n",
    "a.rindex('s') \n",
    "# a.index('k')  #없는 문자인 경우 : 오류가 발생\n",
    "':'.join(a)  #문자열 삽입\n",
    "a.upper() \n",
    "a.lower() \n",
    "a.strip() # 양쪽 공백을 제거 할때 사용\n",
    "a.lstrip()\n",
    "a.rstrip()\n",
    "a.rstrip(\"ab\") ### abcdefab \n",
    "a.replace(\"Life\", \"Yore leg\")\n",
    "a.isdigit() # 행당 문자열이 모두 숫자인지 \"12345678\" : true/false\n",
    "a.isalpha() # 공백문자는 영문자로 인식하지 않는다.\n",
    "a.islower()\n",
    "a.isupper()"
   ]
  },
  {
   "cell_type": "code",
   "execution_count": null,
   "id": "35b4a75a",
   "metadata": {},
   "outputs": [],
   "source": [
    "# 문자열 출력하기.\n",
    "number = 10\n",
    "day = \"three\"\n",
    "a = f\"나는 {number}개의 사과를 먹어서 {day}일 동안 아팠습니다.\"\n",
    "a = \"나는 {number}개의 사과를 먹어서 {day}일 동안 아팠습니다.\".format(number=10, day=3)\n",
    "a = \"나는 {1}개의 사과를 먹어서 {0}일 동안 아팠습니다.\".format(5, 3)\n",
    "a = \"나의 나이는 %d살이고 키는 %3.1f 입니다.\" % (35, 175.5)"
   ]
  },
  {
   "cell_type": "code",
   "execution_count": 14,
   "id": "ddbe9714",
   "metadata": {},
   "outputs": [
    {
     "name": "stdout",
     "output_type": "stream",
     "text": [
      "1\n",
      "4\n",
      "[1, 2]\n",
      "[1, 2, 3, 4, 5, 6]\n",
      "[1, 2, 3, 1, 2, 3, 1, 2, 3]\n",
      "17\n",
      "3\n"
     ]
    }
   ],
   "source": [
    "# 리스트 : 여러 유형의 데이터를 여러 개 저장할 수 있는 자료형 [1]\n",
    "a  = [] # []를 사용하면 리스트가 된다. 빈리스트\n",
    "b = [1, 2, 3] # 정수형 리스트\n",
    "c = ['Life', 'is', 'too', 'short'] # 문자열 리스트\n",
    "d = [1,2,3,'Life', 'is', 'too', 'short'] # 정수와 문자열 혼합 리스트\n",
    "e = [1,2,3,[4,5,'Life']] # 리스트에 리스트를 포함\n",
    "a = 1\n",
    "a = \"1\"\n",
    "a = [1]\n",
    "a = [1, 2, 3]\n",
    "print(a[0])\n",
    "print(a[0] + a[2])\n",
    "print(a[0:2])\n",
    "### 연산자 :  + , *\n",
    "a = [1, 2, 3]\n",
    "b = [4, 5, 6]\n",
    "print(a + b)\n",
    "print(a * 3)\n",
    "s = \"Life is too short\"\n",
    "print(len(s))\n",
    "print(len(a))"
   ]
  },
  {
   "cell_type": "code",
   "execution_count": 31,
   "id": "e101d619",
   "metadata": {},
   "outputs": [
    {
     "name": "stdout",
     "output_type": "stream",
     "text": [
      "L\n",
      "[1, 2, 3, 4, 5]\n",
      "3\n",
      "[1, 2, 10, 4, 5]\n",
      "[1, 2, 4, 5]\n",
      "[1, 2, 3, 4, 5]\n",
      "[3, 4, 5]\n",
      "[1, 2]\n",
      "[1, 2, 4]\n",
      "[1, 2, 4, 6]\n",
      "[1, 2, 3, 4, 5]\n",
      "[0, 1, 2, 3, 4, 5, 6, 7, 8, 9]\n"
     ]
    }
   ],
   "source": [
    "s = \"Life is too short\"\n",
    "a = [1, 2, 3, 4, 5]\n",
    "print(s[0])\n",
    "#s[1] = 'y'\n",
    "print(a)\n",
    "print(a[2])\n",
    "a[2] = 10 # 리스트는 indexing을 이용해서 값을 변경할 수 있다.\n",
    "print(a)\n",
    "### 리스트에 있는 10를 삭제 \n",
    "del a[2]   # indexing을 이용해서 삭제\n",
    "print(a)\n",
    "\n",
    "a = [1, 2, 3, 4, 5]\n",
    "print(a)\n",
    "print(a[2:])\n",
    "del a[2:]  #slicing을 이용\n",
    "print(a)\n",
    "### [1,2] ===> [1,2,4]\n",
    "a.append(4)\n",
    "print(a)\n",
    "a.append(6)\n",
    "print(a)\n",
    "\n",
    "c = []\n",
    "c.append(1)\n",
    "c.append(2)\n",
    "c.append(3)\n",
    "c.append(4)\n",
    "c.append(5)\n",
    "print(c) "
   ]
  },
  {
   "cell_type": "code",
   "execution_count": 36,
   "id": "d48d657d",
   "metadata": {},
   "outputs": [
    {
     "name": "stdout",
     "output_type": "stream",
     "text": [
      "[1, 2, 3, 4]\n",
      "[4, 3, 2, 1]\n",
      "[1, 4, 3, 2]\n",
      "[2, 3, 4, 1]\n"
     ]
    }
   ],
   "source": [
    "a = [1, 4, 3, 2]\n",
    "# 1,2,3,4순으로 정렬\n",
    "a.sort() # [1, 4, 3, 2] ==> [1, 2, 3, 4] # 오름차순\n",
    "print(a)\n",
    "a.reverse()\n",
    "print(a)\n",
    "a = [1, 4, 3, 2]\n",
    "print(a)\n",
    "a.reverse() # 역순으로 저장  : 내림차순 아님\n",
    "print(a)"
   ]
  },
  {
   "cell_type": "code",
   "execution_count": 44,
   "id": "80f866d0",
   "metadata": {},
   "outputs": [
    {
     "name": "stdout",
     "output_type": "stream",
     "text": [
      "2\n",
      "2\n",
      "2\n"
     ]
    },
    {
     "ename": "TypeError",
     "evalue": "must be str, not int",
     "output_type": "error",
     "traceback": [
      "\u001b[1;31m---------------------------------------------------------------------------\u001b[0m",
      "\u001b[1;31mTypeError\u001b[0m                                 Traceback (most recent call last)",
      "\u001b[1;32m<ipython-input-44-48dab819272e>\u001b[0m in \u001b[0;36m<module>\u001b[1;34m\u001b[0m\n\u001b[0;32m      5\u001b[0m \u001b[0mprint\u001b[0m\u001b[1;33m(\u001b[0m\u001b[0ma\u001b[0m\u001b[1;33m.\u001b[0m\u001b[0mindex\u001b[0m\u001b[1;33m(\u001b[0m\u001b[1;36m3\u001b[0m\u001b[1;33m)\u001b[0m\u001b[1;33m)\u001b[0m\u001b[1;33m\u001b[0m\u001b[1;33m\u001b[0m\u001b[0m\n\u001b[0;32m      6\u001b[0m \u001b[1;31m#print(a.index(0)) #  index함수는 리스트에서도 없는 값에 대해서는 오류가 발생\u001b[0m\u001b[1;33m\u001b[0m\u001b[1;33m\u001b[0m\u001b[1;33m\u001b[0m\u001b[0m\n\u001b[1;32m----> 7\u001b[1;33m \u001b[0mprint\u001b[0m\u001b[1;33m(\u001b[0m\u001b[0ms\u001b[0m\u001b[1;33m.\u001b[0m\u001b[0mfind\u001b[0m\u001b[1;33m(\u001b[0m\u001b[1;36m3\u001b[0m\u001b[1;33m)\u001b[0m\u001b[1;33m)\u001b[0m\u001b[1;33m\u001b[0m\u001b[1;33m\u001b[0m\u001b[0m\n\u001b[0m",
      "\u001b[1;31mTypeError\u001b[0m: must be str, not int"
     ]
    }
   ],
   "source": [
    "s = \"Life is too short\"\n",
    "print(s.index('f'))\n",
    "print(s.find('f')) # 문자열에만 있는 함수\n",
    "a = [1,2,3]\n",
    "print(a.index(3))\n",
    "#print(a.index(0)) #  index함수는 리스트에서도 없는 값에 대해서는 오류가 발생\n",
    "#print(s.find(3))"
   ]
  },
  {
   "cell_type": "code",
   "execution_count": 49,
   "id": "63eea387",
   "metadata": {},
   "outputs": [
    {
     "name": "stdout",
     "output_type": "stream",
     "text": [
      "[1, 2, 3]\n",
      "[1, 2, 3, 4]\n",
      "[1, 5, 2, 3, 4]\n",
      "[1, 5, 2, 6, 3, 4]\n",
      "[1, 5, 2, [1, 2, 3, 4], 6, 3, 4]\n"
     ]
    }
   ],
   "source": [
    "a = [1,2,3]\n",
    "print(a)   # [1,2,3,4]\n",
    "a.append(4)\n",
    "print(a)\n",
    "a.insert(1, 5)\n",
    "print(a)\n",
    "a.insert(3, 6)\n",
    "print(a)\n",
    "a.insert(3,[1,2,3,4])\n",
    "print(a)"
   ]
  },
  {
   "cell_type": "code",
   "execution_count": 59,
   "id": "8e0f5bc8",
   "metadata": {},
   "outputs": [
    {
     "name": "stdout",
     "output_type": "stream",
     "text": [
      "[1, 4, 2, 5, 4, 3]\n",
      "[1, 2, 5, 4, 3]\n",
      "[1, 4, 2, 5, 4, 3]\n",
      "[1, 2, 5, 4, 3]\n",
      "['a', 'c']\n",
      "None\n",
      "['a']\n",
      "2\n"
     ]
    }
   ],
   "source": [
    "a = [1, 4, 2, 5, 4, 3]\n",
    "print(a)\n",
    "del a[1] # indexing을 이용해서 데이터를 삭제\n",
    "print(a)\n",
    "a.insert(1,4)\n",
    "print(a)\n",
    "a.remove(4) #  리터널을 이용해서 리터널에 해당되는 값을 삭제\n",
    "print(a) # 처음에 있는 값부터 삭제\n",
    "s = ['a','b','c']\n",
    "del s[1]\n",
    "print(s)\n",
    "r = s.remove('c') \n",
    "print(r)\n",
    "print(s)\n",
    "a = [1, 4, 2, 5, 4, 3]\n",
    "cnt = a.count(4)\n",
    "print(cnt)"
   ]
  },
  {
   "cell_type": "code",
   "execution_count": 71,
   "id": "bf028e76",
   "metadata": {},
   "outputs": [
    {
     "name": "stdout",
     "output_type": "stream",
     "text": [
      "[1, 4, 2, 5, 4, 3]\n",
      "3\n",
      "[1, 4, 2, 5, 4]\n",
      "4\n",
      "[1, 4, 2, 5]\n",
      "5\n",
      "[1, 4, 2]\n",
      "2\n",
      "[1, 4]\n",
      "4\n",
      "[1]\n"
     ]
    }
   ],
   "source": [
    "a = [1, 4, 2, 5, 4, 3]\n",
    "print(a)\n",
    "r = a.pop() # pop은 데이터를 가지나옴, 마지막 값부터 가지고 나옴\n",
    "print(r)\n",
    "print(a)\n",
    "r = a.pop()\n",
    "print(r)\n",
    "print(a)\n",
    "r = a.pop()\n",
    "print(r)\n",
    "print(a)\n",
    "r = a.pop()\n",
    "print(r)\n",
    "print(a)\n",
    "r = a.pop()\n",
    "print(r)\n",
    "print(a)\n",
    "a = [1, 4, 2, 5, 4, 3]\n",
    "r = a.pop(5) # index를 사용해서 데이터 삭제\n",
    "print(r)\n",
    "r = a.pop(3)\n",
    "print(a)"
   ]
  },
  {
   "cell_type": "code",
   "execution_count": 69,
   "id": "f27b4076",
   "metadata": {},
   "outputs": [
    {
     "name": "stdout",
     "output_type": "stream",
     "text": [
      "[5, 4, 4, 3, 2, 1]\n",
      "True\n"
     ]
    }
   ],
   "source": [
    "a = [1, 4, 2, 5, 4, 3]\n",
    "a.sort(reverse=True) # 내림차순\n",
    "print(a)"
   ]
  },
  {
   "cell_type": "code",
   "execution_count": 75,
   "id": "86a62a69",
   "metadata": {},
   "outputs": [
    {
     "name": "stdout",
     "output_type": "stream",
     "text": [
      "[1, 2, 3, [4, 5]]\n",
      "[1, 2, 3, 4, 5]\n",
      "[1, 2, 3, 4, 5]\n",
      "[1, 2, 3, 4, 5]\n"
     ]
    }
   ],
   "source": [
    "a = [1,2,3] # [1,2,3,4,5]\n",
    "a.append([4,5])\n",
    "print(a)\n",
    "a = [1,2,3]\n",
    "a.append(4)\n",
    "a.append(5)\n",
    "print(a)\n",
    "a = [1,2,3]\n",
    "a.extend([4,5])\n",
    "print(a)\n",
    "a = [1,2,3]\n",
    "a += [4,5]\n",
    "print(a)"
   ]
  },
  {
   "cell_type": "code",
   "execution_count": 76,
   "id": "0270ed79",
   "metadata": {},
   "outputs": [
    {
     "name": "stdout",
     "output_type": "stream",
     "text": [
      "2\n",
      "11\n",
      "[1, 1]\n"
     ]
    }
   ],
   "source": [
    "print (1 +1)\n",
    "print(\"1\" + \"1\")\n",
    "print([1] + [1])"
   ]
  },
  {
   "cell_type": "code",
   "execution_count": 80,
   "id": "962a3421",
   "metadata": {},
   "outputs": [
    {
     "name": "stdout",
     "output_type": "stream",
     "text": [
      "1\n",
      "1\n",
      "[1]\n",
      "(1,)\n",
      "1\n",
      "1\n"
     ]
    }
   ],
   "source": [
    "# 튜플 ()\n",
    "#[]\n",
    "print(1)\n",
    "print(\"1\")\n",
    "print([1])\n",
    "\n",
    "print((1,))\n",
    "print((1)) # 튜플 X , 최우선 연산\n",
    "print((\"1\")) # 튜플 X , 최우선 연산"
   ]
  },
  {
   "cell_type": "code",
   "execution_count": 85,
   "id": "23edbeac",
   "metadata": {},
   "outputs": [
    {
     "name": "stdout",
     "output_type": "stream",
     "text": [
      "2\n"
     ]
    },
    {
     "data": {
      "text/plain": [
       "'\\nprint(s + 1) # 문자열과 정수의 합이므로 오류\\nprint(t2 + 1) # 튜플과 정수의 합이므로 오유\\n'"
      ]
     },
     "execution_count": 85,
     "metadata": {},
     "output_type": "execute_result"
    }
   ],
   "source": [
    "l = [] # 빈 리스트\n",
    "t1  = () #  빈 튜플\n",
    "l1 = [1] #요소가 하나인 리스트\n",
    "t2 = (1,) # 요소가 하나인 튜플 \n",
    "t1 = (1) # 최우선 연산자로 1값을 갖는다\n",
    "s = '1'\n",
    "print(t1 + 1) # 정수와 정수의 합이므로 2\n",
    "'''\n",
    "print(s + 1) # 문자열과 정수의 합이므로 오류\n",
    "print(t2 + 1) # 튜플과 정수의 합이므로 오유\n",
    "'''"
   ]
  },
  {
   "cell_type": "code",
   "execution_count": 96,
   "id": "1a89b324",
   "metadata": {},
   "outputs": [
    {
     "name": "stdout",
     "output_type": "stream",
     "text": [
      "(1, 2)\n",
      "('a', 'b', ('ab', 'cd'), [1, 2, 3])\n",
      "(1, 2, 3, 4, 5, 6)\n",
      "b\n",
      "('ab', 'cd')\n",
      "[1, 2, 3]\n",
      "2\n",
      "1\n",
      "4\n",
      "[1, 10, 3, 4]\n"
     ]
    }
   ],
   "source": [
    "t3 = (1,2)\n",
    "print(t3)\n",
    "t5 = (1,2,3,'a', 'b')\n",
    "t6 = ('a', 'b', ('ab', 'cd'))\n",
    "t6 = ('a', 'b', ('ab', 'cd'),[1,2,3])\n",
    "print(t6)\n",
    "t7 = 1,2,3,4,5,6\n",
    "print(t7)\n",
    "print(t6[1])\n",
    "print(t6[2])\n",
    "print(t6[3])\n",
    "print(t6[3][1])\n",
    "print(t6.index('b'))\n",
    "print(len(t6))"
   ]
  },
  {
   "cell_type": "code",
   "execution_count": 99,
   "id": "9feb0cea",
   "metadata": {},
   "outputs": [
    {
     "name": "stdout",
     "output_type": "stream",
     "text": [
      "[1, 10, 3, 4]\n"
     ]
    },
    {
     "ename": "TypeError",
     "evalue": "'tuple' object doesn't support item deletion",
     "output_type": "error",
     "traceback": [
      "\u001b[1;31m---------------------------------------------------------------------------\u001b[0m",
      "\u001b[1;31mTypeError\u001b[0m                                 Traceback (most recent call last)",
      "\u001b[1;32m<ipython-input-99-99027e243403>\u001b[0m in \u001b[0;36m<module>\u001b[1;34m\u001b[0m\n\u001b[0;32m      5\u001b[0m \u001b[0mt\u001b[0m \u001b[1;33m=\u001b[0m \u001b[1;33m(\u001b[0m\u001b[1;36m1\u001b[0m\u001b[1;33m,\u001b[0m\u001b[1;36m2\u001b[0m\u001b[1;33m,\u001b[0m\u001b[1;36m3\u001b[0m\u001b[1;33m,\u001b[0m\u001b[1;36m4\u001b[0m\u001b[1;33m)\u001b[0m \u001b[1;31m# 상수\u001b[0m\u001b[1;33m\u001b[0m\u001b[1;33m\u001b[0m\u001b[0m\n\u001b[0;32m      6\u001b[0m \u001b[1;31m# t[1] = 10\u001b[0m\u001b[1;33m\u001b[0m\u001b[1;33m\u001b[0m\u001b[1;33m\u001b[0m\u001b[0m\n\u001b[1;32m----> 7\u001b[1;33m \u001b[1;32mdel\u001b[0m \u001b[0mt\u001b[0m\u001b[1;33m[\u001b[0m\u001b[1;36m1\u001b[0m\u001b[1;33m]\u001b[0m\u001b[1;33m\u001b[0m\u001b[1;33m\u001b[0m\u001b[0m\n\u001b[0m",
      "\u001b[1;31mTypeError\u001b[0m: 'tuple' object doesn't support item deletion"
     ]
    }
   ],
   "source": [
    "#### 튜플과 리스트의 차이점은 튜플은 데이터의 수정을 할 수 없다.\n",
    "l = [1,2,3,4]\n",
    "l[1] = 10\n",
    "print(l)\n",
    "t = (1,2,3,4) # 상수\n",
    "# t[1] = 10\n",
    "# del t[1]"
   ]
  },
  {
   "cell_type": "code",
   "execution_count": 103,
   "id": "72d454c1",
   "metadata": {},
   "outputs": [
    {
     "name": "stdout",
     "output_type": "stream",
     "text": [
      "('b', ('ab', 'cd'), [1, 2, 3])\n",
      "('b', ('ab', 'cd'))\n",
      "[2, 3]\n"
     ]
    }
   ],
   "source": [
    "t6 = ('a', 'b', ('ab', 'cd'),[1,2,3])\n",
    "# 슬라이싱하기\n",
    "print(t6[1:])\n",
    "print(t6[1:3])\n",
    "print(t6[3][1:3])"
   ]
  },
  {
   "cell_type": "code",
   "execution_count": null,
   "id": "d3459dfa",
   "metadata": {},
   "outputs": [],
   "source": [
    "### 숫자 : 정수 , 실수\n",
    "### 문자 : '', \"\", '''''' ,\"\"\"\"\"\"\n",
    "### 리스트 : []\n",
    "### 튜플 : () , (1,)"
   ]
  },
  {
   "cell_type": "code",
   "execution_count": 111,
   "id": "2594e4d1",
   "metadata": {},
   "outputs": [
    {
     "name": "stdout",
     "output_type": "stream",
     "text": [
      "pey\n",
      "0119993323\n",
      "숭\n",
      "{1: '이', 2: 'b'}\n",
      "{1: '이', 2: 'b', 3: '무'}\n",
      "{1: '숭'}\n"
     ]
    }
   ],
   "source": [
    "### 딕셔너리  # map<키,값>\n",
    "# {Key1:Value1, Key2:Value2, Key3:Value3, ...}\n",
    "# JSON\n",
    "### 키와 값으로 이루어졌다.\n",
    "dic = {'name':'pey', 'phone':'0119993323', 'birth': '1118'}\n",
    "#  index를 사용하지 않는다. 값을 가지고 올 때는 키를 이용한다.\n",
    "print(dic['name'])\n",
    "print(dic['phone'])\n",
    "d1 = {2:\"이\", 0:\"숭\" ,1 :\"무\"}\n",
    "print(d1[0]) # 키를 이용해서 값을 가져온다.\n",
    "a = {1: 'a',2:'b'}\n",
    "## 딕셔너리에 있는 값 변경하기\n",
    "a[1] = '이'\n",
    "print(a)\n",
    "a[3] = \"무\"\n",
    "print(a)\n",
    "# 딕셔너리에서는 키가 있으면 수정 키가 없으면 추가가 된다.\n",
    "a  = {1:'이', 1:\"숭\"}\n",
    "print(a) \n",
    "# 딕셔너리는 중복 키를 허용하지 않으므로 키가 중복이 되면 마지막값을 갖는다."
   ]
  },
  {
   "cell_type": "code",
   "execution_count": 116,
   "id": "3c558bb5",
   "metadata": {},
   "outputs": [
    {
     "name": "stdout",
     "output_type": "stream",
     "text": [
      "{1: 'a', 2: 'b'}\n",
      "{1: 'a', 2: 'b', 'name': 'pey'}\n",
      "{1: 'a', 2: 'b', 'name': 'pey', 3: [1, 2, 3]}\n",
      "[1, 2, 3]\n",
      "{1: 'a', 'name': 'pey', 3: [1, 2, 3]}\n"
     ]
    }
   ],
   "source": [
    "a = {1: 'a'}\n",
    "a[2] = \"b\";\n",
    "print(a)\n",
    "a[\"name\"] = \"pey\"\n",
    "print(a)\n",
    "a[3] = [1,2,3]\n",
    "print(a)\n",
    "print(a[3])\n",
    "#키가 2인 요소를 삭제\n",
    "del a[2]\n",
    "print(a)"
   ]
  },
  {
   "cell_type": "code",
   "execution_count": 127,
   "id": "6d2db413",
   "metadata": {},
   "outputs": [
    {
     "name": "stdout",
     "output_type": "stream",
     "text": [
      "{'name': 'pey', 'phone': '0119993323', 'birth': '19991118'}\n",
      "1999\n",
      "19991118\n",
      "1999\n",
      "3323\n"
     ]
    }
   ],
   "source": [
    "dic = {'name':'pey', 'phone':'0119993323', 'birth': '1118'}\n",
    "dic['birth'] = '19991118'\n",
    "print(dic)\n",
    "# birth에서 년도만 출력하시오.\n",
    "print(dic['birth'][0:4])\n",
    "\n",
    "a  = dic['birth']\n",
    "print(a)\n",
    "print(a[0:4])\n",
    "#'phone'에서 뒤에 4자리를 가져오시오\n",
    "print(dic['phone'][-4:])"
   ]
  },
  {
   "cell_type": "code",
   "execution_count": 135,
   "id": "1320a91c",
   "metadata": {},
   "outputs": [
    {
     "name": "stdout",
     "output_type": "stream",
     "text": [
      "dict_keys(['name', 'phone', 'birth'])\n",
      "dict_values(['pey', '0119993323', '19991118'])\n",
      "dict_items([('name', 'pey'), ('phone', '0119993323'), ('birth', '19991118')])\n",
      "{}\n"
     ]
    }
   ],
   "source": [
    "dic = {'name':'pey', 'phone':'0119993323', 'birth': '19991118'}\n",
    "#  딕셔너리에서 키만 가져오기\n",
    "print(dic.keys())\n",
    "print(dic.values())\n",
    "print(dic.items())\n",
    "dic.clear()\n",
    "print(dic)"
   ]
  },
  {
   "cell_type": "code",
   "execution_count": 146,
   "id": "4283cb23",
   "metadata": {},
   "outputs": [
    {
     "name": "stdout",
     "output_type": "stream",
     "text": [
      "pey\n",
      "pey\n",
      "키가 있습니다.\n",
      "키가 없습니다.\n",
      "\n",
      "None\n",
      "pey\n"
     ]
    }
   ],
   "source": [
    "dic = {'name':'pey', 'phone':'0119993323', 'birth': '19991118'}\n",
    "print(dic['name'])\n",
    "print(dic.get('name'))\n",
    "\n",
    "if dic['name'] != None:  # 'name'이라는 키에 있는 값이 None이 아닌지 확인?\n",
    "    print('키가 있습니다.')\n",
    "else:\n",
    "    print('키가 없습니다.')\n",
    "'''\n",
    "if dic['money'] != None:  \n",
    "    print('키가 있습니다.')\n",
    "else:\n",
    "    print('키가 없습니다.')\n",
    "'''\n",
    "# print(dic['money'])\n",
    "if dic.get('money') != None:  # 키가 있는지 없는지 확인 하고 싶을때\n",
    "    print('키가 있습니다.')\n",
    "else:\n",
    "    print('키가 없습니다.')\n",
    "    \n",
    "dic = {'name':'pey', 'phone':'', 'birth': None}\n",
    "print(dic['phone'])\n",
    "print(dic['birth'])\n",
    "\n",
    "print(dic.get('name'))\n",
    "print(dic['name'])\n",
    "print(dic.get('money'))"
   ]
  },
  {
   "cell_type": "code",
   "execution_count": 155,
   "id": "f3c4dcc6",
   "metadata": {},
   "outputs": [
    {
     "name": "stdout",
     "output_type": "stream",
     "text": [
      "1000\n",
      "1200\n",
      "100\n",
      "1000\n"
     ]
    }
   ],
   "source": [
    "dic = {'name':'pey', 'phone':'0119993323', 'birth': '19991118'}\n",
    "dic1  = {'classic' : 500 ,  \"pop\" : 600 }\n",
    "dic2  = {'classic' : 500 ,  \"pop\" : 600 ,\"money\":100 }\n",
    "print(dic1.get('classic',0) + dic2.get('classic',0))\n",
    "print(dic1.get('pop',0) + dic2.get('pop',0))\n",
    "print(dic1.get('money',0) + dic2.get('money',0))\n",
    "print(dic1.get('money', 1000))"
   ]
  },
  {
   "cell_type": "code",
   "execution_count": null,
   "id": "3d90374e",
   "metadata": {},
   "outputs": [],
   "source": [
    "#### 숫자 : 11,12\n",
    "#### 문자 : '1',\"1\",'''1''',\"\"\"1\"\"\"\n",
    "#### 리스트 : []\n",
    "### 튜플 : () , (1,) # (1) : 최우선 연산자\n",
    "### 딕셔너리 : {키:값}\n",
    "### set : 집합자료형\n",
    "### bool : 참/거짓\n",
    "### 제어문\\"
   ]
  },
  {
   "cell_type": "code",
   "execution_count": 181,
   "id": "f3e2811e",
   "metadata": {},
   "outputs": [
    {
     "name": "stdout",
     "output_type": "stream",
     "text": [
      "{1, 2, 3}\n",
      "{'h', 'l', 'o', 'e'}\n",
      "{1, 2, 3}\n",
      "1\n",
      "1\n",
      "[1, 2, 10, 4]\n",
      "[1, 2, 10, 4]\n",
      "[1, 100, 10, 4]\n",
      "[1, 100, 10, 4]\n",
      "1939558876528\n",
      "1939558876528\n",
      "1939553518784\n",
      "1939558763904\n",
      "140716811624192\n"
     ]
    }
   ],
   "source": [
    "# 집합 자료형\n",
    "# 교집합, 합집합 \n",
    "s1 = set([1,2,3]) \n",
    "print(s1)  # {1, 2, 3}\n",
    "s2 = set(\"hello\")  # {'h', 'l', 'o', 'e'} # 집합자료은 값의 중복을 허용하지 않음\n",
    "print(s2)          #{'l, 'e', 'o', 'h'}\n",
    "s3= set((1,2,3))\n",
    "print(s3)\n",
    "# s4 = set(1,2,3) # TypeError: set expected at most 1 argument, got 3\n",
    "# print(s4)\n",
    "# indexing\n",
    "# print(s3[0]) # 집합자료현 자체로는 indexing을 할 수 없다.\n",
    "l= list(s3) # 집합자료형을 리스트로 형변환\n",
    "print(l[0])\n",
    "t = tuple(s3)\n",
    "print(t[0])"
   ]
  },
  {
   "cell_type": "code",
   "execution_count": 186,
   "id": "7e21f341",
   "metadata": {},
   "outputs": [
    {
     "name": "stdout",
     "output_type": "stream",
     "text": [
      "{1, 2, 3, 4, 5, 6, 7, 8, 9}\n",
      "{1, 2, 3, 4, 5, 6, 7, 8, 9}\n",
      "{4, 5, 6}\n",
      "{4, 5, 6}\n",
      "{1, 2, 3}\n",
      "{1, 2, 3}\n"
     ]
    }
   ],
   "source": [
    "s1 = set([1, 2, 3, 4, 5, 6])\n",
    "s2 = set([4, 5, 6, 7, 8, 9])\n",
    "#### 집합자료형 : 교집합, 합집합\n",
    "\n",
    "### 합집합\n",
    "print(s1 | s2)  # 집합인 경우 중복데이터는 허용하지 않아 한번만 출력\n",
    "print(s1.union(s2) )\n",
    "\n",
    "### 교집합\n",
    "print(s1 & s2)\n",
    "print(s1.intersection(s2))\n",
    "\n",
    "### 차집합\n",
    "print(s1 - s2)\n",
    "print(s1.difference(s2))"
   ]
  },
  {
   "cell_type": "code",
   "execution_count": 191,
   "id": "17cc765f",
   "metadata": {},
   "outputs": [
    {
     "name": "stdout",
     "output_type": "stream",
     "text": [
      "{1, 2, 3, 4, 5, 6, 7}\n",
      "{1, 2, 3, 4, 5, 6, 7, 8, 9}\n",
      "{1, 2, 3, 4, 5, 6, 7, 9}\n",
      "{1, 2, 3, 4, 5, 6, 7, 8, 9}\n"
     ]
    }
   ],
   "source": [
    "s1 = set([1,2,3,4,5,6])\n",
    "s1.add(7)\n",
    "print(s1)\n",
    "'''\n",
    "s1.add([7,8,9])\n",
    "print(s1)\n",
    "'''\n",
    "s1.update([7,8,9])\n",
    "print(s1)\n",
    "s1.remove(8)\n",
    "print(s1)\n",
    "\n",
    "s3 = {1, 2, 3, 4, 5, 6, 7, 8, 9}\n",
    "print(s3)"
   ]
  },
  {
   "cell_type": "code",
   "execution_count": 202,
   "id": "4cf9cc7a",
   "metadata": {},
   "outputs": [
    {
     "name": "stdout",
     "output_type": "stream",
     "text": [
      "True\n",
      "False\n",
      "<class 'int'>\n",
      "<class 'str'>\n",
      "<class 'list'>\n",
      "<class 'tuple'>\n",
      "<class 'dict'>\n",
      "{1, 2, 3, 4, 5}\n",
      "<class 'set'>\n",
      "<class 'bool'>\n"
     ]
    }
   ],
   "source": [
    "# 부울 타입 / True | False\n",
    "a = True\n",
    "print(a)\n",
    "b = False\n",
    "print(b)\n",
    "i = 10\n",
    "print(type(i))\n",
    "s  = \"이숭무\"\n",
    "print(type(s))\n",
    "l = [1,2,3,4,5]\n",
    "print(type(l))\n",
    "t = (1,2,3,4,5)\n",
    "print(type(t))\n",
    "d  = {1:'a'}\n",
    "print(type(d))\n",
    "se = {1, 2, 3, 4, 5}\n",
    "print(se)\n",
    "print(type(se))\n",
    "b = True\n",
    "print(type(b))"
   ]
  },
  {
   "cell_type": "code",
   "execution_count": 232,
   "id": "3bce7ba7",
   "metadata": {},
   "outputs": [
    {
     "name": "stdout",
     "output_type": "stream",
     "text": [
      "True\n",
      "True\n",
      "False\n",
      "True\n",
      "True\n",
      "True\n"
     ]
    }
   ],
   "source": [
    "### 결과가 bool인 경우는 비교연산, 논리연산\n",
    "### bool타입 결과를 사용하는 것은 제어문\n",
    "print(1 == 1 )\n",
    "print(2 > 1)\n",
    "print(1 > 2)\n",
    "print( True & True)  ### 논리 연산\n",
    "a = 10\n",
    "b = 20\n",
    "c = 30\n",
    "print( a < b and c > a )\n",
    "print( a < b or c > a )"
   ]
  },
  {
   "cell_type": "code",
   "execution_count": null,
   "id": "9ba40759",
   "metadata": {},
   "outputs": [],
   "source": [
    "print(bool(\"이숭무\"))\n",
    "print(bool(\"\"))   ###### False\n",
    "print(bool([1,2,3,4]))\n",
    "print(bool([]))   ###### False\n",
    "print(bool((1,2,3,4)))\n",
    "print(bool(()))   ###### False\n",
    "print(bool(0))    ###### False\n",
    "print(bool(-1))\n",
    "print(bool(1))\n",
    "print(bool(None))  ###### False"
   ]
  },
  {
   "cell_type": "code",
   "execution_count": 221,
   "id": "b15d28a3",
   "metadata": {},
   "outputs": [
    {
     "name": "stdout",
     "output_type": "stream",
     "text": [
      "python\n",
      "life\n",
      "[1, 2, 3, 4]\n",
      "[4, 5, 6, 7]\n",
      "python\n",
      "life\n"
     ]
    }
   ],
   "source": [
    "### 파이썬 변수 선언법\n",
    "a = 'python'\n",
    "b = 'life'\n",
    "a = b = c= 0\n",
    "a , b = ('python', 'life')\n",
    "print(a)\n",
    "print(b)\n",
    "a , b = ([1,2,3,4], [4,5,6,7])  \n",
    "print(a)\n",
    "print(b)\n",
    "(a, b) = 'python', 'life'\n",
    "[a, b] = 'python', 'life'\n",
    "print(a)\n",
    "print(b)\n",
    "a, b = 'python', 'life'\n",
    "(a,b,c) = (1,2,3)"
   ]
  },
  {
   "cell_type": "code",
   "execution_count": 222,
   "id": "c329a3f5",
   "metadata": {},
   "outputs": [
    {
     "name": "stdout",
     "output_type": "stream",
     "text": [
      "5\n",
      "3\n"
     ]
    }
   ],
   "source": [
    "a = 3 \n",
    "b = 5\n",
    "c = 0\n",
    "#### a 값을 b에저장  b 값을 a\n",
    "'''\n",
    "= a\n",
    "a  = b\n",
    "b = c\n",
    "'''\n",
    "a , b = b , a\n",
    "print(a)\n",
    "print(b)"
   ]
  },
  {
   "cell_type": "code",
   "execution_count": 223,
   "id": "52792e7f",
   "metadata": {},
   "outputs": [
    {
     "name": "stdout",
     "output_type": "stream",
     "text": [
      "a차를 타고 가시오\n"
     ]
    }
   ],
   "source": [
    "#제어문\n",
    "# 조건문 : 여러가지 선택중에서 하나를 선택할 수 있게 하는 것\n",
    "# 조건문을 사용할 때에는 실행 명령문은 들여쓰기가 되어 있어야 한다.\n",
    "money = 3000\n",
    "# 돈이 3000원이상이면 차를 타고 가자./\n",
    "## 단일 if 문\n",
    "if money >= 3000 : ### true\n",
    "    print(\"a차를 타고 가시오\")\n",
    "\n",
    "money = 2000\n",
    "if money >= 3000 : ### False\n",
    "    print(\"b차를 타고 가시오\")"
   ]
  },
  {
   "cell_type": "code",
   "execution_count": 224,
   "id": "6ac38f98",
   "metadata": {},
   "outputs": [
    {
     "name": "stdout",
     "output_type": "stream",
     "text": [
      "걸어 가시오\n"
     ]
    }
   ],
   "source": [
    "### if ~ else  : 두개중에 하나를 선택하고자 할 때 사용\n",
    "if money >= 3000 :  ### True\n",
    "    print(\"차를 타고 가시오\")\n",
    "else: ### False\n",
    "    print(\"걸어 가시오\")"
   ]
  },
  {
   "cell_type": "code",
   "execution_count": null,
   "id": "45e759d8",
   "metadata": {},
   "outputs": [],
   "source": [
    "if money < 3000: #### True :비교 연산과 논리연산이용해서 조건을 만들어 줌\n",
    "    print(\"걸어가시오\")\n",
    "else: ### False\n",
    "    print(\"차를 타고 가시오\")"
   ]
  },
  {
   "cell_type": "code",
   "execution_count": 238,
   "id": "39ce7a5f",
   "metadata": {},
   "outputs": [
    {
     "name": "stdout",
     "output_type": "stream",
     "text": [
      "False\n"
     ]
    }
   ],
   "source": [
    "#### 4년마다 윤년이지만 100년마다는 윤년이 아니고  400년마다 윤년 \n",
    "year = 100\n",
    "print(year % 4 == 0 and year % 100 != 0  or year % 400 ==0)"
   ]
  },
  {
   "cell_type": "code",
   "execution_count": 239,
   "id": "042e0b16",
   "metadata": {},
   "outputs": [
    {
     "name": "stdout",
     "output_type": "stream",
     "text": [
      "True\n",
      "False\n",
      "False\n",
      "False\n",
      "True\n",
      "True\n",
      "True\n",
      "False\n",
      "True\n"
     ]
    }
   ],
   "source": [
    "w = False\n",
    "x = True\n",
    "y = True\n",
    "z = False\n",
    "###  and \n",
    "print( x and y )\n",
    "print( w and x )\n",
    "print( x and w )\n",
    "print( z and w )\n",
    "\n",
    "### or \n",
    "print(x or y) ## True\n",
    "print(x or z) ## True\n",
    "print(z or y) ### True\n",
    "print(z or w) ### False\n",
    "print(x or z or w)"
   ]
  },
  {
   "cell_type": "code",
   "execution_count": 242,
   "id": "718dcab9",
   "metadata": {},
   "outputs": [
    {
     "name": "stdout",
     "output_type": "stream",
     "text": [
      "False\n",
      "False\n",
      "True\n",
      "False\n",
      "True\n",
      "True\n"
     ]
    }
   ],
   "source": [
    "x = 10 ; y = 20 #### 비교연산자 == 관계연산자의 결과값은 부울타입이다.\n",
    "print( x == y ) \n",
    "print( x > y )\n",
    "print( x < y )\n",
    "print( x >= y )\n",
    "print( x <= y )\n",
    "print( x != y )\n",
    "if x < y :\n",
    "    print(\"y가 큽니다\")\n",
    "else:\n",
    "    print(\"y가 작다\")\n",
    "    \n",
    "year = 2400\n",
    "if year % 4 == 0 and year % 100 != 0 or year % 400 == 0:\n",
    "    print(\"윤년\")\n",
    "else:\n",
    "    print(\"평년\")"
   ]
  },
  {
   "cell_type": "code",
   "execution_count": 249,
   "id": "0ddf9f23",
   "metadata": {},
   "outputs": [
    {
     "name": "stdout",
     "output_type": "stream",
     "text": [
      "True\n",
      "False\n",
      "True\n",
      "Fasle\n",
      "True\n"
     ]
    }
   ],
   "source": [
    "if 1:\n",
    "    print(\"True\")\n",
    "    \n",
    "if 0:\n",
    "    print(\"True\")\n",
    "else:\n",
    "    print(\"False\")\n",
    "    \n",
    "if \"abcd\":\n",
    "    print(\"True\")\n",
    "    \n",
    "if \"\":\n",
    "    print(\"True\")\n",
    "else:\n",
    "    print(\"Fasle\")\n",
    "\n",
    "if not 0:  ## not False : True , not True : False\n",
    "    print(\"True\")\n"
   ]
  },
  {
   "cell_type": "code",
   "execution_count": 262,
   "id": "4b4cff9b",
   "metadata": {},
   "outputs": [
    {
     "name": "stdout",
     "output_type": "stream",
     "text": [
      "True\n",
      "False\n",
      "4를 포함하고 있습니다\n",
      "7이 포함되어 있지 않습니다.\n",
      "True\n",
      "True\n",
      "True\n",
      "True\n",
      "False\n",
      "True\n",
      "True\n",
      "False\n",
      "True\n",
      "주머니에 돈이 있습니다.\n",
      "False\n"
     ]
    }
   ],
   "source": [
    "l = [1,2,3,4,5,6]\n",
    "print(4 in l)\n",
    "print( 7 in l )\n",
    "if 4 in l: #\n",
    "    print(\"4를 포함하고 있습니다\");\n",
    "\n",
    "if 7 in l:\n",
    "    print(\"7이 포함되어 있습니다.\")\n",
    "else:\n",
    "    print(\"7이 포함되어 있지 않습니다.\")\n",
    "\n",
    "print(4 in [1,2,3,4,5,6])\n",
    "print(4 in (1,2,3,4,5,6))\n",
    "print(4 in {1,2,3,4,5,6})\n",
    "\n",
    "print(7 not in {1,2,3,4,5,6})\n",
    "print(4 not in {1,2,3,4,5,6})\n",
    "print('a' in {'a': 4 })\n",
    "print('j' not in 'python')\n",
    "print('j' in 'python')\n",
    "\n",
    "pocket = ['paper', 'cellphone', 'money']\n",
    "print('money' in pocket)\n",
    "if 'money' in pocket:\n",
    "    print(\"주머니에 돈이 있습니다.\")\n",
    "    \n",
    "if 'j' in 'python':\n",
    "    print(\"j를 포함한다\")\n",
    "else:\n",
    "    print(\"j를 포함하고 있지 않다.\")"
   ]
  },
  {
   "cell_type": "code",
   "execution_count": 265,
   "id": "6dbbf99b",
   "metadata": {},
   "outputs": [
    {
     "name": "stdout",
     "output_type": "stream",
     "text": [
      "False\n",
      "<class 'dict'>\n",
      "<class 'set'>\n"
     ]
    }
   ],
   "source": [
    "# 제어문에서 사용 가능한 연산자\n",
    "# 비교연산자(관계연산자) / 논리연산자  : True/False(and , or) / not / in\n",
    "# False : 0, \"\", [], {}, (), None\n",
    "\n",
    "# True : 1, 2, 3 / \"a\" / [1,2] / (1,2) / {1:2}\n",
    "print(bool({}))\n",
    "print(type({}))\n",
    "print(type({1,2,3,4,5}))"
   ]
  },
  {
   "cell_type": "code",
   "execution_count": 266,
   "id": "716aad33",
   "metadata": {},
   "outputs": [
    {
     "name": "stdout",
     "output_type": "stream",
     "text": [
      "B\n"
     ]
    }
   ],
   "source": [
    "### if , if ~ else , if ~ elif ~ ... ~ else\n",
    "### score가 90이상이면 A, 80이상이면 B, 70이상이면 C, 60이상이면 D, \n",
    "### 그렇지 않으면 F\n",
    "score = 87 # 다중 if문\n",
    "if score >= 90:\n",
    "    print('A')\n",
    "elif score >= 80:\n",
    "    print('B')\n",
    "elif score >= 70:\n",
    "    print(\"C\")\n",
    "elif score >= 60:\n",
    "    print(\"D\")\n",
    "else:\n",
    "    print(\"F\")"
   ]
  }
 ],
 "metadata": {
  "kernelspec": {
   "display_name": "Python 3",
   "language": "python",
   "name": "python3"
  },
  "language_info": {
   "codemirror_mode": {
    "name": "ipython",
    "version": 3
   },
   "file_extension": ".py",
   "mimetype": "text/x-python",
   "name": "python",
   "nbconvert_exporter": "python",
   "pygments_lexer": "ipython3",
   "version": "3.8.11"
  }
 },
 "nbformat": 4,
 "nbformat_minor": 5
}
