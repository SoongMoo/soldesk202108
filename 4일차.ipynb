{
 "cells": [
  {
   "cell_type": "code",
   "execution_count": 2,
   "id": "224d0033",
   "metadata": {},
   "outputs": [],
   "source": [
    "result1 = 0  # 2, 5 , 7\n",
    "def add1(num):\n",
    "    global result1\n",
    "    result1 = result1 + num"
   ]
  },
  {
   "cell_type": "code",
   "execution_count": 4,
   "id": "7c466205",
   "metadata": {},
   "outputs": [
    {
     "name": "stdout",
     "output_type": "stream",
     "text": [
      "2\n"
     ]
    }
   ],
   "source": [
    "add1(2)\n",
    "print(result1)"
   ]
  },
  {
   "cell_type": "code",
   "execution_count": 5,
   "id": "ed212f6e",
   "metadata": {},
   "outputs": [
    {
     "name": "stdout",
     "output_type": "stream",
     "text": [
      "7\n"
     ]
    }
   ],
   "source": [
    "add1(5)\n",
    "print(result1)"
   ]
  },
  {
   "cell_type": "code",
   "execution_count": 6,
   "id": "1d1bc86f",
   "metadata": {},
   "outputs": [],
   "source": [
    "result2 = 0\n",
    "def add2(num):\n",
    "    global result2\n",
    "    result2 = result2 + num"
   ]
  },
  {
   "cell_type": "code",
   "execution_count": 7,
   "id": "ac4656ab",
   "metadata": {},
   "outputs": [
    {
     "name": "stdout",
     "output_type": "stream",
     "text": [
      "4\n"
     ]
    }
   ],
   "source": [
    "add2(4)\n",
    "print(result2)"
   ]
  },
  {
   "cell_type": "code",
   "execution_count": 8,
   "id": "8a809fe7",
   "metadata": {},
   "outputs": [
    {
     "name": "stdout",
     "output_type": "stream",
     "text": [
      "7\n"
     ]
    }
   ],
   "source": [
    "print(result1)"
   ]
  },
  {
   "cell_type": "code",
   "execution_count": 9,
   "id": "2caabf2f",
   "metadata": {},
   "outputs": [],
   "source": [
    "class Calculator:\n",
    "    result = 0\n",
    "    def add(self, num):\n",
    "        self.result = self.result + num\n",
    "        \n",
    "    # cal1.add(2) => Calculator.add(cal1, 2)"
   ]
  },
  {
   "cell_type": "code",
   "execution_count": 27,
   "id": "34ce8f26",
   "metadata": {},
   "outputs": [
    {
     "name": "stdout",
     "output_type": "stream",
     "text": [
      "8\n"
     ]
    }
   ],
   "source": [
    "cal1.add(2)\n",
    "print(cal1.result)"
   ]
  },
  {
   "cell_type": "code",
   "execution_count": 29,
   "id": "7695c01d",
   "metadata": {},
   "outputs": [
    {
     "name": "stdout",
     "output_type": "stream",
     "text": [
      "12\n"
     ]
    }
   ],
   "source": [
    "Calculator.add(cal1, 2)\n",
    "print(cal1.result)"
   ]
  },
  {
   "cell_type": "code",
   "execution_count": 11,
   "id": "342c3d44",
   "metadata": {},
   "outputs": [
    {
     "name": "stdout",
     "output_type": "stream",
     "text": [
      "2\n"
     ]
    }
   ],
   "source": [
    "cal1 = Calculator() # result, add()\n",
    "cal1.add(2)\n",
    "print(cal1.result)"
   ]
  },
  {
   "cell_type": "code",
   "execution_count": 12,
   "id": "476b6c93",
   "metadata": {},
   "outputs": [
    {
     "name": "stdout",
     "output_type": "stream",
     "text": [
      "6\n"
     ]
    }
   ],
   "source": [
    "cal1.add(4)\n",
    "print(cal1.result)"
   ]
  },
  {
   "cell_type": "code",
   "execution_count": 13,
   "id": "e4060929",
   "metadata": {},
   "outputs": [
    {
     "name": "stdout",
     "output_type": "stream",
     "text": [
      "4\n"
     ]
    }
   ],
   "source": [
    "cal2 = Calculator()\n",
    "cal2.add(4)\n",
    "print(cal2.result)"
   ]
  },
  {
   "cell_type": "code",
   "execution_count": 33,
   "id": "132977bf",
   "metadata": {},
   "outputs": [],
   "source": [
    "# 메버필드에 값을 초기화 시키기\n",
    "class FourCal:\n",
    "    def setdata(self, first,second):\n",
    "        self.first = first\n",
    "        self.second = second\n",
    "    def add(self):\n",
    "        self.result = self.first + self.second\n",
    "        return self.result\n",
    "    def sub(self):\n",
    "        self.result = self.first - self.second\n",
    "        return self.result\n",
    "    def mul(self):\n",
    "        self.result = self.first * self.second\n",
    "        return self.result\n",
    "    def div(self):\n",
    "        self.result = self.first / self.second\n",
    "        return self.result"
   ]
  },
  {
   "cell_type": "code",
   "execution_count": 17,
   "id": "49619f10",
   "metadata": {},
   "outputs": [],
   "source": [
    "a = FourCal()\n",
    "a.setdata(5 , 2)"
   ]
  },
  {
   "cell_type": "code",
   "execution_count": 18,
   "id": "cc60cad5",
   "metadata": {},
   "outputs": [
    {
     "name": "stdout",
     "output_type": "stream",
     "text": [
      "7\n"
     ]
    }
   ],
   "source": [
    "b = a.add()\n",
    "print(b)"
   ]
  },
  {
   "cell_type": "code",
   "execution_count": 19,
   "id": "29de1de4",
   "metadata": {},
   "outputs": [
    {
     "name": "stdout",
     "output_type": "stream",
     "text": [
      "3\n"
     ]
    }
   ],
   "source": [
    "b = a.sub()\n",
    "print(b)"
   ]
  },
  {
   "cell_type": "code",
   "execution_count": 21,
   "id": "d584176d",
   "metadata": {},
   "outputs": [],
   "source": [
    "c = FourCal()"
   ]
  },
  {
   "cell_type": "code",
   "execution_count": 23,
   "id": "ad4f1067",
   "metadata": {},
   "outputs": [],
   "source": [
    "FourCal.setdata(c, 4, 2)  #  c.setdata(4, 2)"
   ]
  },
  {
   "cell_type": "code",
   "execution_count": 24,
   "id": "da9560cc",
   "metadata": {},
   "outputs": [
    {
     "name": "stdout",
     "output_type": "stream",
     "text": [
      "6\n"
     ]
    }
   ],
   "source": [
    "print(c.add())"
   ]
  },
  {
   "cell_type": "code",
   "execution_count": 25,
   "id": "55d8d2ba",
   "metadata": {},
   "outputs": [
    {
     "name": "stdout",
     "output_type": "stream",
     "text": [
      "2\n"
     ]
    }
   ],
   "source": [
    "print(FourCal.sub(c))"
   ]
  },
  {
   "cell_type": "code",
   "execution_count": 32,
   "id": "cb149232",
   "metadata": {},
   "outputs": [],
   "source": [
    " class FourCal1:\n",
    "    def __init__(self, first,second): # 생성자 : 멤버변수를 초기화\n",
    "        self.first = first\n",
    "        self.second = second\n",
    "    def add(self):\n",
    "        self.result = self.first + self.second\n",
    "        return self.result\n",
    "    def sub(self):\n",
    "        self.result = self.first - self.second\n",
    "        return self.result\n",
    "    def mul(self):\n",
    "        self.result = self.first * self.second\n",
    "        return self.result\n",
    "    def div(self):\n",
    "        self.result = self.first / self.second\n",
    "        return self.result"
   ]
  },
  {
   "cell_type": "code",
   "execution_count": 37,
   "id": "d1aa626e",
   "metadata": {},
   "outputs": [],
   "source": [
    "b = FourCal1(4, 2)  # __init__()자동으로 실행이 됨"
   ]
  },
  {
   "cell_type": "code",
   "execution_count": 38,
   "id": "6e88eadb",
   "metadata": {},
   "outputs": [
    {
     "name": "stdout",
     "output_type": "stream",
     "text": [
      "4\n",
      "2\n"
     ]
    }
   ],
   "source": [
    "print(b.first)\n",
    "print(b.second)"
   ]
  },
  {
   "cell_type": "code",
   "execution_count": 71,
   "id": "b4442453",
   "metadata": {},
   "outputs": [],
   "source": [
    "class FourCal2:\n",
    "    def __init__(self, first,second): # 생성자 : 멤버변수를 초기화\n",
    "        self.first = first\n",
    "        self.second = second\n",
    "    def mul(self):\n",
    "        result = self.first * self.second\n",
    "        return result\n",
    "    def div(self):\n",
    "        result = self.first / self.second\n",
    "        return result "
   ]
  },
  {
   "cell_type": "code",
   "execution_count": 83,
   "id": "830c69db",
   "metadata": {},
   "outputs": [],
   "source": [
    "class MoreFourCal(FourCal2):\n",
    "    def add(self):\n",
    "        result = self.first + self.second\n",
    "        return result\n",
    "    def sub(self):\n",
    "        result = self.first - self.second\n",
    "        return result\n",
    "    def div(self): ### 오버라이딩 : 재정의\n",
    "        if self.second == 0:\n",
    "            result = 0\n",
    "        else: \n",
    "            result = self.first / self.second\n",
    "        return result\n",
    "    "
   ]
  },
  {
   "cell_type": "code",
   "execution_count": 73,
   "id": "a470f7ed",
   "metadata": {},
   "outputs": [
    {
     "name": "stdout",
     "output_type": "stream",
     "text": [
      "6\n",
      "8\n"
     ]
    }
   ],
   "source": [
    "e = MoreFourCal(4, 2)\n",
    "print(e.add())\n",
    "print(e.mul())"
   ]
  },
  {
   "cell_type": "code",
   "execution_count": 84,
   "id": "0ffb3b0d",
   "metadata": {},
   "outputs": [],
   "source": [
    "eee = MoreFourCal(8 , 0)"
   ]
  },
  {
   "cell_type": "code",
   "execution_count": 85,
   "id": "c22b31e8",
   "metadata": {},
   "outputs": [
    {
     "name": "stdout",
     "output_type": "stream",
     "text": [
      "8\n",
      "8\n",
      "0\n",
      "0\n"
     ]
    }
   ],
   "source": [
    "print(eee.add())\n",
    "print(eee.sub())\n",
    "print(eee.mul())\n",
    "print(eee.div()) # 8 / 0 : 불능     0 /3 = 0 부정"
   ]
  },
  {
   "cell_type": "code",
   "execution_count": 1,
   "id": "bb1d99fe",
   "metadata": {},
   "outputs": [],
   "source": [
    "import mod1"
   ]
  },
  {
   "cell_type": "code",
   "execution_count": 3,
   "id": "820ad1db",
   "metadata": {
    "scrolled": true
   },
   "outputs": [],
   "source": [
    "aaa = mod1.FourCal12()"
   ]
  },
  {
   "cell_type": "code",
   "execution_count": 4,
   "id": "67f7d988",
   "metadata": {},
   "outputs": [
    {
     "name": "stdout",
     "output_type": "stream",
     "text": [
      "6\n"
     ]
    }
   ],
   "source": [
    "aaa.setdata(4, 2)\n",
    "print(aaa.add())"
   ]
  },
  {
   "cell_type": "code",
   "execution_count": 5,
   "id": "6578ad80",
   "metadata": {},
   "outputs": [
    {
     "name": "stdout",
     "output_type": "stream",
     "text": [
      "3.141592\n"
     ]
    }
   ],
   "source": [
    "print(mod1.PI)"
   ]
  },
  {
   "cell_type": "code",
   "execution_count": 9,
   "id": "c6ec6d6d",
   "metadata": {},
   "outputs": [
    {
     "name": "stdout",
     "output_type": "stream",
     "text": [
      "7\n"
     ]
    }
   ],
   "source": [
    "print(mod1.add12(2,5))"
   ]
  },
  {
   "cell_type": "code",
   "execution_count": 18,
   "id": "90406ba0",
   "metadata": {},
   "outputs": [],
   "source": [
    "from mod2 import *"
   ]
  },
  {
   "cell_type": "code",
   "execution_count": null,
   "id": "a549dd71",
   "metadata": {},
   "outputs": [],
   "source": []
  },
  {
   "cell_type": "code",
   "execution_count": 11,
   "id": "6cce304c",
   "metadata": {},
   "outputs": [],
   "source": [
    "dddd = FourCal34()"
   ]
  },
  {
   "cell_type": "code",
   "execution_count": 20,
   "id": "0354ce7e",
   "metadata": {},
   "outputs": [
    {
     "data": {
      "text/plain": [
       "7"
      ]
     },
     "execution_count": 20,
     "metadata": {},
     "output_type": "execute_result"
    }
   ],
   "source": [
    "dddd.setdata(3, 4)\n",
    "dddd.add()"
   ]
  },
  {
   "cell_type": "code",
   "execution_count": 19,
   "id": "eaab056d",
   "metadata": {},
   "outputs": [
    {
     "name": "stdout",
     "output_type": "stream",
     "text": [
      "3.14\n"
     ]
    }
   ],
   "source": [
    "print(PI)"
   ]
  },
  {
   "cell_type": "code",
   "execution_count": 16,
   "id": "23739d1e",
   "metadata": {},
   "outputs": [
    {
     "name": "stdout",
     "output_type": "stream",
     "text": [
      "1\n"
     ]
    }
   ],
   "source": [
    "# numpy (Numerical Python)\n",
    "# pandas \n",
    "# matplotlib (시각화)\n",
    "import numpy as np\n",
    "num = np.random.randint(10)\n",
    "print(num)"
   ]
  },
  {
   "cell_type": "code",
   "execution_count": 18,
   "id": "2aa34c3e",
   "metadata": {},
   "outputs": [
    {
     "name": "stdout",
     "output_type": "stream",
     "text": [
      "[8 2 7 2 4 3]\n",
      "[1, 2, 3, 4, 5, 6]\n"
     ]
    }
   ],
   "source": [
    "#### 숫자로 이루어져 있는 1차원 배열, 2차원 배열 , 다차원배열\n",
    "num = np.random.randint(10, size=6)\n",
    "print(num)\n",
    "l = [1,2,3,4,5,6]\n",
    "print(l)"
   ]
  },
  {
   "cell_type": "code",
   "execution_count": 19,
   "id": "02e70a1f",
   "metadata": {},
   "outputs": [
    {
     "name": "stdout",
     "output_type": "stream",
     "text": [
      "[[6 8 3 9]\n",
      " [7 4 6 9]\n",
      " [5 5 4 4]]\n"
     ]
    }
   ],
   "source": [
    "num2 = np.random.randint(10, size=(3, 4))\n",
    "print(num2)"
   ]
  },
  {
   "cell_type": "code",
   "execution_count": 25,
   "id": "844bf796",
   "metadata": {},
   "outputs": [
    {
     "name": "stdout",
     "output_type": "stream",
     "text": [
      "[8 2 7 2 4 3]\n",
      "[1, 2, 3, 4, 5, 6]\n",
      "4\n",
      "2\n",
      "6\n",
      "3\n",
      "5\n",
      "4\n"
     ]
    }
   ],
   "source": [
    "print(num) # 배열\n",
    "print(l)   # 리스트\n",
    "print(l[3])\n",
    "print(num[3])\n",
    "print(l[-1])\n",
    "print(num[-1])\n",
    "print(l[-2])\n",
    "print(num[-2])"
   ]
  },
  {
   "cell_type": "code",
   "execution_count": 36,
   "id": "dd3a5136",
   "metadata": {},
   "outputs": [
    {
     "name": "stdout",
     "output_type": "stream",
     "text": [
      "[[6 8 3 9]\n",
      " [7 4 6 9]\n",
      " [5 5 4 4]]\n",
      "[[6, 8, 3, 9], [7, 4, 6, 9], [5, 5, 4, 4]]\n",
      "6\n",
      "6\n",
      "6\n",
      "6\n",
      "6\n",
      "6\n"
     ]
    }
   ],
   "source": [
    "print(num2)\n",
    "l2 = [[6, 8, 3, 9],[7, 4, 6, 9], [5, 5, 4, 4]]\n",
    "##        0 , -3      1 , -2         2,-1\n",
    "##     0  1   2  3  0  1   2  3   0  1  2  3\n",
    "print(l2)\n",
    "print(l2[1][2])\n",
    "### print(l2[1 ,2])\n",
    "print(num2[1][2]) # 리스트 표현식\n",
    "print(num2[1, 2]) # 배열 표현식 \n",
    "print(l2[-2][2])\n",
    "print(num2[-2][2])\n",
    "print(num2[-2 , 2])"
   ]
  },
  {
   "cell_type": "code",
   "execution_count": 38,
   "id": "4620ea95",
   "metadata": {},
   "outputs": [
    {
     "name": "stdout",
     "output_type": "stream",
     "text": [
      "[1, 2, 3, 4, 5, 6]\n",
      "[8 2 7 2 4 3]\n",
      "[1, 2, 15, 4, 5, 6]\n",
      "[ 8  2 15  2  4  3]\n"
     ]
    }
   ],
   "source": [
    "print(l)\n",
    "print(num)\n",
    "l[2] = 15\n",
    "num[2] = 15\n",
    "print(l)\n",
    "print(num)"
   ]
  },
  {
   "cell_type": "code",
   "execution_count": 46,
   "id": "e0a68ed9",
   "metadata": {},
   "outputs": [
    {
     "name": "stdout",
     "output_type": "stream",
     "text": [
      "[1, 2, 15, 4, 5, 6]\n",
      "[ 8  2 15  2  4  3]\n",
      "[1, 2, 15, 4, 5]\n",
      "[ 8  2 15  2  4]\n",
      "[1, 15, 5]\n",
      "[ 8 15  4]\n",
      "[1, 2, 15, 4, 5]\n",
      "[ 8  2 15  2  4]\n",
      "[15, 4, 5, 6]\n",
      "[15  2  4  3]\n",
      "[6, 5, 4, 15, 2, 1]\n",
      "[ 3  4  2 15  2  8]\n",
      "[13  7 20  7  9  8]\n"
     ]
    }
   ],
   "source": [
    "print(l)\n",
    "print(num)\n",
    "print(l[0:5])\n",
    "print(num[0:5])\n",
    "print(l[0:5:2]) \n",
    "print(num[0:5:2])\n",
    "print(l[:5])\n",
    "print(num[:5])\n",
    "print(l[2:])\n",
    "print(num[2:])\n",
    "print(l[::-1])\n",
    "print(num[::-1])"
   ]
  },
  {
   "cell_type": "code",
   "execution_count": 48,
   "id": "617272d2",
   "metadata": {},
   "outputs": [
    {
     "name": "stdout",
     "output_type": "stream",
     "text": [
      "[1, 2, 15, 4, 5, 6]\n",
      "[ 8  2 15  2  4  3]\n",
      "[1, 2, 3.141592, 4, 5, 6]\n",
      "[8 2 3 2 4 3]\n"
     ]
    }
   ],
   "source": [
    "print(l)\n",
    "print(num)\n",
    "l[2] = 3.141592\n",
    "num[2] = 3.141592\n",
    "print(l)\n",
    "print(num)"
   ]
  },
  {
   "cell_type": "code",
   "execution_count": 67,
   "id": "3e0b4302",
   "metadata": {},
   "outputs": [
    {
     "name": "stdout",
     "output_type": "stream",
     "text": [
      "[[6, 8, 3, 9], [7, 4, 6, 9], [5, 5, 4, 4]]\n",
      "[[6 8 3 9]\n",
      " [7 4 6 9]\n",
      " [5 5 4 4]]\n",
      "[4, 6]\n",
      "[4 6]\n",
      "[[6, 8, 3, 9], [7, 4, 6, 9]]\n",
      "[[6, 8, 3, 9], [7, 4, 6, 9]]\n",
      "[[6 8 3 9]\n",
      " [7 4 6 9]]\n",
      "[[6 8 3 9]\n",
      " [7 4 6 9]]\n",
      "[[6 8]\n",
      " [7 4]]\n",
      "[[6 3]\n",
      " [7 6]\n",
      " [5 4]]\n",
      "[[6 8 3 9]\n",
      " [5 5 4 4]]\n",
      "[[6 3]\n",
      " [5 4]]\n"
     ]
    }
   ],
   "source": [
    "print(l2)\n",
    "print(num2)\n",
    "#[[6, 8, 3, 9], [7, 4, 6, 9], [5, 5, 4, 4]]\n",
    "#       0             1            2\n",
    "#  0  1   2  3    0  1  2  3   0  1  2  3\n",
    "\n",
    "# [[6 8 3 9]      0\n",
    "#  [7 4 6 9]      1\n",
    "#  [5 5 4 4]]     2\n",
    "#   0 1 2 3\n",
    "print(l2[1][1:3])\n",
    "print(num2[1][1:3])\n",
    "print(l2[0:2])\n",
    "print(l2[0:2][0:2])\n",
    "print(num2[0:2])\n",
    "print(num2[0:2][0:2])\n",
    "print(num2[0:2 , 0:2]) # 배열 표현식\n",
    "### 열을 한칸씩 건너 띄우기\n",
    "print(num2[: , ::2])\n",
    "### 행을 한칸씩 건너 띄우기\n",
    "print(num2[::2, :])\n",
    "### 행:열을 한칸씩 건너 띄우기\n",
    "print(num2[::2, ::2])"
   ]
  },
  {
   "cell_type": "code",
   "execution_count": 76,
   "id": "832dc38a",
   "metadata": {},
   "outputs": [
    {
     "name": "stdout",
     "output_type": "stream",
     "text": [
      "[[99  8  3  9]\n",
      " [ 7  4  6  9]\n",
      " [ 5  5  4  4]]\n",
      "[[ 5  5  4  4]\n",
      " [ 7  4  6  9]\n",
      " [99  8  3  9]]\n",
      "[[ 9  3  8 99]\n",
      " [ 9  6  4  7]\n",
      " [ 4  4  5  5]]\n",
      "[[ 4  4  5  5]\n",
      " [ 9  6  4  7]\n",
      " [ 9  3  8 99]]\n",
      "[99  8  3  9]\n",
      "[99  8  3  9]\n",
      "[99  7  5]\n",
      "[[99  8  3  9]\n",
      " [ 7  4  6  9]\n",
      " [ 5  5  4  4]]\n",
      "[[99  7  5]\n",
      " [ 8  4  5]\n",
      " [ 3  6  4]\n",
      " [ 9  9  4]]\n"
     ]
    }
   ],
   "source": [
    "print(num2)\n",
    "print(num2[::-1]) # 행을 뒤집어 출력\n",
    "print(num2[: , ::-1]) # 열을 뒤집어\n",
    "print(num2[::-1, ::-1]) # 행과열을 뒤집어 출력\n",
    "### 첫번째 행만 출력\n",
    "print(num2[0])\n",
    "print(num2[0 , :])\n",
    "### 첫번째 열만 출력\n",
    "print(num2[:, 0])\n",
    "\n",
    "### num2에서 1행 1열의 값을 99로 변경하시오.\n",
    "num2[0,0] = 99\n",
    "print(num2)\n",
    "print(np.transpose(num2))"
   ]
  },
  {
   "cell_type": "code",
   "execution_count": 83,
   "id": "5e4955c0",
   "metadata": {},
   "outputs": [
    {
     "name": "stdout",
     "output_type": "stream",
     "text": [
      "[[0 1 2]\n",
      " [3 4 5]\n",
      " [6 7 8]]\n",
      "[[ 0  1  2  3]\n",
      " [ 4  5  6  7]\n",
      " [ 8  9 10 11]]\n",
      "[[11 12 13]\n",
      " [14 15 16]\n",
      " [17 18 19]]\n",
      "[[1]\n",
      " [2]\n",
      " [3]]\n",
      "[1 2 3]\n"
     ]
    }
   ],
   "source": [
    "i = np.arange(9).reshape(3,3)# 0~8의 3행 3열\n",
    "print(i)\n",
    "#j = np.arange(9).reshape(3,4) # 수의 갯수와 배열의 크기가 일치하지 않으면 오류\n",
    "j = np.arange(12).reshape(3,4)\n",
    "print(j)\n",
    "i = np.arange(11,20).reshape(3,3)\n",
    "print(i)\n",
    "i = np.arange(1,4).reshape(3,1)\n",
    "print(i)\n",
    "i = np.arange(1,4).reshape(3)\n",
    "print(i)"
   ]
  },
  {
   "cell_type": "code",
   "execution_count": 92,
   "id": "2fd72bd1",
   "metadata": {},
   "outputs": [
    {
     "name": "stdout",
     "output_type": "stream",
     "text": [
      "[1 2 3]\n",
      "[[1 2 3]\n",
      " [4 5 6]\n",
      " [7 8 9]]\n",
      "[[[1 2 3]\n",
      "  [4 5 6]\n",
      "  [7 8 9]]\n",
      "\n",
      " [[1 2 3]\n",
      "  [4 5 6]\n",
      "  [7 8 9]]]\n",
      "1\n",
      "1\n"
     ]
    }
   ],
   "source": [
    "ii = np.array([1,2,3])\n",
    "print(ii)\n",
    "jj = np.array([[1,2,3],[4,5,6],[7,8,9]])\n",
    "print(jj)\n",
    "kk = np.array([[[1,2,3],[4,5,6],[7,8,9]],[[1,2,3],[4,5,6],[7,8,9]]])\n",
    "print(kk)\n",
    "print(kk[0,0,0])\n",
    "mm = np.array([\n",
    "    [[[1,2,3],[4,5,6],[7,8,9]],[[1,2,3],[4,5,6],[7,8,9]]],\n",
    "    [[[1,2,3],[4,5,6],[7,8,9]],[[1,2,3],[4,5,6],[7,8,9]]]\n",
    "])\n",
    "print(mm[0,0,0,0])"
   ]
  },
  {
   "cell_type": "code",
   "execution_count": 96,
   "id": "9b285b10",
   "metadata": {},
   "outputs": [
    {
     "name": "stdout",
     "output_type": "stream",
     "text": [
      "[1 2 3]\n",
      "[3 2 1]\n",
      "[1 2 3 3 2 1]\n",
      "[ 1  2  3  3  2  1 99 99 99]\n"
     ]
    }
   ],
   "source": [
    "x = np.array([1, 2, 3])\n",
    "y = np.array([3, 2, 1])\n",
    "print(x)\n",
    "print(y)\n",
    "z = np.concatenate([x,y])\n",
    "print(z)\n",
    "v = [99,99,99]\n",
    "z  = np.concatenate([x,y,v])\n",
    "print(z)"
   ]
  },
  {
   "cell_type": "code",
   "execution_count": 101,
   "id": "0710ce26",
   "metadata": {},
   "outputs": [
    {
     "name": "stdout",
     "output_type": "stream",
     "text": [
      "[[ 1  2  3]\n",
      " [ 4  5  6]\n",
      " [ 7  8  9]\n",
      " [10 11 12]]\n",
      "[[ 1  2  3  7  8  9]\n",
      " [ 4  5  6 10 11 12]]\n",
      "[[ 1  2  3]\n",
      " [ 4  5  6]\n",
      " [ 7  8  9]\n",
      " [10 11 12]]\n"
     ]
    }
   ],
   "source": [
    "x1 = np.array([[1, 2, 3],[4,5,6]])\n",
    "y1 = np.array([[7, 8, 9],[10,11,12]])\n",
    "z1 = np.concatenate([x1,y1])\n",
    "print(z1) \n",
    "z1 = np.concatenate([x1,y1],axis=1) # y 축기준 : 열에 붙음\n",
    "print(z1)\n",
    "z1 = np.concatenate([x1,y1],axis=0) # x 축기준 : 행으로 붙음\n",
    "print(z1)\n",
    "# z1 = np.concatenate([x1,y1],axis=2) # z축기준 :3차원인 경우"
   ]
  },
  {
   "cell_type": "code",
   "execution_count": 106,
   "id": "eb6b6014",
   "metadata": {},
   "outputs": [
    {
     "name": "stdout",
     "output_type": "stream",
     "text": [
      "[[1 2 3]\n",
      " [9 8 7]\n",
      " [6 5 4]]\n",
      "[[9 8 7]\n",
      " [6 5 4]\n",
      " [1 2 3]]\n",
      "[[1 9 8 7]\n",
      " [2 6 5 4]]\n",
      "[[9 8 7 1]\n",
      " [6 5 4 2]]\n"
     ]
    }
   ],
   "source": [
    "x2 = np.array([1, 2, 3])\n",
    "grid = np.array([[9, 8, 7],\n",
    "        [6, 5, 4]])\n",
    "# z = np.concatenate([x2 ,grid]) #차원이 다른 경우에는 사용하지 못함\n",
    "z = np.vstack([x2 ,grid]) # x축기준으로 합침 : 열의 크기가가 다르면 안됨\n",
    "print(z)\n",
    "z = np.vstack([grid, x2])\n",
    "print(z)\n",
    "y2 = np.array([[1],[2]])\n",
    "z = np.hstack([y2 ,grid]) # x축기준으로 합침 : 행의크기가 다르면 안됨\n",
    "print(z)\n",
    "z = np.hstack([grid, y2]) # x축기준으로 합침 : 행의크기가 다르면 안됨\n",
    "print(z)\n"
   ]
  },
  {
   "cell_type": "code",
   "execution_count": 117,
   "id": "c15924cd",
   "metadata": {},
   "outputs": [
    {
     "name": "stdout",
     "output_type": "stream",
     "text": [
      "[0 1 2 3]\n",
      "[5 6 7 8]\n",
      "[-5 -4 -3 -2]\n",
      "[ 0  5 10 15]\n",
      "[5 6 7 8]\n",
      "[-5 -4 -3 -2]\n",
      "[ 0  5 10 15]\n",
      "[0 0 0 0]\n",
      "[0 0 0 0]\n",
      "[  0   1  32 243]\n"
     ]
    },
    {
     "ename": "TypeError",
     "evalue": "can only concatenate list (not \"int\") to list",
     "output_type": "error",
     "traceback": [
      "\u001b[1;31m---------------------------------------------------------------------------\u001b[0m",
      "\u001b[1;31mTypeError\u001b[0m                                 Traceback (most recent call last)",
      "\u001b[1;32m<ipython-input-117-0fb9cdade47b>\u001b[0m in \u001b[0;36m<module>\u001b[1;34m\u001b[0m\n\u001b[0;32m     23\u001b[0m \u001b[1;33m\u001b[0m\u001b[0m\n\u001b[0;32m     24\u001b[0m \u001b[0ml\u001b[0m \u001b[1;33m=\u001b[0m \u001b[1;33m[\u001b[0m\u001b[1;36m1\u001b[0m\u001b[1;33m,\u001b[0m\u001b[1;36m2\u001b[0m\u001b[1;33m,\u001b[0m\u001b[1;36m3\u001b[0m\u001b[1;33m]\u001b[0m\u001b[1;33m\u001b[0m\u001b[1;33m\u001b[0m\u001b[0m\n\u001b[1;32m---> 25\u001b[1;33m \u001b[0mprint\u001b[0m\u001b[1;33m(\u001b[0m \u001b[0ml\u001b[0m \u001b[1;33m+\u001b[0m \u001b[1;36m5\u001b[0m\u001b[1;33m)\u001b[0m\u001b[1;33m\u001b[0m\u001b[1;33m\u001b[0m\u001b[0m\n\u001b[0m",
      "\u001b[1;31mTypeError\u001b[0m: can only concatenate list (not \"int\") to list"
     ]
    }
   ],
   "source": [
    "# 유니버설 함수(UFuncs)\n",
    "x = np.arange(4)\n",
    "print(x)\n",
    "y = np.add(x, 5)\n",
    "print(y)\n",
    "y = np.subtract(x, 5)\n",
    "print(y)\n",
    "y = np.multiply(x, 5)\n",
    "print(y)\n",
    "\n",
    "y = x + 5\n",
    "print(y)\n",
    "y = x - 5\n",
    "print(y)\n",
    "y = x * 5\n",
    "print(y)\n",
    "y = np.floor_divide(x, 5)\n",
    "print(y)\n",
    "y = x // 5\n",
    "print(y)\n",
    "y = x ** 5\n",
    "print(y)\n",
    "\n",
    "'''\n",
    "l = [1,2,3]\n",
    "print( l + 5)\n",
    "'''"
   ]
  },
  {
   "cell_type": "code",
   "execution_count": 116,
   "id": "ade5191e",
   "metadata": {},
   "outputs": [
    {
     "name": "stdout",
     "output_type": "stream",
     "text": [
      "[5 6 7]\n",
      "[5 6 7]\n"
     ]
    }
   ],
   "source": [
    "a = np.array([0, 1, 2])\n",
    "b = np.array([5, 5, 5])\n",
    "c = a + b\n",
    "print(c)\n",
    "d = a + 5\n",
    "print(d)"
   ]
  },
  {
   "cell_type": "code",
   "execution_count": 119,
   "id": "7015d8a0",
   "metadata": {},
   "outputs": [
    {
     "name": "stdout",
     "output_type": "stream",
     "text": [
      "[0 1 2]\n",
      "[[0]\n",
      " [1]\n",
      " [2]]\n",
      "[[0 1 2]\n",
      " [1 2 3]\n",
      " [2 3 4]]\n"
     ]
    }
   ],
   "source": [
    "a = np.arange(3) # y축기준 [0, 1, 2] \n",
    "b = np.arange(3)[:,np.newaxis] # x축 [0]\n",
    "                               #     [1]\n",
    "                               #     [2]\n",
    "print(a)\n",
    "print(b)\n",
    "c = a + b \n",
    "print(c)"
   ]
  },
  {
   "cell_type": "code",
   "execution_count": 123,
   "id": "a939140a",
   "metadata": {},
   "outputs": [
    {
     "name": "stdout",
     "output_type": "stream",
     "text": [
      "[[1. 1. 1.]\n",
      " [1. 1. 1.]\n",
      " [1. 1. 1.]]\n",
      "[0 1 2]\n",
      "[[1. 2. 3.]\n",
      " [1. 2. 3.]\n",
      " [1. 2. 3.]]\n"
     ]
    }
   ],
   "source": [
    "M = np.ones((3,3))\n",
    "print(M)\n",
    "print(a)\n",
    "c = M + a\n",
    "print(c)"
   ]
  },
  {
   "cell_type": "code",
   "execution_count": 3,
   "id": "480c6e50",
   "metadata": {},
   "outputs": [
    {
     "data": {
      "text/plain": [
       "Text(35.75, 0.5, 'day')"
      ]
     },
     "execution_count": 3,
     "metadata": {},
     "output_type": "execute_result"
    }
   ],
   "source": [
    "import numpy as np\n",
    "import pandas as pd\n",
    "rainfall = pd.read_csv('https://raw.githubusercontent.com/SoongMoo/soldesk202108/main/%EC%B0%B8%EA%B3%A0%EC%9E%90%EB%A3%8C/NumPy/data/Seattle2014.csv')\n",
    "#print(rainfall)\n",
    "nprain = rainfall['PRCP']\n",
    "#print(nprain)\n",
    "nprain = np.array(nprain) # series를  np배열 변환\n",
    "#print(nprain)\n",
    "inches = nprain / 254\n",
    "#print(inches)\n",
    "\n",
    "import matplotlib.pyplot as plt\n",
    "import seaborn; \n",
    "seaborn.set()\n",
    "plt.hist(inches, 40)\n",
    "plt.title(\"Seattle2014\")\n",
    "plt.xlabel(\"PRCP\")\n",
    "plt.ylabel(\"day\")"
   ]
  },
  {
   "cell_type": "code",
   "execution_count": 4,
   "id": "c45c0366",
   "metadata": {},
   "outputs": [
    {
     "name": "stdout",
     "output_type": "stream",
     "text": [
      "[1, 2, 3, 4]\n",
      "[6, 7, 8, 9]\n"
     ]
    }
   ],
   "source": [
    "l = [1,2,3,4] # l + 5\n",
    "print(l)\n",
    "idx = 0\n",
    "while True:\n",
    "    l[idx] = l[idx] + 5\n",
    "    if idx == len(l) - 1:\n",
    "        break\n",
    "    idx += 1\n",
    "print(l)"
   ]
  },
  {
   "cell_type": "code",
   "execution_count": 11,
   "id": "a11a71db",
   "metadata": {},
   "outputs": [
    {
     "name": "stdout",
     "output_type": "stream",
     "text": [
      "[1 2 3]\n",
      "[99 99  3]\n",
      "[2 1 3]\n",
      "[1 2 3]\n",
      "[99 99]\n",
      "[3 2]\n",
      "[1 3]\n"
     ]
    }
   ],
   "source": [
    "# 배열 분할하기\n",
    "x = np.array([1, 2, 3, 99, 99, 3, 2, 1,3])\n",
    "x1 , x2 , x3 = np.split(x, 3)\n",
    "print(x1)\n",
    "print(x2)\n",
    "print(x3)\n",
    "\n",
    "x = np.array([1, 2, 3, 99, 99, 3, 2, 1,3])\n",
    "x1 , x2 , x3, x4 = np.split(x, [3,5,7])\n",
    "print(x1)\n",
    "print(x2)\n",
    "print(x3)\n",
    "print(x4)"
   ]
  },
  {
   "cell_type": "code",
   "execution_count": 14,
   "id": "41ff9351",
   "metadata": {},
   "outputs": [
    {
     "name": "stdout",
     "output_type": "stream",
     "text": [
      "[[ 0  1  2  3]\n",
      " [ 4  5  6  7]\n",
      " [ 8  9 10 11]\n",
      " [12 13 14 15]]\n",
      "[[0 1 2 3]\n",
      " [4 5 6 7]]\n",
      "[[ 8  9 10 11]\n",
      " [12 13 14 15]]\n",
      "[[ 0  1]\n",
      " [ 4  5]\n",
      " [ 8  9]\n",
      " [12 13]]\n",
      "[[ 2  3]\n",
      " [ 6  7]\n",
      " [10 11]\n",
      " [14 15]]\n"
     ]
    }
   ],
   "source": [
    "grid = np.arange(16).reshape((4, 4))\n",
    "print(grid)\n",
    "y1 , y2 = np.vsplit(grid,[2])\n",
    "print(y1)\n",
    "print(y2)\n",
    "y1 , y2 = np.hsplit(grid,[2])\n",
    "print(y1)\n",
    "print(y2)"
   ]
  },
  {
   "cell_type": "code",
   "execution_count": 22,
   "id": "725fd5fc",
   "metadata": {},
   "outputs": [
    {
     "name": "stdout",
     "output_type": "stream",
     "text": [
      "[0.29276169 0.51947305 0.59120468 ... 0.07319718 0.99949219 0.22425308]\n",
      "499917.4134744699\n",
      "499917.413474474\n",
      "94.1 ms ± 4.5 ms per loop (mean ± std. dev. of 7 runs, 10 loops each)\n",
      "1.63 ms ± 448 µs per loop (mean ± std. dev. of 7 runs, 1000 loops each)\n"
     ]
    }
   ],
   "source": [
    "x = np.random.rand(1000000)\n",
    "print(x)\n",
    "y = sum(x)\n",
    "print(y)\n",
    "z = np.sum(x)\n",
    "print(z)\n",
    "%timeit sum(x)\n",
    "%timeit np.sum(x)"
   ]
  },
  {
   "cell_type": "code",
   "execution_count": 27,
   "id": "8996a1c1",
   "metadata": {},
   "outputs": [
    {
     "name": "stdout",
     "output_type": "stream",
     "text": [
      "[[0.75847934 0.04690553 0.4430911  0.03760998]\n",
      " [0.31571602 0.61684881 0.44197317 0.39589787]\n",
      " [0.27172359 0.84596332 0.45340615 0.28564247]]\n",
      "4.913257349123676\n",
      "0.037609975454884315\n",
      "[0.27172359 0.04690553 0.44197317 0.03760998]\n",
      "[0.03760998 0.31571602 0.27172359]\n"
     ]
    }
   ],
   "source": [
    "M = np.random.random((3, 4))\n",
    "print(M)\n",
    "print(M.sum())\n",
    "print(M.min())\n",
    "### 열에서 최소값\n",
    "print(M.min(axis=0))\n",
    "### 행에 대한 최소값\n",
    "print(M.min(axis=1))"
   ]
  },
  {
   "cell_type": "code",
   "execution_count": 38,
   "id": "28e8863e",
   "metadata": {
    "scrolled": true
   },
   "outputs": [
    {
     "name": "stdout",
     "output_type": "stream",
     "text": [
      "[189 170 189 163 183 171 185 168 173 183 173 173 175 178 183 193 178 173\n",
      " 174 183 183 168 170 178 182 180 183 178 182 188 175 179 183 193 182 183\n",
      " 177 185 188 188 182 185]\n",
      "179.73809523809524\n",
      "163\n",
      "193\n",
      "6.931843442745892\n",
      "182.0\n",
      "174.25\n",
      "183.0\n"
     ]
    },
    {
     "data": {
      "text/plain": [
       "Text(35.75, 0.5, 'number')"
      ]
     },
     "execution_count": 38,
     "metadata": {},
     "output_type": "execute_result"
    },
    {
     "name": "stderr",
     "output_type": "stream",
     "text": [
      "C:\\Users\\soldesk\\.conda\\envs\\python503\\lib\\site-packages\\matplotlib\\backends\\backend_agg.py:240: RuntimeWarning: Glyph 48120 missing from current font.\n",
      "  font.set_text(s, 0.0, flags=flags)\n",
      "C:\\Users\\soldesk\\.conda\\envs\\python503\\lib\\site-packages\\matplotlib\\backends\\backend_agg.py:240: RuntimeWarning: Glyph 44397 missing from current font.\n",
      "  font.set_text(s, 0.0, flags=flags)\n",
      "C:\\Users\\soldesk\\.conda\\envs\\python503\\lib\\site-packages\\matplotlib\\backends\\backend_agg.py:240: RuntimeWarning: Glyph 45824 missing from current font.\n",
      "  font.set_text(s, 0.0, flags=flags)\n",
      "C:\\Users\\soldesk\\.conda\\envs\\python503\\lib\\site-packages\\matplotlib\\backends\\backend_agg.py:240: RuntimeWarning: Glyph 53685 missing from current font.\n",
      "  font.set_text(s, 0.0, flags=flags)\n",
      "C:\\Users\\soldesk\\.conda\\envs\\python503\\lib\\site-packages\\matplotlib\\backends\\backend_agg.py:240: RuntimeWarning: Glyph 47161 missing from current font.\n",
      "  font.set_text(s, 0.0, flags=flags)\n",
      "C:\\Users\\soldesk\\.conda\\envs\\python503\\lib\\site-packages\\matplotlib\\backends\\backend_agg.py:240: RuntimeWarning: Glyph 51032 missing from current font.\n",
      "  font.set_text(s, 0.0, flags=flags)\n",
      "C:\\Users\\soldesk\\.conda\\envs\\python503\\lib\\site-packages\\matplotlib\\backends\\backend_agg.py:240: RuntimeWarning: Glyph 53412 missing from current font.\n",
      "  font.set_text(s, 0.0, flags=flags)\n",
      "C:\\Users\\soldesk\\.conda\\envs\\python503\\lib\\site-packages\\matplotlib\\backends\\backend_agg.py:240: RuntimeWarning: Glyph 48516 missing from current font.\n",
      "  font.set_text(s, 0.0, flags=flags)\n",
      "C:\\Users\\soldesk\\.conda\\envs\\python503\\lib\\site-packages\\matplotlib\\backends\\backend_agg.py:240: RuntimeWarning: Glyph 54252 missing from current font.\n",
      "  font.set_text(s, 0.0, flags=flags)\n",
      "C:\\Users\\soldesk\\.conda\\envs\\python503\\lib\\site-packages\\matplotlib\\backends\\backend_agg.py:203: RuntimeWarning: Glyph 48120 missing from current font.\n",
      "  font.set_text(s, 0, flags=flags)\n",
      "C:\\Users\\soldesk\\.conda\\envs\\python503\\lib\\site-packages\\matplotlib\\backends\\backend_agg.py:203: RuntimeWarning: Glyph 44397 missing from current font.\n",
      "  font.set_text(s, 0, flags=flags)\n",
      "C:\\Users\\soldesk\\.conda\\envs\\python503\\lib\\site-packages\\matplotlib\\backends\\backend_agg.py:203: RuntimeWarning: Glyph 45824 missing from current font.\n",
      "  font.set_text(s, 0, flags=flags)\n",
      "C:\\Users\\soldesk\\.conda\\envs\\python503\\lib\\site-packages\\matplotlib\\backends\\backend_agg.py:203: RuntimeWarning: Glyph 53685 missing from current font.\n",
      "  font.set_text(s, 0, flags=flags)\n",
      "C:\\Users\\soldesk\\.conda\\envs\\python503\\lib\\site-packages\\matplotlib\\backends\\backend_agg.py:203: RuntimeWarning: Glyph 47161 missing from current font.\n",
      "  font.set_text(s, 0, flags=flags)\n",
      "C:\\Users\\soldesk\\.conda\\envs\\python503\\lib\\site-packages\\matplotlib\\backends\\backend_agg.py:203: RuntimeWarning: Glyph 51032 missing from current font.\n",
      "  font.set_text(s, 0, flags=flags)\n",
      "C:\\Users\\soldesk\\.conda\\envs\\python503\\lib\\site-packages\\matplotlib\\backends\\backend_agg.py:203: RuntimeWarning: Glyph 53412 missing from current font.\n",
      "  font.set_text(s, 0, flags=flags)\n",
      "C:\\Users\\soldesk\\.conda\\envs\\python503\\lib\\site-packages\\matplotlib\\backends\\backend_agg.py:203: RuntimeWarning: Glyph 48516 missing from current font.\n",
      "  font.set_text(s, 0, flags=flags)\n",
      "C:\\Users\\soldesk\\.conda\\envs\\python503\\lib\\site-packages\\matplotlib\\backends\\backend_agg.py:203: RuntimeWarning: Glyph 54252 missing from current font.\n",
      "  font.set_text(s, 0, flags=flags)\n"
     ]
    }
   ],
   "source": [
    "data = pd.read_csv('https://raw.githubusercontent.com/SoongMoo/soldesk202108/main/%EC%B0%B8%EA%B3%A0%EC%9E%90%EB%A3%8C/NumPy/data/president_heights.csv')\n",
    "heights = np.array(data['height(cm)'])\n",
    "print(heights)\n",
    "print(heights.mean()) # 평균값\n",
    "print(heights.min()) # 최소값    0 사분위\n",
    "print(heights.max()) # 최대값    4  사분위\n",
    "print(heights.std()) # 표준편차\n",
    "# print(heights.median())\n",
    "print(np.median(heights)) # 중앙값  2사분위\n",
    "print(np.percentile(heights, 25)) # 1 사분위 25%\n",
    "print(np.percentile(heights, 75)) # 3 사분위 75%\n",
    "\n",
    "plt.hist(heights)\n",
    "plt.title(\"미국 대통령의 키 분포\")\n",
    "plt.xlabel(\"height(cm)\")\n",
    "plt.ylabel(\"number\")"
   ]
  },
  {
   "cell_type": "code",
   "execution_count": 40,
   "id": "2fea717b",
   "metadata": {},
   "outputs": [
    {
     "name": "stdout",
     "output_type": "stream",
     "text": [
      "[ True  True False False False]\n",
      "[ True  True False False False]\n",
      "[False False False  True  True]\n",
      "[False False False  True  True]\n",
      "[ True  True  True False False]\n",
      "[ True  True  True False False]\n",
      "[False False  True False False]\n",
      "[False False  True False False]\n",
      "[ True  True False  True  True]\n",
      "[ True  True False  True  True]\n"
     ]
    }
   ],
   "source": [
    "#바교 연산자\n",
    "x = np.array([1, 2, 3, 4, 5])\n",
    "print( x < 3 )\n",
    "print(np.less(x, 3))\n",
    "print(x > 3)\n",
    "print(np.greater(x, 3))\n",
    "print(x <= 3)\n",
    "print(np.less_equal(x, 3))\n",
    "print(x == 3)\n",
    "print(np.equal(x, 3))\n",
    "print(x != 3)\n",
    "print(np.not_equal(x, 3))"
   ]
  },
  {
   "cell_type": "code",
   "execution_count": 49,
   "id": "5caabd56",
   "metadata": {},
   "outputs": [
    {
     "name": "stdout",
     "output_type": "stream",
     "text": [
      "[0.         0.16141732 0.05905512 0.         0.         0.01181102\n",
      " 0.48031496 0.38188976 0.22834646 0.16929134 0.83858268 0.05905512\n",
      " 0.         0.         0.         0.         0.         0.\n",
      " 0.         0.         0.         0.01968504 0.         0.\n",
      " 0.         0.         0.         0.3503937  0.8503937  0.\n",
      " 0.09055118 0.07874016 0.         0.         0.         0.\n",
      " 0.         0.         0.2007874  0.01968504 0.72047244 0.66929134\n",
      " 0.18110236 0.07086614 0.37007874 0.46062992 1.03937008 0.57086614\n",
      " 0.5984252  0.03937008 0.11811024 0.11023622 0.0984252  0.24015748\n",
      " 0.51181102 0.01181102 0.         0.         0.         0.01968504\n",
      " 0.7519685  0.42125984 0.6496063  1.83858268 0.11811024 0.\n",
      " 1.27165354 0.16929134 0.74015748 0.         0.         0.01968504\n",
      " 0.27165354 0.31889764 1.09055118 0.01181102 0.         0.01968504\n",
      " 0.         0.         0.         0.         0.         0.16141732\n",
      " 0.14173228 0.01181102 0.87007874 0.5511811  0.         0.\n",
      " 0.         0.         0.0984252  0.         0.18110236 0.\n",
      " 0.         0.18110236 0.         0.         0.         0.\n",
      " 0.         0.         0.01968504 0.42913386 0.72834646 0.\n",
      " 0.53937008 0.         0.2007874  0.55905512 0.3503937  0.48818898\n",
      " 0.         0.12992126 0.27165354 0.         0.         0.\n",
      " 0.         0.         1.31102362 0.62992126 0.2007874  0.\n",
      " 0.         0.53937008 0.07874016 0.01968504 0.         0.\n",
      " 0.         0.         0.         0.         0.         0.\n",
      " 0.         0.         0.         0.         0.1496063  0.\n",
      " 0.22047244 0.         0.         0.         0.         0.\n",
      " 0.         0.         0.         0.         0.         0.\n",
      " 0.         0.         0.         0.         0.         0.\n",
      " 0.07086614 0.2519685  0.         0.01968504 0.14173228 0.0511811\n",
      " 0.         0.03149606 0.01181102 0.         0.         0.\n",
      " 0.         0.         0.         0.07086614 0.09055118 0.\n",
      " 0.         0.         0.         0.         0.         0.\n",
      " 0.         0.         0.         0.         0.         0.\n",
      " 0.         0.         0.         0.         0.         0.\n",
      " 0.         0.         0.         0.         0.01181102 0.75984252\n",
      " 0.         0.         0.         0.         0.         0.\n",
      " 0.         0.         0.         0.01968504 0.         0.\n",
      " 0.         0.         0.         0.         0.         0.\n",
      " 0.01968504 0.5        0.8503937  0.         0.03937008 0.\n",
      " 0.         0.         0.         0.         0.         0.\n",
      " 0.         0.         0.         0.         0.         0.\n",
      " 0.         0.33070866 0.0511811  0.         0.11811024 0.\n",
      " 0.         0.         0.         0.         0.         0.\n",
      " 0.         0.         0.         0.         0.         0.\n",
      " 0.         0.01968504 0.01181102 0.         0.         0.\n",
      " 0.01181102 0.72047244 0.7992126  0.16929134 0.3503937  0.\n",
      " 0.         0.03149606 0.         0.         0.         0.\n",
      " 0.         0.         0.         0.         0.         0.\n",
      " 0.01181102 0.29133858 0.         0.2992126  0.27952756 0.33858268\n",
      " 0.         0.12992126 0.59055118 0.         0.46062992 0.03937008\n",
      " 1.25984252 0.37007874 0.16141732 0.24015748 0.05905512 0.03149606\n",
      " 0.5        0.01968504 1.         0.66929134 0.         0.07086614\n",
      " 0.42913386 0.16141732 0.18897638 0.16141732 0.         0.\n",
      " 0.2007874  0.         0.         0.         0.         0.\n",
      " 0.         0.         0.         0.         0.         0.14173228\n",
      " 0.5984252  0.01968504 0.46850394 0.0511811  0.72047244 0.01181102\n",
      " 0.12992126 1.3503937  0.14173228 0.         0.         0.\n",
      " 0.         0.03149606 0.11811024 0.29133858 0.         0.35826772\n",
      " 0.38976378 0.51181102 0.27165354 0.         0.         0.\n",
      " 0.         0.         0.11023622 0.51181102 0.11811024 0.77165354\n",
      " 0.         0.         0.81102362 0.20866142 0.         0.\n",
      " 0.12992126 0.16141732 0.         0.         0.        ]\n",
      "37\n",
      "26\n",
      "339\n",
      "339\n",
      "215\n",
      "150\n"
     ]
    }
   ],
   "source": [
    "rainfall = pd.read_csv('https://raw.githubusercontent.com/SoongMoo/soldesk202108/main/%EC%B0%B8%EA%B3%A0%EC%9E%90%EB%A3%8C/NumPy/data/Seattle2014.csv')\n",
    "nprain = rainfall['PRCP']\n",
    "inches = np.array(nprain) / 254 # series를  np배열 변환\n",
    "print(inches)\n",
    "# 강수량이 0.5이상인 날은 몇일이나 되나요?\n",
    "print(np.sum(inches > 0.5))\n",
    "# 강수량이 0.5에서 0.8 사이인 날은 몇일이나 되나요?\n",
    "print(np.sum((inches >= 0.5) & (inches <= 0.8)))\n",
    "# 강수량이 0.5보다 적게 오고 0.8보다 많이 온날은?\n",
    "print(np.sum(~((inches >= 0.5) & (inches <= 0.8))))\n",
    "print(np.sum((inches < 0.5) | (inches > 0.8)))\n",
    "\n",
    "# 비가 안온 날은 몇일 일까요?\n",
    "print(np.sum(inches == 0))\n",
    "# 비가 온날은 몇일 입니까?\n",
    "print(np.sum(inches != 0))"
   ]
  },
  {
   "cell_type": "code",
   "execution_count": 52,
   "id": "0293076b",
   "metadata": {},
   "outputs": [
    {
     "name": "stdout",
     "output_type": "stream",
     "text": [
      "[1 2 3 4 5]\n",
      "[2 1 4 3 5]\n",
      "[1 2 3 4 5]\n"
     ]
    }
   ],
   "source": [
    "x = np.array([2, 1, 4, 3, 5])\n",
    "print(np.sort(x))\n",
    "print(x)\n",
    "x.sort()\n",
    "print(x)"
   ]
  },
  {
   "cell_type": "code",
   "execution_count": 58,
   "id": "9495bd8f",
   "metadata": {},
   "outputs": [
    {
     "name": "stdout",
     "output_type": "stream",
     "text": [
      "[1 0 3 2 4]\n",
      "[1 2 3 4 5]\n",
      "[1 2 3 4 5]\n",
      "[2 1 4 3 5]\n",
      "[1 2 3 4 5]\n"
     ]
    }
   ],
   "source": [
    "x = np.array([2, 1, 4, 3, 5]) \n",
    "idx = np.argsort(x)\n",
    "print(idx)\n",
    "print(x[idx])\n",
    "print(x[[1 ,0 ,3 ,2 ,4]])\n",
    "print(x) # 팬시 인덱싱\n",
    "print(np.sort(x))"
   ]
  },
  {
   "cell_type": "code",
   "execution_count": 63,
   "id": "ba6c97d9",
   "metadata": {},
   "outputs": [
    {
     "name": "stdout",
     "output_type": "stream",
     "text": [
      "[[4 8 1 8 1 5]\n",
      " [8 2 7 2 0 2]\n",
      " [8 7 7 9 6 1]\n",
      " [8 0 5 2 3 8]]\n",
      "[[1 1 4 5 8 8]\n",
      " [0 2 2 2 7 8]\n",
      " [1 6 7 7 8 9]\n",
      " [0 2 3 5 8 8]]\n",
      "[[4 0 1 2 0 1]\n",
      " [8 2 5 2 1 2]\n",
      " [8 7 7 8 3 5]\n",
      " [8 8 7 9 6 8]]\n"
     ]
    }
   ],
   "source": [
    "x = np.random.randint(0,10,(4,6))\n",
    "print(x)\n",
    "#행단위 정렬 :y축기준\n",
    "print(np.sort(x))\n",
    "print(np.sort(x, axis=1))\n",
    "# 열 단위로 정렬\n",
    "print(np.sort(x, axis=0)) # x축기준 : 열"
   ]
  },
  {
   "cell_type": "code",
   "execution_count": 68,
   "id": "c97a76f6",
   "metadata": {},
   "outputs": [
    {
     "name": "stdout",
     "output_type": "stream",
     "text": [
      "[2 1 3 4 6 5 7]\n",
      "[2 1 3 4 5 6 7]\n"
     ]
    }
   ],
   "source": [
    "# 파티션 나누기\n",
    "x = np.array([7, 2, 3, 1, 6, 5, 4])\n",
    "# 순서 상관없이 작은 숫자 3개 뽑아 왼쪽에 정렬\n",
    "print(np.partition(x,3))\n",
    "# 순서 상관없이 큰 숫자 3개 뽑아 오른쪽에 정렬\n",
    "print(np.partition(x,-3))    "
   ]
  },
  {
   "cell_type": "code",
   "execution_count": 73,
   "id": "b88e5dda",
   "metadata": {},
   "outputs": [
    {
     "name": "stdout",
     "output_type": "stream",
     "text": [
      "[[6 3 3 9 4 8]\n",
      " [9 0 8 8 5 6]\n",
      " [4 0 7 0 4 4]\n",
      " [8 5 4 3 0 0]]\n",
      "[[4 0 3 0 0 0]\n",
      " [6 0 4 3 4 4]\n",
      " [8 3 7 8 4 6]\n",
      " [9 5 8 9 5 8]]\n",
      "[[3 3 4 9 6 8]\n",
      " [0 5 6 8 9 8]\n",
      " [0 0 4 7 4 4]\n",
      " [0 0 3 4 8 5]]\n"
     ]
    }
   ],
   "source": [
    "y = np.random.randint(0,10,(4,6))\n",
    "print(y)\n",
    "print(np.partition(y,2, axis=0 ))\n",
    "print(np.partition(y,2, axis=1 ))"
   ]
  },
  {
   "cell_type": "code",
   "execution_count": 79,
   "id": "4398f40b",
   "metadata": {},
   "outputs": [
    {
     "name": "stdout",
     "output_type": "stream",
     "text": [
      "[1 2 3 4 5]\n",
      "[[1 2 3 4 5]\n",
      " [1 2 3 4 5]]\n",
      "0    1\n",
      "1    2\n",
      "2    3\n",
      "3    4\n",
      "4    5\n",
      "dtype: int64\n",
      "1\n",
      "a    1\n",
      "b    2\n",
      "c    3\n",
      "d    4\n",
      "e    5\n",
      "dtype: int64\n",
      "1\n",
      "a    0.25\n",
      "b    0.50\n",
      "c    0.75\n",
      "d    1.00\n",
      "dtype: float64\n"
     ]
    }
   ],
   "source": [
    "arr = np.array([1,2,3,4,5])\n",
    "print(arr) # \n",
    "# [1 2 3 4 5] : 행\n",
    "#  0 1 2 3 4\n",
    "arr1  = np.array([[1,2,3,4,5],[1,2,3,4,5]])\n",
    "print(arr1)\n",
    "import pandas as pd\n",
    "ser = pd.Series([1,2,3,4,5])\n",
    "print(ser) # 열\n",
    "print(ser[0])\n",
    "ser = pd.Series([1,2,3,4,5], index=['a','b','c','d','e'])\n",
    "print(ser)\n",
    "print(ser['a'])\n",
    "data = pd.Series([0.25, 0.5, 0.75, 1.0], index=['a','b','c','d'])\n",
    "print(data)"
   ]
  },
  {
   "cell_type": "code",
   "execution_count": 85,
   "id": "98a0465e",
   "metadata": {},
   "outputs": [
    {
     "name": "stdout",
     "output_type": "stream",
     "text": [
      "a    1\n",
      "b    2\n",
      "c    3\n",
      "d    4\n",
      "e    5\n",
      "dtype: int64\n",
      "Index(['a', 'b', 'c', 'd', 'e'], dtype='object')\n",
      "[('a', 1), ('b', 2), ('c', 3), ('d', 4), ('e', 5)]\n",
      "a    1000\n",
      "b       2\n",
      "c       3\n",
      "d       4\n",
      "e       5\n",
      "dtype: int64\n"
     ]
    }
   ],
   "source": [
    "print(ser)\n",
    "print(ser.keys())\n",
    "print(list(ser.items()))\n",
    "ser['a'] = 1000\n",
    "print(ser)"
   ]
  },
  {
   "cell_type": "code",
   "execution_count": 92,
   "id": "81498b29",
   "metadata": {},
   "outputs": [
    {
     "name": "stdout",
     "output_type": "stream",
     "text": [
      "a    1000\n",
      "b       2\n",
      "c       3\n",
      "dtype: int64\n",
      "a    1000\n",
      "b       2\n",
      "c       3\n",
      "dtype: int64\n",
      "a    1000\n",
      "e       5\n",
      "dtype: int64\n",
      "b    2\n",
      "c    3\n",
      "d    4\n",
      "dtype: int64\n",
      "1000\n",
      "2\n",
      "a    1000\n",
      "b       2\n",
      "dtype: int64\n"
     ]
    }
   ],
   "source": [
    "print(ser['a':'c']) # 명시적 index\n",
    "print(ser[0:3]) # 암시적 index\n",
    "# 비교\n",
    "print(ser[(ser > 4)])\n",
    "# 마스킹 : 논리\n",
    "## 2 ~ 4\n",
    "print(ser[(ser>=2) & (ser<=4)])\n",
    "print(ser['a'])\n",
    "print(ser['b'])\n",
    "print(ser[['a','b']]) #팬시  index # Series로 출력"
   ]
  },
  {
   "cell_type": "code",
   "execution_count": 103,
   "id": "61d12ae2",
   "metadata": {},
   "outputs": [
    {
     "name": "stdout",
     "output_type": "stream",
     "text": [
      "a    1\n",
      "b    2\n",
      "c    3\n",
      "d    4\n",
      "e    5\n",
      "dtype: int64\n",
      "1\n",
      "1\n",
      "a\n",
      "b\n",
      "a\n",
      "1    a\n",
      "3    b\n",
      "dtype: object\n",
      "1    a\n",
      "3    b\n",
      "dtype: object\n",
      "3    b\n",
      "5    c\n",
      "dtype: object\n"
     ]
    }
   ],
   "source": [
    "ser = pd.Series([1,2,3,4,5], index=['a','b','c','d','e'])\n",
    "print(ser)\n",
    "print(ser['a'])\n",
    "print(ser[0])\n",
    "data = pd.Series(['a', 'b', 'c'], index=[1, 3, 5]) \n",
    "#                                        0  1  2\n",
    "#indexing\n",
    "print(data[1]) # 명시적 index\n",
    "print(data.iloc[1]) #암시적 index\n",
    "print(data.loc[1]) # 명시적 index\n",
    "#slicing\n",
    "print(data.loc[1:3])# 명시적 index\n",
    "print(data.iloc[0:2]) #암시적 index\n",
    "print(data[1:3]) # 암시적 index"
   ]
  },
  {
   "cell_type": "code",
   "execution_count": 104,
   "id": "43f8e587",
   "metadata": {},
   "outputs": [
    {
     "name": "stdout",
     "output_type": "stream",
     "text": [
      "   data  data1  data2\n",
      "a  0.25   0.10    0.2\n",
      "b  0.50   0.25    0.3\n",
      "c  0.75   0.80    0.5\n",
      "d  1.00   0.90    0.8\n"
     ]
    }
   ],
   "source": [
    "arr = np.array([1,2,3]) \n",
    "arr2 = np.array([[1,2,3],[1,2,3],[1,2,3]])\n",
    "# DataFrame : 다차원 배열 : 2차원 배열       \n",
    "                                               # 행번호\n",
    "data  = pd.Series([0.25, 0.5, 0.75, 1.0], index=['a','b','c','d'])\n",
    "data1 = pd.Series([0.1, 0.25, 0.8, 0.9], index=['a','b','c','d'])\n",
    "data2 = pd.Series([0.2, 0.3, 0.5, 0.8], index=['a','b','c','d'])\n",
    "\n",
    "df = pd.DataFrame({\"data\":data,\"data1\":data1,\"data2\":data2})\n",
    "print(df)"
   ]
  },
  {
   "cell_type": "code",
   "execution_count": 107,
   "id": "1407ad34",
   "metadata": {},
   "outputs": [
    {
     "name": "stdout",
     "output_type": "stream",
     "text": [
      "     area     pop\n",
      "a   12121   45456\n",
      "b   23232  685675\n",
      "c  343434  573532\n",
      "d   55454  353535\n",
      "e   45454   35235\n",
      "a     12121\n",
      "b     23232\n",
      "c    343434\n",
      "d     55454\n",
      "e     45454\n",
      "Name: area, dtype: int64\n",
      "a     12121\n",
      "b     23232\n",
      "c    343434\n",
      "d     55454\n",
      "e     45454\n",
      "Name: area, dtype: int64\n"
     ]
    }
   ],
   "source": [
    "area = pd.Series({'a': 12121, 'b': 23232,'c': 343434, 'd': 55454, 'e': 45454})\n",
    "pop = pd.Series({'a': 45456, 'b': 685675,'c': 573532, 'd': 353535, 'e': 35235})\n",
    "df1 = pd.DataFrame({\"area\":area, \"pop\":pop})\n",
    "print(df1)\n",
    "print(df1['area'])\n",
    "print(df1.area)"
   ]
  },
  {
   "cell_type": "code",
   "execution_count": 113,
   "id": "b19e9b95",
   "metadata": {},
   "outputs": [
    {
     "name": "stdout",
     "output_type": "stream",
     "text": [
      "1\n",
      "{'a': 3, 'b': 2}\n",
      "{'a': 3, 'b': 2, 'c': 10}\n",
      "     area     pop   density\n",
      "a   12121   45456  0.266653\n",
      "b   23232  685675  0.033882\n",
      "c  343434  573532  0.598805\n",
      "d   55454  353535  0.156856\n",
      "e   45454   35235  1.290024\n",
      "a     12121\n",
      "b     23232\n",
      "c    343434\n",
      "d     55454\n",
      "e     45454\n",
      "Name: area, dtype: int64\n",
      "a     45456\n",
      "b    685675\n",
      "c    573532\n",
      "d    353535\n",
      "e     35235\n",
      "Name: pop, dtype: int64\n",
      "a    0.266653\n",
      "b    0.033882\n",
      "c    0.598805\n",
      "d    0.156856\n",
      "e    1.290024\n",
      "dtype: float64\n",
      "     area     pop   density\n",
      "a   12121   45456  0.266653\n",
      "b   23232  685675  0.033882\n",
      "c  343434  573532  0.598805\n",
      "d   55454  353535  0.156856\n",
      "e   45454   35235  1.290024\n",
      "                    a              b              c              d  \\\n",
      "area     12121.000000   23232.000000  343434.000000   55454.000000   \n",
      "pop      45456.000000  685675.000000  573532.000000  353535.000000   \n",
      "density      0.266653       0.033882       0.598805       0.156856   \n",
      "\n",
      "                    e  \n",
      "area     45454.000000  \n",
      "pop      35235.000000  \n",
      "density      1.290024  \n"
     ]
    }
   ],
   "source": [
    "dic = {'a':1, 'b' : 2}\n",
    "print(dic['a'])\n",
    "dic['a'] = 3 \n",
    "print(dic)\n",
    "dic['c'] = 10\n",
    "print(dic)\n",
    "\n",
    "print(df1)\n",
    "print(df1['area'])\n",
    "print(df1['pop'])\n",
    "print(df1['area'] / df1['pop'])\n",
    "df1['density'] = df1['area'] / df1['pop']\n",
    "print(df1)\n",
    "print(df1.T)"
   ]
  },
  {
   "cell_type": "code",
   "execution_count": 129,
   "id": "87ba6172",
   "metadata": {
    "scrolled": true
   },
   "outputs": [
    {
     "name": "stdout",
     "output_type": "stream",
     "text": [
      "a     12121\n",
      "b     23232\n",
      "c    343434\n",
      "d     55454\n",
      "e     45454\n",
      "dtype: int64\n",
      "Index(['a', 'b', 'c', 'd', 'e'], dtype='object')\n",
      "[ 12121  23232 343434  55454  45454]\n",
      "     area     pop   density\n",
      "a   12121   45456  0.266653\n",
      "b   23232  685675  0.033882\n",
      "c  343434  573532  0.598805\n",
      "d   55454  353535  0.156856\n",
      "e   45454   35235  1.290024\n",
      "Index(['area', 'pop', 'density'], dtype='object')\n",
      "[[1.21210000e+04 4.54560000e+04 2.66653467e-01]\n",
      " [2.32320000e+04 6.85675000e+05 3.38819412e-02]\n",
      " [3.43434000e+05 5.73532000e+05 5.98805298e-01]\n",
      " [5.54540000e+04 3.53535000e+05 1.56855757e-01]\n",
      " [4.54540000e+04 3.52350000e+04 1.29002412e+00]]\n",
      "area       12121.000000\n",
      "pop        45456.000000\n",
      "density        0.266653\n",
      "Name: a, dtype: float64\n",
      "area       12121.000000\n",
      "pop        45456.000000\n",
      "density        0.266653\n",
      "Name: a, dtype: float64\n"
     ]
    }
   ],
   "source": [
    "print(area)\n",
    "print(area.keys())\n",
    "print(area.values) # 1차원배열\n",
    "print(df1)\n",
    "print(df1.keys())\n",
    "print(df1.values) # 2차원배열\n",
    "\n",
    "# 12124 : 1.2124 * 10^4 : 1.2124 * e+4\n",
    "print(df1.loc['a'])\n",
    "print(df1.iloc[0])"
   ]
  },
  {
   "cell_type": "code",
   "execution_count": 130,
   "id": "7de5c77a",
   "metadata": {},
   "outputs": [
    {
     "name": "stdout",
     "output_type": "stream",
     "text": [
      "a     12121\n",
      "b     23232\n",
      "c    343434\n",
      "d     55454\n",
      "e     45454\n",
      "dtype: int64\n",
      "a     12121\n",
      "b     23232\n",
      "c    343434\n",
      "d     55454\n",
      "e     45454\n",
      "dtype: int64\n"
     ]
    }
   ],
   "source": []
  }
 ],
 "metadata": {
  "kernelspec": {
   "display_name": "Python 3",
   "language": "python",
   "name": "python3"
  },
  "language_info": {
   "codemirror_mode": {
    "name": "ipython",
    "version": 3
   },
   "file_extension": ".py",
   "mimetype": "text/x-python",
   "name": "python",
   "nbconvert_exporter": "python",
   "pygments_lexer": "ipython3",
   "version": "3.8.11"
  }
 },
 "nbformat": 4,
 "nbformat_minor": 5
}
