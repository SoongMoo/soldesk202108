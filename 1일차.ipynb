{
 "cells": [
  {
   "cell_type": "code",
   "execution_count": 4,
   "id": "2bc84f6f",
   "metadata": {},
   "outputs": [
    {
     "name": "stdout",
     "output_type": "stream",
     "text": [
      "8\n",
      "2\n",
      "20\n",
      "1.25\n",
      "1\n",
      "3\n",
      "100\n"
     ]
    }
   ],
   "source": [
    "##### 자료형 : 데이터의 형태 ,\n",
    "##             숫자 : 0,1,2,3,    0.1, 0.2, 0.3\n",
    "##                    정수            실수\n",
    "###   연산자 : 데이터를 다루기 위한 기호\n",
    "### 숫자형태인 데이터를 다루기 위한 연산자\n",
    "# 숫자 : 1,2,3,10.3\n",
    "## 이숭무, abcd, 1,23 : 자연어 : 리터널\n",
    "print( 3 + 5)\n",
    "print( 5 - 3)\n",
    "print( 5 * 4)\n",
    "print( 5 / 4)\n",
    "print( 10 % 3) # 나머지 연산\n",
    "print( 10 // 3) # 몫\n",
    "print( 10 ** 2) # 제곱승"
   ]
  },
  {
   "cell_type": "code",
   "execution_count": 11,
   "id": "1e4f7431",
   "metadata": {},
   "outputs": [
    {
     "name": "stdout",
     "output_type": "stream",
     "text": [
      "10\n",
      "5\n",
      "56\n",
      "61\n",
      "61\n",
      "10\n",
      "이숭무\n"
     ]
    }
   ],
   "source": [
    "### 값을 담는 문자 : 변수 : \n",
    "### 리터널을 변수에 담아서 사용하는 것이 좋다.\n",
    "a = 10\n",
    "print(a)\n",
    "a = 5 \n",
    "print(a)\n",
    "bbb = 56\n",
    "print(bbb)\n",
    "print(5 + 56)\n",
    "print(a  + bbb)\n",
    "\n",
    "# 숫자에서 다루는 연산자 : +, - ,/ , *, % , // , ** \n",
    "# 변수를 타입을 정하지 않는다.\n",
    "a = 10\n",
    "print(a)\n",
    "a = '이숭무'\n",
    "print(a)"
   ]
  },
  {
   "cell_type": "code",
   "execution_count": 20,
   "id": "8ef595b6",
   "metadata": {
    "scrolled": false
   },
   "outputs": [
    {
     "name": "stdout",
     "output_type": "stream",
     "text": [
      "6\n",
      "33\n",
      "##############################\n",
      "Hello World\n",
      "Python is fun\n",
      "Life is too short, You need python\n",
      "Life is too short, You need python\n",
      "Life is too short, \n",
      "You need python\n",
      "Life is too short, \n",
      "You need python\n",
      "Life is too short, \n",
      "You need python\n",
      "Life's too short, You need python\n",
      "Life is too short, \"You need python\"\n",
      "Life's too short, \"You need python\"\n",
      "akl\"ADf\"Da'dasf\"ADSF'SDAf\"\n"
     ]
    }
   ],
   "source": [
    "#### 숫자 : 3, '3'\n",
    "#### 문자열: 'a', \"a\"\n",
    "#### 변수 : a\n",
    "a = 'a'\n",
    "print(3 + 3) ## 덧셈 연산자\n",
    "##print('3' + 3)\n",
    "print( '3' + '3' ) ### 연결연산자\n",
    "print('#' * 30)\n",
    "print(\"Hello World\")\n",
    "print('Python is fun')\n",
    "print('Life is too short, You need python')\n",
    "print(\"Life is too short, You need python\")\n",
    "str1 = '''Life is too short, \n",
    "You need python'''\n",
    "print(str1)\n",
    "print('''Life is too short, \n",
    "You need python''')\n",
    "str1 = \"\"\"Life is too short, \n",
    "You need python\"\"\"\n",
    "print(str1)\n",
    "### 문자열을 나타내는 방법 : '',\"\",'''''',\"\"\"\"\"\"\n",
    "print(\"Life's too short, You need python\")\n",
    "print('Life is too short, \"You need python\"')\n",
    "print('Life\\'s too short, \"You need python\"')\n",
    "\n",
    "print(\"akl\\\"ADf\\\"Da'dasf\\\"ADSF'SDAf\\\"\")\n"
   ]
  },
  {
   "cell_type": "code",
   "execution_count": 2,
   "id": "88be4265",
   "metadata": {},
   "outputs": [
    {
     "name": "stdout",
     "output_type": "stream",
     "text": [
      "Life is too short, \n",
      "You need python\n",
      "Life is too short,\n",
      " You need python\n"
     ]
    }
   ],
   "source": [
    "print('''Life is too short, \n",
    "You need python''')\n",
    "\n",
    "print('Life is too short,\\n You need python')"
   ]
  },
  {
   "cell_type": "code",
   "execution_count": 4,
   "id": "8ff344c9",
   "metadata": {},
   "outputs": [
    {
     "name": "stdout",
     "output_type": "stream",
     "text": [
      "Python is fun!\n",
      "Python is fun!\n"
     ]
    }
   ],
   "source": [
    "print( \"Python\" + \" is fun!\")\n",
    "head = \"Python\"\n",
    "tail = \" is fun!\"\n",
    "print(head + tail)"
   ]
  },
  {
   "cell_type": "code",
   "execution_count": 7,
   "id": "3212950b",
   "metadata": {},
   "outputs": [
    {
     "name": "stdout",
     "output_type": "stream",
     "text": [
      "Python is fun!\n",
      "Python is fun!\n",
      "PythonPythonPython\n",
      "headheadhead\n"
     ]
    }
   ],
   "source": [
    "print(head * 3)\n",
    "print('head' * 3) ## 반복 연산자."
   ]
  },
  {
   "cell_type": "code",
   "execution_count": 9,
   "id": "eb71ed9f",
   "metadata": {},
   "outputs": [
    {
     "name": "stdout",
     "output_type": "stream",
     "text": [
      "=================================================\n",
      "My Program\n",
      "==================================================\n"
     ]
    }
   ],
   "source": [
    "print(\"=================================================\")\n",
    "print(\"My Program\")\n",
    "print(\"=\" * 50)"
   ]
  },
  {
   "cell_type": "code",
   "execution_count": 3,
   "id": "c1a0d054",
   "metadata": {},
   "outputs": [
    {
     "name": "stdout",
     "output_type": "stream",
     "text": [
      "34\n",
      "Y\n",
      "P\n",
      "Life\n",
      "n\n",
      "n\n",
      "L\n",
      "L\n",
      "L\n",
      "y\n"
     ]
    }
   ],
   "source": [
    "#### +, * \n",
    "a ='Life is too short, You need Python'\n",
    "### 0123456789012345678901234567890123    : index\n",
    "###           1         2         3\n",
    "## -4                         87654321 \n",
    "##  3\n",
    "print(len(a))\n",
    "print(a[19]) # indexing\n",
    "print(a[28])\n",
    "print(a[0]+a[1]+a[2]+a[3])\n",
    "print(a[33])\n",
    "print(a[-1])\n",
    "print(a[-34])\n",
    "print(a[0])\n",
    "print(a[-0])\n",
    "print(a[-5])"
   ]
  },
  {
   "cell_type": "code",
   "execution_count": 5,
   "id": "79c15573",
   "metadata": {},
   "outputs": [
    {
     "name": "stdout",
     "output_type": "stream",
     "text": [
      "Life\n",
      "Life is too short, You need Python\n",
      "Life\n",
      "is t\n",
      "Lif\n",
      "short, You n\n"
     ]
    }
   ],
   "source": [
    "print(a[0]+a[1]+a[2]+a[3])\n",
    "# slicing\n",
    "print(a)      # 0 <= a < 4\n",
    "print(a[0:4]) # 0부터 4가 되기전까지 print(a[0:3])가 이닌 print(a[0:0+4])\n",
    "print(a[5:5+4])  # 5 <= a < 9\n",
    "print(a[0:3])\n",
    "# short\n",
    "bb = 12\n",
    "print(a[ 12 : 12 + bb ])\n",
    "##### http://www.naver.com/search"
   ]
  },
  {
   "cell_type": "code",
   "execution_count": 17,
   "id": "5b547017",
   "metadata": {},
   "outputs": [
    {
     "name": "stdout",
     "output_type": "stream",
     "text": [
      "Life\n",
      "is to\n",
      "is to\n",
      "Life is too short, You need Python\n",
      "Life\n",
      "Life\n",
      "ython\n",
      "L\n",
      "L\n",
      "ython\n",
      "Life is too short, You need Python\n",
      "Life is too short, You need Python\n"
     ]
    }
   ],
   "source": [
    "a ='Life is too short, You need Python'\n",
    "print(a[0]+a[1]+a[2]+a[3]) # indexing\n",
    "#### slicing\n",
    "print(a[5 : 10 ])\n",
    "print(a[5 : 5 + 5 ])\n",
    "print(a)\n",
    "print(a[0:4])\n",
    "print(a[:4])\n",
    "print(a[-5:34])\n",
    "print(a[0])\n",
    "print(a[-0])\n",
    "print(a[-5:])\n",
    "\n",
    "print(a[:]) #### 처음부터 끝까지\n",
    "print(a[0:34])"
   ]
  },
  {
   "cell_type": "code",
   "execution_count": 26,
   "id": "cf185d47",
   "metadata": {
    "collapsed": true
   },
   "outputs": [
    {
     "name": "stdout",
     "output_type": "stream",
     "text": [
      "20010331\n",
      "Rainy\n",
      "0331\n",
      "pithon\n",
      "python\n",
      "python\n",
      "python\n",
      "\n",
      "on\n",
      "o\n"
     ]
    }
   ],
   "source": [
    "a = \"20010331Rainy\"\n",
    "print(a[:8])\n",
    "print(a[8:])\n",
    "print(a[4:4+4])\n",
    "\n",
    "a = 'pithon'\n",
    "print(a)\n",
    "# a[1] = 'y'; 문자열 데이터는 indexing 을 이용해서 문자를 변경할 수 없다.\n",
    "a = 'python'\n",
    "print(a)\n",
    "print(a[0]+'y'+a[2:])\n",
    "\n",
    "\n",
    "print(a[:8]) ; print(a[8:]) ; print(a[4:4+4])\n",
    "print(a[4])\n",
    "#### +,  * , indexing, slicing, # 문자열 처리 방법\n",
    "### 계좌번호 , 예금주, 금액\n",
    "###  1111,이숭무,100\n",
    "# 이숭무님의 계좌번호는 1111이고 잔액은 100입니다."
   ]
  },
  {
   "cell_type": "code",
   "execution_count": 30,
   "id": "c18d31a4",
   "metadata": {
    "collapsed": true
   },
   "outputs": [
    {
     "name": "stdout",
     "output_type": "stream",
     "text": [
      "이숭무님의 1111계좌에는 100원입니다.\n",
      "이숭무님의 1111계좌에는 100원입니다.\n",
      "이숭무님의 1111계좌에는 100원입니다.\n",
      "이숭무님의 1111계좌에는 100원입니다.\n"
     ]
    }
   ],
   "source": [
    "# 문자열 포매팅\n",
    "account = '1111'\n",
    "name = '이숭무'\n",
    "money = 100\n",
    "# 이숭무님의 1111계좌에는 100원이 있습니다.\n",
    "# print(name +\"님의 \" + account +\"계좌에는 \" + money +\"원이 있습니다.\")\n",
    "print('%s님의 %s계좌에는 %d원입니다.' % (name,account,money))\n",
    "### %s, %d를 포맷문자\n",
    "print('%s님의 %s계좌에는 %d원입니다.' % ('이숭무','1111',100))\n",
    "money = '100'\n",
    "print('%s님의 %s계좌에는 %s원입니다.' % (name,account,money))\n",
    "money = 100\n",
    "print('%s님의 %s계좌에는 %s원입니다.' % (name,account,money))"
   ]
  },
  {
   "cell_type": "code",
   "execution_count": 33,
   "id": "97e54aa9",
   "metadata": {
    "collapsed": true
   },
   "outputs": [
    {
     "name": "stdout",
     "output_type": "stream",
     "text": [
      "나의 나이는 25살이고 키는 170.500000입니다.\n",
      "나의 나이는 25살이고 키는 170.5입니다.\n",
      "나의 나이는 25살이고 키는 170.500000입니다.\n"
     ]
    }
   ],
   "source": [
    "# 나의 나이는 25살이고 키는 170.5입니다.\n",
    "print(\"나의 나이는 %d살이고 키는 %f입니다.\" % (25, 170.5))\n",
    "#99.999 , 99.999999\n",
    "print(\"나의 나이는 %d살이고 키는 %5.1f입니다.\" % (25, 170.5))\n",
    "print(\"나의 나이는 %d살이고 키는 %5f입니다.\" % (25, 170.5))"
   ]
  },
  {
   "cell_type": "code",
   "execution_count": 35,
   "id": "311efb07",
   "metadata": {},
   "outputs": [
    {
     "name": "stdout",
     "output_type": "stream",
     "text": [
      "나의 나이는 25살입니다.\n"
     ]
    }
   ],
   "source": [
    "# 나의 나이는 25살입니다.\n",
    "print(\"나의 나이는 %d살입니다.\" % 25)"
   ]
  },
  {
   "cell_type": "code",
   "execution_count": 38,
   "id": "10b5a929",
   "metadata": {
    "scrolled": true
   },
   "outputs": [
    {
     "name": "stdout",
     "output_type": "stream",
     "text": [
      "나의 나이는 25살이고 키는 170.5입니다.\n",
      "나의 나이는 25살이고 키는 170.5입니다.\n"
     ]
    }
   ],
   "source": [
    "print(\"나의 나이는 %d살이고 키는 %3.1f입니다.\" % (25, 170.5))\n",
    "print(\"나의 나이는 %d살이고 키는 %.1f입니다.\" % (25, 170.5))"
   ]
  },
  {
   "cell_type": "code",
   "execution_count": 39,
   "id": "c1225bd5",
   "metadata": {},
   "outputs": [
    {
     "name": "stdout",
     "output_type": "stream",
     "text": [
      "나의 나이는 25살이고 키는 170.5입니다.\n",
      "나의 나이는 25살이고 키는 170.5입니다.\n"
     ]
    }
   ],
   "source": [
    "print(\"나의 나이는 %d살이고 키는 %5.1f입니다.\" % (25, 170.5))\n",
    "print(\"나의 나이는 %d살이고 키는 %3.1f입니다.\" % (25, 170.5))\n",
    "print(\"나의 나이는 %d살이고 키는 %.1f입니다.\" % (25, 170.5))"
   ]
  },
  {
   "cell_type": "code",
   "execution_count": 41,
   "id": "7a067fa3",
   "metadata": {},
   "outputs": [
    {
     "name": "stdout",
     "output_type": "stream",
     "text": [
      "나의 나이는 25살이고 키는      170.5입니다.\n",
      "나의 나이는 25살이고 키는 170.5     입니다.\n"
     ]
    }
   ],
   "source": [
    "print(\"나의 나이는 %d살이고 키는 %10.1f입니다.\" % (25, 170.5))\n",
    "print(\"나의 나이는 %d살이고 키는 %-10.1f입니다.\" % (25, 170.5))"
   ]
  },
  {
   "cell_type": "code",
   "execution_count": 50,
   "id": "fbcc5b2c",
   "metadata": {},
   "outputs": [
    {
     "name": "stdout",
     "output_type": "stream",
     "text": [
      "I eat 5 apples\n",
      "I eat five apples\n",
      "I eat 17.5 apples\n",
      "I eat (0) apples\n",
      "I eat 170.5 apples\n"
     ]
    }
   ],
   "source": [
    "# format 함수를 사용한 포매팅\n",
    "# a, a(), 'a'\n",
    "# 입력값을 주고 결과를 받아 올수 있게 만든 명령문을 함수\n",
    "print(\"I eat {0} apples\".format(5) )\n",
    "print(\"I eat {0} apples\".format(\"five\") )\n",
    "print(\"I eat {0} apples\".format(17.5) )\n",
    "print(\"I eat (0) apples\".format(17.5) )\n",
    "height = 170.5\n",
    "print(\"I eat {0} apples\".format(height) )"
   ]
  },
  {
   "cell_type": "code",
   "execution_count": 53,
   "id": "d50380b1",
   "metadata": {},
   "outputs": [
    {
     "name": "stdout",
     "output_type": "stream",
     "text": [
      "I 14 eat 170.5 apples 이다 \n"
     ]
    }
   ],
   "source": [
    "print(\"Ieat {0} apples 이다 \".format(height)  )"
   ]
  },
  {
   "cell_type": "code",
   "execution_count": 58,
   "id": "d34c5e88",
   "metadata": {},
   "outputs": [
    {
     "name": "stdout",
     "output_type": "stream",
     "text": [
      "나는 이숭무이고 나이는 35살이며사과를 5개 먹었습니다.\n"
     ]
    }
   ],
   "source": [
    "#나는 이숭무이고 나이는 35살이며 사과를 5개 먹었습니다.\"\n",
    "print(\"나는 %s이고 나이는 %d살이며사과를 {0}개 먹었습니다.\".format(5) \n",
    "      % ('이숭무',35))"
   ]
  },
  {
   "cell_type": "code",
   "execution_count": 63,
   "id": "b7347492",
   "metadata": {},
   "outputs": [
    {
     "name": "stdout",
     "output_type": "stream",
     "text": [
      "나는 이숭무이고 나이는 35살이다.\n",
      "나이는 35살이고 이름은 이숭무입니다.\n",
      "나이는 35살이고 이름은 이숭무입니다. 그리고 블로그명이 이숭무입니다.\n"
     ]
    }
   ],
   "source": [
    "print(\"나는 {0}이고 나이는 {1}살이다.\".format(\"이숭무\", 35))\n",
    "print(\"나이는 {1}살이고 이름은 {0}입니다.\".format(\"이숭무\", 35))\n",
    "print(\"나이는 {1}살이고 이름은 {0}입니다. 그리고 블로그명이 {0}입니다.\"\n",
    "      .format(\"이숭무\", 35))"
   ]
  },
  {
   "cell_type": "code",
   "execution_count": 72,
   "id": "914ffa8e",
   "metadata": {},
   "outputs": [
    {
     "name": "stdout",
     "output_type": "stream",
     "text": [
      "나이는 35살이고 이름은 이숭무입니다.\n",
      "나이는 35살이고 이름은 이숭무이고 블로그인 이숭무입니다.\n",
      "나이는 35살이고 이름은 이숭무이고 블로그인 이숭무입니다.\n"
     ]
    }
   ],
   "source": [
    "### 인덱스와 이름을 혼용해서 넣기\n",
    "print(\"나이는 {0}살이고 이름은 {name}입니다.\".format(35, name='이숭무'))\n",
    "print(\"나이는 {0}살이고 이름은 {name}이고 블로그인 {name}입니다.\"\n",
    "      .format(35, name='이숭무'))\n",
    "\n",
    "n1 =  '이숭무'\n",
    "age1 = 35\n",
    "print(\"나이는 {0}살이고 이름은 {name}이고 블로그인 {name}입니다.\"\n",
    "      .format( age1, name = n1 ))\n",
    "\n",
    "\n",
    "### index를 사용하는 경우에는 0부터 써야한다.\n",
    "# print(\"나이는 {1}살이고 이름은 {name}이고 블로그인 {name}입니다.\"\n",
    "#      .format(name = n , age  ))"
   ]
  },
  {
   "cell_type": "code",
   "execution_count": 80,
   "id": "a0a23ab2",
   "metadata": {},
   "outputs": [
    {
     "name": "stdout",
     "output_type": "stream",
     "text": [
      "나는 내년이면 31살이 된다.\n",
      "나의 이름은 이숭무이고 나이는 30살입니다.\n",
      "홍길동\n",
      "30\n",
      "나의 이름은 홍길동이고 나이는 30살입니다.\n"
     ]
    }
   ],
   "source": [
    "#### f 문자열 포매팅\n",
    "age = 30\n",
    "print(f'나는 내년이면 {age+1}살이 된다.')\n",
    "name = \"이숭무\"\n",
    "print(f'나의 이름은 {name}이고 나이는 {age}살입니다.')\n",
    "\n",
    "d = {'name':'홍길동', 'age':30} # 딕셔너리\n",
    "print(d['name'])\n",
    "print(d['age'])\n",
    "print(f'나의 이름은 {d[\"name\"]}이고 나이는 {d[\"age\"]}살입니다.')"
   ]
  },
  {
   "cell_type": "code",
   "execution_count": 96,
   "id": "da3afe77",
   "metadata": {},
   "outputs": [
    {
     "name": "stdout",
     "output_type": "stream",
     "text": [
      "5\n",
      "2\n",
      "14\n",
      "14\n",
      "-1\n",
      "해당문자는 없습니다.\n",
      "10\n",
      "10\n",
      "17\n",
      "17\n",
      "HI\n",
      "hi\n"
     ]
    }
   ],
   "source": [
    "#### \"\", ','''''',\"\"\"\"\"\", + , * , indexing, slcing, \n",
    "###  포맷문자, 포맷함수 , f 문자열 포매팅\n",
    "### 문자열데이터 쉽게 가공하기 위해서 문자열 함수\n",
    "a = \"hobby\"\n",
    "print(len(a))\n",
    "# 문자의 갯수\n",
    "print(a.count('b'))\n",
    "a = \"Python is the best choice\"\n",
    "###\\원하는 문자열의 위치 #rint(a.indexOf('o'))\n",
    "print(a.index('b'))\n",
    "print(a.find('b'))\n",
    "print(a.find('k')) # 해당문자나 문자열이 없는 경우에는 -1을 출력\n",
    "#print(a.index('k')) # 없는 문자나 문자열을 찾는다고 할 수 없다.\n",
    "### 원하는 문자나 문자열이 있는지 없는지 비교할 때 \n",
    "if a.find('k') == -1:\n",
    "    print(\"해당문자는 없습니다.\")\n",
    "    \n",
    "else:\n",
    "    print(\"사용가능한 문자입니다.\")\n",
    "print(a.find('t', 4))\n",
    "print(a.index('t', 4))\n",
    "print(a.rfind('t'))\n",
    "print(a.rindex('t'))\n",
    "\n",
    "a = \"hi\"\n",
    "print(a.upper())\n",
    "a = 'HI'\n",
    "print(a.lower())"
   ]
  },
  {
   "cell_type": "code",
   "execution_count": 107,
   "id": "0e47e9ef",
   "metadata": {},
   "outputs": [
    {
     "name": "stdout",
     "output_type": "stream",
     "text": [
      " abcd \n",
      "abcd\n",
      "abcd \n",
      " abcd\n",
      "ab cd\n",
      "bacd\n",
      "['Life', 'is', 'too', 'short']\n",
      "['Life', 'is', 'too', 'short']\n"
     ]
    }
   ],
   "source": [
    "a  = ' abcd '  # 양옆에 있는 공백문자만 삭제\n",
    "print(a)\n",
    "print(a.strip())\n",
    "print(a.lstrip())\n",
    "print(a.rstrip())\n",
    "a  = ' ab cd '\n",
    "print(a.strip())\n",
    "a = 'abacda'\n",
    "print(a.strip('a'))\n",
    "\n",
    "\"Life is too short\".replace(\"Life\", \"Your leg\")\n",
    "\n",
    "##### 별표 다섯개....\n",
    "a = \"Life is too short\"\n",
    "b = a.split() \n",
    "print(b) ## 배열이 없다.\n",
    "a = \"Life:is:too:short\"\n",
    "b = a.split(\":\")  #### 리스트로 저장\n",
    "print(b)"
   ]
  },
  {
   "cell_type": "code",
   "execution_count": 118,
   "id": "9b8715a3",
   "metadata": {},
   "outputs": [
    {
     "name": "stdout",
     "output_type": "stream",
     "text": [
      "Python's favorite food is perl\n",
      "o\n",
      "[1, 2, 3]\n",
      "2\n",
      "==============================\n",
      "1\n",
      "3\n",
      "4\n",
      "3\n"
     ]
    }
   ],
   "source": [
    "### 자료형\n",
    "### 숫자 : 정수 : 1,2,3 : 실수 : 10.5\n",
    "###              '1', 1\n",
    "### 문자열 : '',\"\",'''''',\"\"\"\"\"\" ,  'a'\n",
    "### 리스트 : 여러개의 자료형을 하나로 관리할 수 있는 자료형\n",
    "###         []\n",
    "\n",
    "odd = [1, 3, 5, 7, 9] \n",
    "a = [] # 빈리스트\n",
    "b = [1, 2, 3] # 정수형 리스트\n",
    "c = ['Life', 'is', 'too', 'short'] # 문자열 리스트\n",
    "d = [1, 2, 'Life', 'is'] # 혼합 리스트\n",
    "e = [1, 2, ['Life', 'is']] # 리스트안 리스트가 있는 리스트\n",
    "e = [1, 2, ('Life', 'is'), ['Life', 'is'],{'a':1}]\n",
    "\n",
    "a = \"Python's favorite food is perl\"\n",
    "#    0123456789012345\n",
    "# -                             321\n",
    "print(a)\n",
    "print(a[12])\n",
    "b = [1, 2, 3] #### 각 요소마다 index를 가지고 있다.\n",
    "#    0  1  2\n",
    "#  - 3  2  1\n",
    "print(b)\n",
    "print(b[1])\n",
    "print(\"=\" * 30)\n",
    "print(b[0])\n",
    "print(b[2])\n",
    "print(b[0]+b[2])\n",
    "print(b[-1])"
   ]
  },
  {
   "cell_type": "code",
   "execution_count": 123,
   "id": "ae6c41dd",
   "metadata": {},
   "outputs": [
    {
     "name": "stdout",
     "output_type": "stream",
     "text": [
      "['a', 'b', 'c']\n",
      "b\n",
      "b\n"
     ]
    }
   ],
   "source": [
    "a = [1, 2, 3, ['a', 'b', 'c']]\n",
    "#    0  1  2         3\n",
    "#               0    1    2\n",
    "b = a[3]\n",
    "print(b)\n",
    "print(b[1])\n",
    "print(a[3][1])"
   ]
  },
  {
   "cell_type": "code",
   "execution_count": 124,
   "id": "137ca50f",
   "metadata": {},
   "outputs": [
    {
     "name": "stdout",
     "output_type": "stream",
     "text": [
      "c\n",
      "b\n"
     ]
    }
   ],
   "source": [
    "a = [1, 2, 3, ['a', 'b', 'c']]\n",
    "#  -  4  3  2        1\n",
    "#  -             3   2    1 \n",
    "print(a[-1][-1])\n",
    "print(a[-1][1])"
   ]
  },
  {
   "cell_type": "code",
   "execution_count": 125,
   "id": "82d451c8",
   "metadata": {},
   "outputs": [
    {
     "name": "stdout",
     "output_type": "stream",
     "text": [
      "Life\n"
     ]
    }
   ],
   "source": [
    "a = [1, 2, ['a', 'b', ['Life', 'is']]]\n",
    "#    0  1              2\n",
    "#            0    1         2\n",
    "#                         0     1\n",
    "print(a[2][2][0])"
   ]
  },
  {
   "cell_type": "code",
   "execution_count": 129,
   "id": "0cb53eea",
   "metadata": {},
   "outputs": [
    {
     "name": "stdout",
     "output_type": "stream",
     "text": [
      "[1, 2]\n",
      "[1, 2]\n",
      "[2, 3]\n",
      "[2, 3]\n"
     ]
    }
   ],
   "source": [
    "### 리스트의 슬라이싱\n",
    "a = [1, 2, 3]\n",
    "print(a[0:2])\n",
    "print(a[:2])\n",
    "print(a[1:])\n",
    "print(a[1:3])"
   ]
  },
  {
   "cell_type": "code",
   "execution_count": 137,
   "id": "26941e05",
   "metadata": {},
   "outputs": [
    {
     "name": "stdout",
     "output_type": "stream",
     "text": [
      "[3, ['a', 'b', 'c'], 4]\n",
      "['a', 'b', 'c']\n",
      "b\n",
      "b\n"
     ]
    }
   ],
   "source": [
    "a = [1, 2, 3, ['a', 'b', 'c'], 4, 5]\n",
    "b = a[2:2+3]\n",
    "print(b)\n",
    "c = b[1]\n",
    "print(c)\n",
    "print(c[1])\n",
    "print(a[2:2+3][1][1])"
   ]
  },
  {
   "cell_type": "code",
   "execution_count": null,
   "id": "4cb63023",
   "metadata": {},
   "outputs": [],
   "source": []
  }
 ],
 "metadata": {
  "kernelspec": {
   "display_name": "Python 3",
   "language": "python",
   "name": "python3"
  },
  "language_info": {
   "codemirror_mode": {
    "name": "ipython",
    "version": 3
   },
   "file_extension": ".py",
   "mimetype": "text/x-python",
   "name": "python",
   "nbconvert_exporter": "python",
   "pygments_lexer": "ipython3",
   "version": "3.8.11"
  }
 },
 "nbformat": 4,
 "nbformat_minor": 5
}
